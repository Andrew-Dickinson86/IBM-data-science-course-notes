{
 "cells": [
  {
   "cell_type": "markdown",
   "metadata": {},
   "source": [
    "# <center><ins>Python Quick Reference"
   ]
  },
  {
   "cell_type": "markdown",
   "metadata": {},
   "source": [
    "[Python Reference Sheets](https://sinxloud.com/python-cheat-sheet-beginner-advanced/)"
   ]
  },
  {
   "cell_type": "markdown",
   "metadata": {},
   "source": [
    "|<td colspan=3> <center><bold><h3>**Table of contents**<center>|||\n",
    "|---|:---|:---:|\n",
    "|**1.**|[**Operator precedence rule in Python**](#Operator-precedence-rule-in-Python:)||\n",
    "|**2.**|[**Strings/Variables, Operators and Basics**](#Strings/Variables-and-Basics)|types, operators, comparisons,<br>escape sequences, basic methods<br>user input|\n",
    "|**3.**|[**Tuples**](#Tuples)|( )<br>immutable, ordered|\n",
    "|**4.**|[**Lists**](#Lists)|[ ]<br>mutable, ordered|\n",
    "|**5.**|[**Dictionaries**](#Dictionaries)|{ : , }<br>keys are mutable and unique|\n",
    "|**6.**|[**Sets**](#Sets)|{ }<br>unordered and unique elements|\n",
    "|**7.**|[**Branching**](#Branching)|if( ): else( ): elif( ):|\n",
    "|**8.**|[**Logic Operators**](#Logic-Operators)|not or and|\n",
    "|**9.**|[**Loops**](#Loops)|for :  while :  <br>break, continue, pass|\n",
    "|**10.**|[**Exception Handling**](#Exception-Handling)|built-in exceptions<br>try except statement<br>raise exception|\n",
    "|**11.**|[**Useful Built-in Functions**](#-Useful-Built-in-Functions)|range( ), enumerate( ),<br> .count( ), sum( )|\n",
    "|**12a.**|[**Working with Files<br>Opening and Reading Files**](#Opening-and-Reading-Files)|open function,<br> .name, .mode, .closed, .close( ) methods,<br> with statement,<br> .read( ), .readline( ), .readlines( ) methods|\n",
    "|**12b.**|[**Working with Files<br>Writing to Files**](#Writing-to-Files)|.write( ) method,<br>with statement,<br> .seek( ), .tell( ) methods<br>writting from a list, copying files|\n",
    "|**13.**|[**Building Functions**](#-Building-Functions)|define, call and help on functions<br>global / local scopes|\n",
    "|**14.**|[**Classes, Objects and Methods**](#Classes,-Objects-and-Methods)|define class, create objects,<br>access / change attributes,<br>create / call methods, dir command|\n",
    "|**15.**|[**Pandas**](#Pandas)|import library,<br>create df from file / dictionary / columns,<br>saving df,<br>head / tail / columns / index / shape / loc / iloc / unique methods,<br>selecting data,<br>set index / index name|\n",
    "|**16**|[**NumPy**](#NumPy)||\n",
    "|**End**|[**End of Notebook / Notes**](#Notes)||"
   ]
  },
  {
   "cell_type": "code",
   "execution_count": 1,
   "metadata": {},
   "outputs": [
    {
     "name": "stdout",
     "output_type": "stream",
     "text": [
      "3.7.6 (default, Jan  8 2020, 13:42:34) \n",
      "[Clang 4.0.1 (tags/RELEASE_401/final)]\n"
     ]
    }
   ],
   "source": [
    "# Check the Python Version\n",
    "\n",
    "import sys\n",
    "print(sys.version)"
   ]
  },
  {
   "cell_type": "markdown",
   "metadata": {},
   "source": [
    "---"
   ]
  },
  {
   "cell_type": "markdown",
   "metadata": {},
   "source": [
    "## <center>Operator precedence rule in Python:</center>"
   ]
  },
  {
   "cell_type": "markdown",
   "metadata": {},
   "source": [
    "|||\n",
    "|---|---|\n",
    "|()| Parentheses|\n",
    "|**| Exponent|\n",
    "|+x, -x, ~x| Unary plus, Unary minus, Bitwise NOT|\n",
    "|*, /, //, % |Multiplication, Division, Floor Division, Modulus|\n",
    "|+, - |Addition, Subtraction|\n",
    "|<<, >> |Bitwise shift operators|\n",
    "|& |Bitwise AND|\n",
    "|^ |Bitwise XOR|\n",
    "|\\|| Bitwise OR|\n",
    "|==, !=, >, >=, <, <=, is, is not, in, not in       |Comparisions, Identity, Membership operators|\n",
    "|not |Logical NOT|\n",
    "|and |Logical AND|\n",
    "|or |Logical OR|"
   ]
  },
  {
   "cell_type": "markdown",
   "metadata": {},
   "source": [
    "[<p style=\"text-align: right;\">**⬆ Table of Contents ⬆**</p>](#Python-Quick-Reference)"
   ]
  },
  {
   "cell_type": "markdown",
   "metadata": {},
   "source": [
    "---"
   ]
  },
  {
   "cell_type": "markdown",
   "metadata": {},
   "source": [
    "## <center>Strings/Variables and Basics</center>"
   ]
  },
  {
   "cell_type": "markdown",
   "metadata": {},
   "source": [
    "**Help** on operations, types, methods and functions\n",
    "\n",
    "**`help(A)`**\n",
    "* Would give help on a list and variable `A`"
   ]
  },
  {
   "cell_type": "markdown",
   "metadata": {},
   "source": [
    "---"
   ]
  },
  {
   "cell_type": "markdown",
   "metadata": {},
   "source": [
    "**Types and Typecasting**  \n",
    "\n",
    "**`print(type(var))` or `type(var)`**  \n",
    "* Type function used to view or print the type of a variable or data type  \n",
    "\n",
    "**`dataType_toConvertTo(var)`**  \n",
    "* Converts a datatype or variable into another  \n",
    "* Convert to the following:\n",
    "  * **`float(var)`** - converts to float\n",
    "  * **`int(var)`**   - converts to integer (if converting a boolean to int, true will give \"1\", false will give \"0\")\n",
    "  * **`str(var)`**   - converts to string\n",
    "  * **`bool(var)`**  - converts to boolean (\"1\" will give true, \"0\" will give false)\n",
    "  * **`tuple(var)`** - converts to tuple\n",
    "  * **`list(var)`**  - converts to a list\n",
    "  * **`set(var)`**   - converts to a set\n",
    "  * **Note all of the above must be assigned a variable to save change**"
   ]
  },
  {
   "cell_type": "markdown",
   "metadata": {},
   "source": [
    "---"
   ]
  },
  {
   "cell_type": "markdown",
   "metadata": {},
   "source": [
    "**Operators**"
   ]
  },
  {
   "cell_type": "markdown",
   "metadata": {},
   "source": [
    "**`/`** **divide** gives result as **float**   \n",
    "**`//`** **floor division** gives result as **int**  \n",
    "**`*`** **multiply**  \n",
    "`**` **Exponentiation** will give the **power of**  \n",
    "**`%`** **modulus** will give **remainder of a division**  "
   ]
  },
  {
   "cell_type": "markdown",
   "metadata": {},
   "source": [
    "**`+=`** **increment assignment** adds a value and a variable and assigns it to the variable  \n",
    "**`-=`** **decrement assignment** subtracts a value from a variable and assigns it to the variable  \n",
    "**`/=`** **division assignment** divides the variable by a value and assigns it to that variable  \n",
    "**`*=`** **multiplication assignment** multiplies the variable by a value and assigns it to that variable  \n",
    "**`%=`** **modulus assignment** computes the modulus of the variable and a value and assigns result to that variable  \n",
    "**`//=`** **floor division assignment** floor divides the variable by a value and assigns result to that variable  \n",
    "`**=` **power assignment** raises the variable to a specified power and assigns result to the variable  \n",
    "  "
   ]
  },
  {
   "cell_type": "markdown",
   "metadata": {},
   "source": [
    "---"
   ]
  },
  {
   "cell_type": "markdown",
   "metadata": {},
   "source": [
    "**Comparison Operators**  \n",
    "* Compares some values, operands or variables including strings"
   ]
  },
  {
   "cell_type": "markdown",
   "metadata": {},
   "source": [
    "**`==`** **Equality operator** Gives result \"True\" when both sides are equal  \n",
    "**`!=`** **Inequality operator** Gives result \"True\" when both sides are **Not** equal  \n",
    "**`<`** **Less than operator** Gives result \"True\" when operand on left side is less than operand on right side  \n",
    "**`>`** **Greater than operator** Gives result \"True\" when operand on left side is greater than operand on right side  \n",
    "**`<=`** **Less than or equal to operator** Gives result \"True\" when operand on left side is less than or equal to the right side  \n",
    "**`>=`** **Greater than or equal to operator** Gives result \"True\" when operand on left side is greater than or equal to the right side  "
   ]
  },
  {
   "cell_type": "markdown",
   "metadata": {},
   "source": [
    "---"
   ]
  },
  {
   "cell_type": "markdown",
   "metadata": {},
   "source": [
    "**Escape sequences**\n",
    "\n",
    "**`\\`** proceeds the escape sequence\n",
    "\n",
    "**`\\n`** for new line  \n",
    "**`\\t`** for tab  \n",
    "**`\\\\`** to insert a single **`\\`** in string    \n",
    "**`r`** to display as raw string (placed before the quotation mark)  \n",
    "\n",
    "**`pass`** can be used as a placeholder for future code. When the pass statement is executed, nothing happens, but you avoid getting an error when empty code is not allowed. Empty code is not allowed in loops, function definitions, class definitions, or in if statements  "
   ]
  },
  {
   "cell_type": "markdown",
   "metadata": {},
   "source": [
    "**Line continuation in code**  \n",
    "\n",
    "**`( )`**  parentheses is the prefered method  \n",
    "**`\\`**  backslash can sometimes look better, and with some lines of code is the only way for it to work  \n",
    "* **ENSURE** to indent continuing line of code  "
   ]
  },
  {
   "cell_type": "markdown",
   "metadata": {},
   "source": [
    "---"
   ]
  },
  {
   "cell_type": "markdown",
   "metadata": {},
   "source": [
    "**Indexing**\n",
    "\n",
    "**`var[index]`**\n",
    "\n",
    "* Accesses element of string/variable\n",
    "* First character will be 0 and counting up to the right\n",
    "* OR starting at the end, -1 and counting down to the left\n",
    "* **Square brackets**"
   ]
  },
  {
   "cell_type": "markdown",
   "metadata": {},
   "source": [
    "---"
   ]
  },
  {
   "cell_type": "markdown",
   "metadata": {},
   "source": [
    "**Slice**  \n",
    "\n",
    "\n",
    "**`var[start point : end point]`** \n",
    "* Will take section of variable from/to\n",
    "* Think of points between the characters "
   ]
  },
  {
   "cell_type": "markdown",
   "metadata": {},
   "source": [
    "---"
   ]
  },
  {
   "cell_type": "markdown",
   "metadata": {},
   "source": [
    "**Stride**  \n",
    "\n",
    "**`var[start : end : places to jump]`**\n",
    "* Will take elements of variable jumping given places\n",
    "* If no start/end entered, will start from beginning"
   ]
  },
  {
   "cell_type": "markdown",
   "metadata": {},
   "source": [
    "---"
   ]
  },
  {
   "cell_type": "markdown",
   "metadata": {},
   "source": [
    "**Length** function  \n",
    "\n",
    "**`len(var)`**\n",
    "* Returns length of string  \n",
    "* Starts at 1, **number of elements** NOT index numbers"
   ]
  },
  {
   "cell_type": "markdown",
   "metadata": {},
   "source": [
    "---"
   ]
  },
  {
   "cell_type": "markdown",
   "metadata": {},
   "source": [
    "**Concatenate** and combine strings\n",
    "\n",
    "**`new_var = var1 + var2`**"
   ]
  },
  {
   "cell_type": "markdown",
   "metadata": {},
   "source": [
    "---"
   ]
  },
  {
   "cell_type": "markdown",
   "metadata": {},
   "source": [
    "**Replicate** strings\n",
    "\n",
    "**`#timesToRep* var`**"
   ]
  },
  {
   "cell_type": "markdown",
   "metadata": {},
   "source": [
    "---"
   ]
  },
  {
   "cell_type": "markdown",
   "metadata": {},
   "source": [
    "**Upper**\n",
    "\n",
    "**`var.upper()`**\n",
    "* Makes everything upper case\n",
    "* Must assign a variable to keep the change"
   ]
  },
  {
   "cell_type": "markdown",
   "metadata": {},
   "source": [
    "---"
   ]
  },
  {
   "cell_type": "markdown",
   "metadata": {},
   "source": [
    "**Replace**\n",
    "\n",
    "**`var.replace(\"what\", \"with\")`**\n",
    "* Replaces elements of variable\n",
    "* Assign new variable to save change \n",
    "* **Case sensitive**"
   ]
  },
  {
   "cell_type": "markdown",
   "metadata": {},
   "source": [
    "---"
   ]
  },
  {
   "cell_type": "markdown",
   "metadata": {},
   "source": [
    "**Find**\n",
    "\n",
    "**`var.find(\"what\")`**\n",
    "* Outputs **first index** of sequence\n",
    "* Returns **`-1`** if not found"
   ]
  },
  {
   "cell_type": "markdown",
   "metadata": {},
   "source": [
    "---"
   ]
  },
  {
   "cell_type": "markdown",
   "metadata": {},
   "source": [
    "**user input**:  \n",
    "\n",
    "**`var = type(input(\"message to user\"))`**  \n",
    "* Keyword **\"input\"** used to provide input box to user  \n",
    "* **Optional message**, however better practice to provide information on what to input  \n",
    "* Defining **\"type\"** is **optional**, however note user inputs **default to strings**  "
   ]
  },
  {
   "cell_type": "markdown",
   "metadata": {},
   "source": [
    "[<p style=\"text-align: right;\">**⬆ Table of Contents ⬆**</p>](#Python-Quick-Reference)"
   ]
  },
  {
   "cell_type": "markdown",
   "metadata": {},
   "source": [
    "---"
   ]
  },
  {
   "cell_type": "markdown",
   "metadata": {},
   "source": [
    "## <center>**Tuples**</center>\n",
    "\n",
    "**`tupVar = (ele1, ele2, ele3)`**\n",
    "* **Round brackets**\n",
    "* Compound data types\n",
    "* **Ordered sequence**\n",
    "* Comma separated elements within parenthesis, can contain **`str`**, **`int`** and **`float`**\n",
    "* **Immutable**\n",
    "* **Concatenate** tuples with round brackets **`newTupVar = tup1Var + (newEle1, newEle2)`**"
   ]
  },
  {
   "cell_type": "markdown",
   "metadata": {},
   "source": [
    "---"
   ]
  },
  {
   "cell_type": "markdown",
   "metadata": {},
   "source": [
    "**Sorted** function  \n",
    "\n",
    "**`outListVar = sorted(tupVar,reverse=False)`**  \n",
    "* Use function to sort a tuple, list or set, but note it will **output as a list**  \n",
    "* Reverse is **optional** and set to False if not supplied  \n",
    "* A new variable must be assigned to save change  \n",
    "* **`sorted`** function does not work on **`int`** and **`str`** at the same time  \n",
    "* **Beware** of typecasting a sorted list back to a set as a set by definition is **unordered**   "
   ]
  },
  {
   "cell_type": "markdown",
   "metadata": {},
   "source": [
    "---"
   ]
  },
  {
   "cell_type": "markdown",
   "metadata": {},
   "source": [
    "**sort** method  \n",
    "\n",
    "**`tupVar.sort(reverse=False)`**  \n",
    "* Similar to sorted function, however this **will affect original variable**\n",
    "* Use method to sort a tuple or list but note it will **output as a list**  \n",
    "* Reverse is **optional** and set to False if not supplied  \n",
    "* **`sort`** method does not work on **`int`** and **`str`** at the same time  \n",
    "* **Beware** of typecasting a sorted list back to a set as a set by definition is **unordered**   "
   ]
  },
  {
   "cell_type": "markdown",
   "metadata": {},
   "source": [
    "---"
   ]
  },
  {
   "cell_type": "markdown",
   "metadata": {},
   "source": [
    "**Join** method  \n",
    "\n",
    "**`string.join(iterable)`**  \n",
    "* Creates **strings** from iterable objects  \n",
    "* Joins each **element** of an iterable (such as lists, strings, tuples, dictionaries and sets) by a **string separator**  "
   ]
  },
  {
   "cell_type": "markdown",
   "metadata": {},
   "source": [
    "---"
   ]
  },
  {
   "cell_type": "markdown",
   "metadata": {},
   "source": [
    "**Nest** tuples \n",
    "\n",
    "**`tupVar = (ele1, (nesTupVar), ele3)`**"
   ]
  },
  {
   "cell_type": "markdown",
   "metadata": {},
   "source": [
    "---"
   ]
  },
  {
   "cell_type": "markdown",
   "metadata": {},
   "source": [
    "**Indexing** nested tuples\n",
    "\n",
    "**`var[outIndex][nextLayerIndex][...][lastLayerIndex]`**"
   ]
  },
  {
   "cell_type": "markdown",
   "metadata": {},
   "source": [
    "[<p style=\"text-align: right;\">**⬆ Table of Contents ⬆**</p>](#Python-Quick-Reference)"
   ]
  },
  {
   "cell_type": "markdown",
   "metadata": {},
   "source": [
    "---"
   ]
  },
  {
   "cell_type": "markdown",
   "metadata": {},
   "source": [
    "## <center>Lists</center>\n",
    "\n",
    "**`listVar = [ele1, ele2, ele3]`**\n",
    "* **Square brackets**\n",
    "* Compound data types\n",
    "* **Ordered sequence**\n",
    "* **Mutable** --- each time a method is applied, **will change** original variable unless reassigned\n",
    "* Can contain **`str`**, **`float`**, **`int`**\n",
    "* Can **nest** other **lists**, **tuples** and **other data structures**\n",
    "* **Concatenate** lists with square brackets **`newListVar = list1Var + [newEle1, newEle2]`**"
   ]
  },
  {
   "cell_type": "markdown",
   "metadata": {},
   "source": [
    "---"
   ]
  },
  {
   "cell_type": "markdown",
   "metadata": {},
   "source": [
    "**Sorted** function   \n",
    "\n",
    "**`outListVar = sorted(listVar,reverse=False)`**  \n",
    "* Use function to sort a tuple, list or set, but note it will **output as a list**  \n",
    "* Reverse is **optional** and set to False if not supplied  \n",
    "* A new variable must be assigned to save change  \n",
    "* **`sorted`** function does not work on **`int`** and **`str`** at the same time  \n",
    "* **Beware** of typecasting a sorted list back to a set as a set by definition is **unordered**   "
   ]
  },
  {
   "cell_type": "markdown",
   "metadata": {},
   "source": [
    "---"
   ]
  },
  {
   "cell_type": "markdown",
   "metadata": {},
   "source": [
    "**sort** method  \n",
    "\n",
    "**`listVar.sort(reverse=False)`**  \n",
    "* Similar to sorted function, however this **will affect original variable**\n",
    "* Use method to sort a tuple or list but note it will **output as a list**  \n",
    "* Reverse is **optional** and set to False if not supplied  \n",
    "* **`sort`** method does not work on **`int`** and **`str`** at the same time  \n",
    "* **Beware** of typecasting a sorted list back to a set as a set by definition is **unordered**   "
   ]
  },
  {
   "cell_type": "markdown",
   "metadata": {},
   "source": [
    "---"
   ]
  },
  {
   "cell_type": "markdown",
   "metadata": {},
   "source": [
    "**Extend** lists\n",
    "\n",
    "**`listVar.extend([newEle1, newEle2])`**  \n",
    "* Adds each element as individual elements\n",
    "* Will **change original variable** unless reassigned"
   ]
  },
  {
   "cell_type": "markdown",
   "metadata": {},
   "source": [
    "---"
   ]
  },
  {
   "cell_type": "markdown",
   "metadata": {},
   "source": [
    "**Append**\n",
    "\n",
    "**`listVar.append([newEle1, newEle2])`**  \n",
    "* Adds all the new elements **as only one new element** (nested list)\n",
    "* Will **change original variable** unless reassigned"
   ]
  },
  {
   "cell_type": "markdown",
   "metadata": {},
   "source": [
    "---"
   ]
  },
  {
   "cell_type": "markdown",
   "metadata": {},
   "source": [
    "**Change** a list element\n",
    "\n",
    "**`listVar[indexOrSlice] = newEle`**  \n",
    "* Will replace the indexed or sliced element with the new element"
   ]
  },
  {
   "cell_type": "markdown",
   "metadata": {},
   "source": [
    "---"
   ]
  },
  {
   "cell_type": "markdown",
   "metadata": {},
   "source": [
    "**Delete**\n",
    "\n",
    "**`del(listVar[indexOrSlice])`**\n",
    "* Deletes a list element\n",
    "\n",
    "**`del(listVar)`**\n",
    "* Deletes a list"
   ]
  },
  {
   "cell_type": "markdown",
   "metadata": {},
   "source": [
    "---"
   ]
  },
  {
   "cell_type": "markdown",
   "metadata": {},
   "source": [
    "**Split** method\n",
    "\n",
    "**`listVar = strVar.split()`**  \n",
    "* Converts string to a list of words, standard delimiter is a **space**\n",
    "\n",
    "**`listVar = strVar.split(\"delimiter\")`**\n",
    "* Split on a specific **delimiter**"
   ]
  },
  {
   "cell_type": "markdown",
   "metadata": {},
   "source": [
    "---"
   ]
  },
  {
   "cell_type": "markdown",
   "metadata": {},
   "source": [
    "**Join** method  \n",
    "\n",
    "**`string.join(iterable)`**  \n",
    "* Creates **strings** from iterable objects  \n",
    "* Joins each **element** of an iterable (such as lists, strings, tuples, dictionaries and sets) by a **string separator**  "
   ]
  },
  {
   "cell_type": "markdown",
   "metadata": {},
   "source": [
    "---"
   ]
  },
  {
   "cell_type": "markdown",
   "metadata": {},
   "source": [
    "**Copy list**\n",
    "\n",
    "**`listVar1 = listVar2`**  \n",
    "* **Beware** copying by reference, when one variable is set to another, changing one element in a list on one variable will affect the other"
   ]
  },
  {
   "cell_type": "markdown",
   "metadata": {},
   "source": [
    "---"
   ]
  },
  {
   "cell_type": "markdown",
   "metadata": {},
   "source": [
    "**Cloning list**\n",
    "\n",
    "**`listVar1 = listVar2[:]`**  \n",
    "* **Protects** against changes in one list affecting the other"
   ]
  },
  {
   "cell_type": "markdown",
   "metadata": {},
   "source": [
    "[<p style=\"text-align: right;\">**⬆ Table of Contents ⬆**</p>](#Python-Quick-Reference)"
   ]
  },
  {
   "cell_type": "markdown",
   "metadata": {},
   "source": [
    "---"
   ]
  },
  {
   "cell_type": "markdown",
   "metadata": {},
   "source": [
    "## <center>Dictionaries</center>\n",
    "\n",
    "**`dictVar = {\"key1\" : val1, \"key2\" : [listVal1, listVal2], \"key3\" : (tupVal1, tupVal2)}`**\n",
    "* **curley brackets**\n",
    "* Keys and values separated with a **colon**\n",
    "* Key/value pairs are separated with a **comma**\n",
    "* Type of collection\n",
    "* Dictionaries have keys and values as lists have indexes and elements, but the keys do not need to be integers, they are usually characters \n",
    "* **Keys** must be **mutable and unique**\n",
    "* **Keys** can **only** be **strings, numbers or tuples**\n",
    "* **Values** can be **any data type**\n",
    "* Values can be immutable, mutable and duplicates "
   ]
  },
  {
   "cell_type": "markdown",
   "metadata": {},
   "source": [
    "---"
   ]
  },
  {
   "cell_type": "markdown",
   "metadata": {},
   "source": [
    "**Lookup dictionary value**\n",
    "\n",
    "**`dictVar[key]`**  \n",
    "* Essentially the same as indexing"
   ]
  },
  {
   "cell_type": "markdown",
   "metadata": {},
   "source": [
    "---"
   ]
  },
  {
   "cell_type": "markdown",
   "metadata": {},
   "source": [
    "**Add dictionary value**\n",
    "\n",
    "**`dictVar[newKey] = \"newVal\"`**\n",
    "* Will change original dictionary variable unless reassigned"
   ]
  },
  {
   "cell_type": "markdown",
   "metadata": {},
   "source": [
    "---"
   ]
  },
  {
   "cell_type": "markdown",
   "metadata": {},
   "source": [
    "**Delete dictionary entry**\n",
    "\n",
    "**`del(dictVar[key])`**  \n",
    "* Will delete the entered key and its associated values "
   ]
  },
  {
   "cell_type": "markdown",
   "metadata": {},
   "source": [
    "---"
   ]
  },
  {
   "cell_type": "markdown",
   "metadata": {},
   "source": [
    "**In** command\n",
    "\n",
    "**`keyToSearch in dictVar`**  \n",
    "* Used to search a dictionary if a **key** is present or not.  \n",
    "* **Case sensitive**   \n",
    "* If present, it'll return True, else it'll return False\n",
    "* Can also be used for Sets to check for elements"
   ]
  },
  {
   "cell_type": "markdown",
   "metadata": {},
   "source": [
    "---"
   ]
  },
  {
   "cell_type": "markdown",
   "metadata": {},
   "source": [
    "**View all keys**\n",
    "\n",
    "**`dictVar.keys()`**  \n",
    "* Will return all keys in a dictionary as a list-like object (<class 'dict_keys'>)"
   ]
  },
  {
   "cell_type": "markdown",
   "metadata": {},
   "source": [
    "---"
   ]
  },
  {
   "cell_type": "markdown",
   "metadata": {},
   "source": [
    "**View all values**\n",
    "\n",
    "**`dictVar.values()`**  \n",
    "* Will return all values in a dictionary as a list-like object (<class 'dict_values'>)"
   ]
  },
  {
   "cell_type": "markdown",
   "metadata": {},
   "source": [
    "[<p style=\"text-align: right;\">**⬆ Table of Contents ⬆**</p>](#Python-Quick-Reference)"
   ]
  },
  {
   "cell_type": "markdown",
   "metadata": {},
   "source": [
    "---"
   ]
  },
  {
   "cell_type": "markdown",
   "metadata": {},
   "source": [
    "## <center>Sets</center>\n",
    "\n",
    "**`setVar = {\"ele1\", \"ele2\", \"ele3\"}`**\n",
    "* **Curley brackets** \n",
    "* Sets only have **unique elements**\n",
    "* Type of collection   \n",
    "* **Unordered** meaning element positions are not recorded     \n",
    "* Duplicates can be present in the creation of a set, but there will only be one unique element once the set is created"
   ]
  },
  {
   "cell_type": "markdown",
   "metadata": {},
   "source": [
    "---"
   ]
  },
  {
   "cell_type": "markdown",
   "metadata": {},
   "source": [
    "**Set** function\n",
    "\n",
    "**`set(listVar)`**  \n",
    "* Will convert a list to a set (typecasting)"
   ]
  },
  {
   "cell_type": "markdown",
   "metadata": {},
   "source": [
    "---"
   ]
  },
  {
   "cell_type": "markdown",
   "metadata": {},
   "source": [
    "**Sorted** function  \n",
    "\n",
    "**`outListVar = sorted(setVar,reverse=False)`**  \n",
    "* Use function to sort a tuple, list or set, but note it will **output as a list**  \n",
    "* Reverse is **optional** and set to False if not supplied  \n",
    "* A new variable must be assigned to save change  \n",
    "* **`sorted`** function does not work on **`int`** and **`str`** at the same time  \n",
    "* **Beware** of typecasting a sorted list back to a set as a set by definition is **unordered**  "
   ]
  },
  {
   "cell_type": "markdown",
   "metadata": {},
   "source": [
    "---"
   ]
  },
  {
   "cell_type": "markdown",
   "metadata": {},
   "source": [
    "**Join** method  \n",
    "\n",
    "**`string.join(iterable)`**  \n",
    "* Creates **strings** from iterable objects  \n",
    "* Joins each **element** of an iterable (such as lists, strings, tuples, dictionaries and sets) by a **string separator**  "
   ]
  },
  {
   "cell_type": "markdown",
   "metadata": {},
   "source": [
    "---"
   ]
  },
  {
   "cell_type": "markdown",
   "metadata": {},
   "source": [
    "**Add** method  \n",
    "\n",
    "**`setVar.add(\"newEle\")`**  \n",
    "* Will add a new element to a set\n",
    "* If same element is added twice, nothing will happen as cannont have duplicates"
   ]
  },
  {
   "cell_type": "markdown",
   "metadata": {},
   "source": [
    "---"
   ]
  },
  {
   "cell_type": "markdown",
   "metadata": {},
   "source": [
    "**Remove** method  \n",
    "\n",
    "**`setVar.remove(\"ele\")`**  \n",
    "* Will remove element from a set"
   ]
  },
  {
   "cell_type": "markdown",
   "metadata": {},
   "source": [
    "---"
   ]
  },
  {
   "cell_type": "markdown",
   "metadata": {},
   "source": [
    "**In** command  \n",
    "\n",
    "**`eleToSearch in setVar`**  \n",
    "* Can be used to search a set if an **element** is present or not.  \n",
    "* **Case sensitive**   \n",
    "* If present, it'll return True, else it'll return False\n",
    "* Can also be used on Dictionaires to check for keys"
   ]
  },
  {
   "cell_type": "markdown",
   "metadata": {},
   "source": [
    "---"
   ]
  },
  {
   "cell_type": "markdown",
   "metadata": {},
   "source": [
    "**Intersection** method  \n",
    "\n",
    "**`intersection_SetVar = set1_Var & set2_Var`**  \n",
    "* Uses ampersand operator **`&`**  \n",
    "* Compares set1 and set2 elements, returning the common elements in the new variable"
   ]
  },
  {
   "cell_type": "markdown",
   "metadata": {},
   "source": [
    "---"
   ]
  },
  {
   "cell_type": "markdown",
   "metadata": {},
   "source": [
    "**Union** method  \n",
    "\n",
    "**`union_setVar = set1_Var.union(set2_Var)`**  \n",
    "* Combines all of set1 and set2 elements into a new set variable"
   ]
  },
  {
   "cell_type": "markdown",
   "metadata": {},
   "source": [
    "---"
   ]
  },
  {
   "cell_type": "markdown",
   "metadata": {},
   "source": [
    "**Difference** method  \n",
    "\n",
    "**`difference_setVar = set1_Var.difference(set2_Var)`**  \n",
    "* Elements that are **only in set1** are returned in a new set variable"
   ]
  },
  {
   "cell_type": "markdown",
   "metadata": {},
   "source": [
    "---"
   ]
  },
  {
   "cell_type": "markdown",
   "metadata": {},
   "source": [
    "**Symmetric Difference** method  \n",
    "\n",
    "**`symmetric_differenceSetVar = set1.symmetric_difference(set2)`**  \n",
    "* Returns **all** elements that **only** appear in one or other of the sets"
   ]
  },
  {
   "cell_type": "markdown",
   "metadata": {},
   "source": [
    "---"
   ]
  },
  {
   "cell_type": "markdown",
   "metadata": {},
   "source": [
    "**Issubset** method  \n",
    "\n",
    "**`set_to_check.issubset(against_this_set)`**  \n",
    "* Checks if a set is a subset and all of its elements are contained in another set\n",
    "* Returns True or False"
   ]
  },
  {
   "cell_type": "markdown",
   "metadata": {},
   "source": [
    "---"
   ]
  },
  {
   "cell_type": "markdown",
   "metadata": {},
   "source": [
    "**Issuperset** method  \n",
    "\n",
    "**`set_to_check.issuperset(against_this_set)`**  \n",
    "* Checks if a set is a superset and contains a minimum of all elements of another set\n",
    "* Returns True or False"
   ]
  },
  {
   "cell_type": "markdown",
   "metadata": {},
   "source": [
    "[<p style=\"text-align: right;\">**⬆ Table of Contents ⬆**</p>](#Python-Quick-Reference)"
   ]
  },
  {
   "cell_type": "markdown",
   "metadata": {},
   "source": [
    "---"
   ]
  },
  {
   "cell_type": "markdown",
   "metadata": {},
   "source": [
    "## <center>Branching</center>"
   ]
  },
  {
   "cell_type": "markdown",
   "metadata": {},
   "source": [
    "* Has <ins>**OPTIONAL**</ins> **round brackets** followed by <ins>**COMPULSARY**</ins> **colon**  \n",
    "* Must use comparison operator in test argument, **Not** just regular operator e.g., **`=`**  \n",
    "* Variable to be tested must be defined **prior** to \"if statement\"  "
   ]
  },
  {
   "cell_type": "markdown",
   "metadata": {},
   "source": [
    "---"
   ]
  },
  {
   "cell_type": "markdown",
   "metadata": {},
   "source": [
    "**If** statement  \n",
    "\n",
    "**`if(test_argument):  \n",
    "    when_true_do_this_and_continue (note indent)  \n",
    "when_false_continue_from_here (note no indent)`**  \n",
    "* When \"True\", **both** true and false branches will be actioned\n",
    "* When \"False\", **only false** branch will be actioned\n",
    "* **Must Not** indent false branch or it will be deemed part of true branch\n"
   ]
  },
  {
   "cell_type": "markdown",
   "metadata": {},
   "source": [
    "---"
   ]
  },
  {
   "cell_type": "markdown",
   "metadata": {},
   "source": [
    "**Else** statement  \n",
    "\n",
    "**`if(test_argument):  \n",
    "    when_true_do_this_and_continue (note indent) \n",
    "else:\n",
    "    when_false_do_this_and_continue (note indent)\n",
    "then_continue_from_here (note no indent)`**  \n",
    "* \"Else\" branch will **only** be done when \"if\" argument is \"False\"  \n",
    "* Program will continue from line after \"else\" branch that is **Not** indented after completing relevant branch"
   ]
  },
  {
   "cell_type": "markdown",
   "metadata": {},
   "source": [
    "---"
   ]
  },
  {
   "cell_type": "markdown",
   "metadata": {},
   "source": [
    "**Elif** statement  \n",
    "\n",
    "**`if(test_argument):  \n",
    "    when_true_do_this_and_continue (note indent)  \n",
    "elif(test_argument_when_false):  \n",
    "    when_true_for_second_argument_do_this_and_continue (note indent)  \n",
    "else:\n",
    "    when_false_do_this_and_continue (note indent)\n",
    "then_continue_from_here (note no indent)`**  \n",
    "* Continues \"if\" statement without ending code block as would happen with a further \"if\" statement\n",
    "* \"Elif\" branch will **only** be done when previous \"if\" argument and previous \"elif\" arguments in block are \"false\"   \n",
    "* Program will continue from line after \"else\" branch that is **Not** indented after completing relevant branch"
   ]
  },
  {
   "cell_type": "markdown",
   "metadata": {},
   "source": [
    "[<p style=\"text-align: right;\">**⬆ Table of Contents ⬆**</p>](#Python-Quick-Reference)"
   ]
  },
  {
   "cell_type": "markdown",
   "metadata": {},
   "source": [
    "---"
   ]
  },
  {
   "cell_type": "markdown",
   "metadata": {},
   "source": [
    "## <center>Logic Operators</center>"
   ]
  },
  {
   "cell_type": "markdown",
   "metadata": {},
   "source": [
    "* Takes boolean values and produces different boolean values  \n",
    "* Can be combined with branching"
   ]
  },
  {
   "cell_type": "markdown",
   "metadata": {},
   "source": [
    "---"
   ]
  },
  {
   "cell_type": "markdown",
   "metadata": {},
   "source": [
    "**not** operator  \n",
    "\n",
    "**`not(test_argument)`**   \n",
    "* Returns opposite boolean value to test argument"
   ]
  },
  {
   "cell_type": "markdown",
   "metadata": {},
   "source": [
    "---"
   ]
  },
  {
   "cell_type": "markdown",
   "metadata": {},
   "source": [
    "**or** operator  \n",
    "\n",
    "**`(test_argument_1) or (test_argument_2)`**  \n",
    "* Returns \"True\" when **either or both** arguments are **\"True\"**"
   ]
  },
  {
   "cell_type": "markdown",
   "metadata": {},
   "source": [
    "---"
   ]
  },
  {
   "cell_type": "markdown",
   "metadata": {},
   "source": [
    "**and** operator  \n",
    "\n",
    "**`(test_argument_1) and (test_argument_2)`**  \n",
    "* Returns \"True\" when **Both** arguments are **\"True\"**"
   ]
  },
  {
   "cell_type": "markdown",
   "metadata": {},
   "source": [
    "[<p style=\"text-align: right;\">**⬆ Table of Contents ⬆**</p>](#Python-Quick-Reference)"
   ]
  },
  {
   "cell_type": "markdown",
   "metadata": {},
   "source": [
    "---"
   ]
  },
  {
   "cell_type": "markdown",
   "metadata": {},
   "source": [
    "## <center>Loops</center>"
   ]
  },
  {
   "cell_type": "markdown",
   "metadata": {},
   "source": [
    "* Must include **colon**  \n",
    "* Must **indent** loop \"block\" (\"do_this\") section "
   ]
  },
  {
   "cell_type": "markdown",
   "metadata": {},
   "source": [
    "---"
   ]
  },
  {
   "cell_type": "markdown",
   "metadata": {},
   "source": [
    "**for** loop  \n",
    "\n",
    "**`for var in sequence :  \n",
    "        do_this_with_var`**  \n",
    "* Used when number of times loop is to be executed is **known** or **fixed** \n",
    "* \"Var\" is a variable that is used for iterating over a \"sequence\", on every iteration it takes the next value from \"sequence\"  until the end of \"sequence\" is reached  \n",
    "* \"Var\" is **not required** to be defined prior to loop as loop will automatically increase incrementally as per sequence given   "
   ]
  },
  {
   "cell_type": "markdown",
   "metadata": {},
   "source": [
    "---"
   ]
  },
  {
   "cell_type": "markdown",
   "metadata": {},
   "source": [
    "**while** loop  \n",
    "  \n",
    "**`while condition_statement :  \n",
    "        do_this`**  \n",
    "* Used when number of times loop will need to be executed is **unknown**  \n",
    "* \"While\" loop will continue whilst condition_statement remains \"True\"     \n",
    "* Ensure to **define** any variable used in \"condition_statement\" **prior** to loop to \"get into loop\"  \n",
    "* Ensure to **adjust the value** of any variable used in \"condition_statement\" **within** loop, otherwise may create an infinite loop  "
   ]
  },
  {
   "cell_type": "markdown",
   "metadata": {},
   "source": [
    "---"
   ]
  },
  {
   "cell_type": "markdown",
   "metadata": {},
   "source": [
    "**break** statement\n",
    "\n",
    "**`for var in sequence:  \n",
    "        if (test argument):  \n",
    "            break  (exit loop when condition is True)  \n",
    "        else:  \n",
    "            do_this`**  \n",
    "* Break statement in Python is used to **bring the control out of the loop** when some external condition is triggered  \n",
    "* Statement is put inside the loop body (generally after if condition)  "
   ]
  },
  {
   "cell_type": "markdown",
   "metadata": {},
   "source": [
    "---"
   ]
  },
  {
   "cell_type": "markdown",
   "metadata": {},
   "source": [
    "**continue** statement  \n",
    "  \n",
    "**`for var in sequence:  \n",
    "        if (test argument): \n",
    "            continue (do next iteration when condition is True)  \n",
    "        else:  \n",
    "            do_this`**  \n",
    "* Continue statement is opposite to that of break statement, instead of terminating the loop, it **forces the program to execute the next iteration of the loop**  \n",
    "* Statement is put inside the loop body (generally after if condition)  "
   ]
  },
  {
   "cell_type": "markdown",
   "metadata": {},
   "source": [
    "---"
   ]
  },
  {
   "cell_type": "markdown",
   "metadata": {},
   "source": [
    "**pass** statement  \n",
    "  \n",
    "**`for var in sequence: \n",
    "        pass (do nothing and continue program)`**  \n",
    "* Generally used as a **placeholder for future code**  \n",
    "* When the pass statement is executed, nothing happens, but you avoid getting an error when empty code is not allowed  \n",
    "* Difference between pass and comment is that comment is ignored by the interpreter whereas pass is not ignored  \n",
    "* Empty code is not allowed in **loops, function definitions, class definitions, or in if statements**   "
   ]
  },
  {
   "cell_type": "markdown",
   "metadata": {},
   "source": [
    "[<p style=\"text-align: right;\">**⬆ Table of Contents ⬆**</p>](#Python-Quick-Reference)"
   ]
  },
  {
   "cell_type": "markdown",
   "metadata": {},
   "source": [
    "---"
   ]
  },
  {
   "cell_type": "markdown",
   "metadata": {},
   "source": [
    "## <center>Exception Handling</center>"
   ]
  },
  {
   "cell_type": "markdown",
   "metadata": {},
   "source": [
    "**exceptions:**  \n",
    "* Exceptions are a Python object that represents an **error**  \n",
    "* When a Python script raises an exception, it must either **handle the exception immediately otherwise it terminates and quits**  "
   ]
  },
  {
   "cell_type": "markdown",
   "metadata": {},
   "source": [
    "---"
   ]
  },
  {
   "cell_type": "markdown",
   "metadata": {},
   "source": [
    "[**List of Built-in Exceptions**](https://docs.python.org/3/library/exceptions)"
   ]
  },
  {
   "cell_type": "markdown",
   "metadata": {},
   "source": [
    "---"
   ]
  },
  {
   "cell_type": "markdown",
   "metadata": {},
   "source": [
    "**try except (else finally)** statement:  \n",
    "\n",
    "**`# potential code before try catch`**\n",
    "\n",
    "**`try:\n",
    "    try_this\n",
    "except exception_name:\n",
    "    run_this_if_named_exception_occurs\n",
    "except (another_exception_name, a_further_exception_name):\n",
    "    run_this_if_any_named_exception_occurs\n",
    "except:\n",
    "    run_this_if_any_other_exception_occurs\n",
    "else:\n",
    "    run_this_if_no_exceptions\n",
    "finally:\n",
    "    run_this_regardless_of_exceptions`**  \n",
    "* All **colons** are **manditory**  \n",
    "* Using **\"except\"** statement **without specifying exceptions** can be **bad practice** as will catch all error without notifying programmer of root cause of problems that may occur  \n",
    "* **Multiple exception names** can be entered into one except branch in **round brackets seperated by comma**\n",
    "* **Else** branch will run **if no errors** are encountered   \n",
    "* **Finally** branch will run **regardless of errors** encountered  \n",
    "* Can have 1 or many except branchs, if including except branch without specifying exceptions, this must be **last of the except branchs**  \n",
    "* **else** branch is **optional**  \n",
    "* **finally** branch is **optional**  \n",
    "* Can use further indented \"try\" branches instead of \"else\" branch, **however is not good practice**"
   ]
  },
  {
   "cell_type": "markdown",
   "metadata": {},
   "source": [
    "---"
   ]
  },
  {
   "cell_type": "markdown",
   "metadata": {},
   "source": [
    "**raise** exception:  \n",
    "\n",
    "**`raise exception_name (\"info on why exception raised\")`**  \n",
    "* Can manually raise or cause an exception to be thrown with keyword **\"raise\"**  \n",
    "* \"exception_name\" should be a built in exception  \n",
    "* **Optional** information can be provided in **round brackets** but ideally should provide more information on why exception was raised  "
   ]
  },
  {
   "cell_type": "markdown",
   "metadata": {},
   "source": [
    "[<p style=\"text-align: right;\">**⬆ Table of Contents ⬆**</p>](#Python-Quick-Reference)"
   ]
  },
  {
   "cell_type": "markdown",
   "metadata": {},
   "source": [
    "---"
   ]
  },
  {
   "cell_type": "markdown",
   "metadata": {},
   "source": [
    "## <center> Useful Built-in Functions</center>"
   ]
  },
  {
   "cell_type": "markdown",
   "metadata": {},
   "source": [
    "**range** function    \n",
    "\n",
    "**`range(start,stop,step)`**  \n",
    "* Represents a range of immutable sequence of numbers  \n",
    "* \"stop\" **IS required**, will stop at and **NOT** include that value   \n",
    "* \"start\" is **NOT required**, set to \"0\" if not given  \n",
    "* \"step\" is **NOT required**, set to \"1\" if not given  \n",
    "* Will print as a **\"range\"** unless typecasted  "
   ]
  },
  {
   "cell_type": "markdown",
   "metadata": {},
   "source": [
    "---"
   ]
  },
  {
   "cell_type": "markdown",
   "metadata": {},
   "source": [
    "**enumerate** function  \n",
    "\n",
    "**`enumerate(iterable, start=0)`**\n",
    "* Outputs **(index value + start value)\n",
    "* \"iterable\" can be any object that supports iteration  \n",
    "* \"start\" is **NOT** required, it is the value from which the counter is to be started, by default it is \"0\"   "
   ]
  },
  {
   "cell_type": "markdown",
   "metadata": {},
   "source": [
    "---"
   ]
  },
  {
   "cell_type": "markdown",
   "metadata": {},
   "source": [
    "**count** method  \n",
    "\n",
    "**`var.count(object)`**  \n",
    "* Counts number of times \"object\" occurs in \"var\"  "
   ]
  },
  {
   "cell_type": "markdown",
   "metadata": {},
   "source": [
    "---"
   ]
  },
  {
   "cell_type": "markdown",
   "metadata": {},
   "source": [
    "**sum** function  \n",
    "\n",
    "**`sum(iterable, start=0)`**  \n",
    "* Sum of elements in \"iterable\"  \n",
    "* Starts at **value** given for start, if no value given, defaults to \"0\"  "
   ]
  },
  {
   "cell_type": "markdown",
   "metadata": {},
   "source": [
    "[<p style=\"text-align: right;\">**⬆ Table of Contents ⬆**</p>](#Python-Quick-Reference)"
   ]
  },
  {
   "cell_type": "markdown",
   "metadata": {},
   "source": [
    "---"
   ]
  },
  {
   "cell_type": "markdown",
   "metadata": {},
   "source": [
    "## <center>Working with files</center>"
   ]
  },
  {
   "cell_type": "markdown",
   "metadata": {},
   "source": [
    "### <center>Opening and Reading Files</center>"
   ]
  },
  {
   "cell_type": "markdown",
   "metadata": {},
   "source": [
    "**open** function  \n",
    "\n",
    "**`open(\"file\", \"mode\")`**  \n",
    "* Opens a file and returns a corresponding file object  \n",
    "* Both **\"file\" and \"mode\"** must be entered as a **string within parentheses**  \n",
    "* \"file\" is a path-like object made up of **file name and directory**  \n",
    "* \"mode\" is an **optional** string which specifies which mode file is to be opened in, common modes include:<br>\n",
    "**'r'** = **reading (default mode)**, will **fail** if file does **not exist**<br>\n",
    "**'a'** = **appending**, stream is positioned at **end of file**, **creates new file** if file does **not exist**<br>\n",
    "**'w'** = **writing**, will **truncate file first** (empty contents), or **create new file** if file does **not exist**  \n",
    "**'+'** = **updating**, add **'+'** after any usual mode e.g. 'w+' to allow **reading and writing**, note 'w+' mode will still truncate file first, 'r+' will overwrite what is in streams way  "
   ]
  },
  {
   "cell_type": "markdown",
   "metadata": {},
   "source": [
    "---"
   ]
  },
  {
   "cell_type": "markdown",
   "metadata": {},
   "source": [
    "**file object**\n",
    "\n",
    "**`varFile_Obj = open(file, mode)`**  \n",
    "* **Information** about the file can be obtained by setting the open function to a **file object variable**  \n",
    "* \"mode\" is again **optional**  \n",
    "* Once a file is opened and data saved as a file object, then the following methods can be used on it  \n",
    "* **MUST close** file object once finished using file unless using with statement (see below)"
   ]
  },
  {
   "cell_type": "markdown",
   "metadata": {},
   "source": [
    "---"
   ]
  },
  {
   "cell_type": "markdown",
   "metadata": {},
   "source": [
    "**name** method\n",
    "\n",
    "**`varFile_Obj.name`**\n",
    "* Returns **name** of the file "
   ]
  },
  {
   "cell_type": "markdown",
   "metadata": {},
   "source": [
    "---"
   ]
  },
  {
   "cell_type": "markdown",
   "metadata": {},
   "source": [
    "**mode** method  \n",
    "\n",
    "**`varFile_Obj.mode`**  \n",
    "* Returns **mode** of file object  "
   ]
  },
  {
   "cell_type": "markdown",
   "metadata": {},
   "source": [
    "---"
   ]
  },
  {
   "cell_type": "markdown",
   "metadata": {},
   "source": [
    "**close** method  \n",
    "\n",
    "**`varFile_Obj.close()`**  \n",
    "* **Closes** a file  \n",
    "* **ALWAYS** close a file after opening with the above function \n",
    "* Note it is the **file object variable** that is closed  \n",
    "* Must include **parenthesis**  "
   ]
  },
  {
   "cell_type": "markdown",
   "metadata": {},
   "source": [
    "---"
   ]
  },
  {
   "cell_type": "markdown",
   "metadata": {},
   "source": [
    "**closed** method  \n",
    "\n",
    "**`varFile_Obj.closed`**  \n",
    "* Checks if a file is **closed** and returns **True** if is"
   ]
  },
  {
   "cell_type": "markdown",
   "metadata": {},
   "source": [
    "---"
   ]
  },
  {
   "cell_type": "markdown",
   "metadata": {},
   "source": [
    "**with** statment  \n",
    "\n",
    "**`with open(file, mode) as varFile_Obj:  \n",
    "            var = varFile_Obj.read()`**  \n",
    "* **Better practice** to use \"with\" statment to open files as it **automatically closes** them \n",
    "* Code will **run everything indented, then close file**  \n",
    "* Can check file is closed as well as print file content, but **cannot read from file** outside of code block  \n",
    "* Must include **colon**"
   ]
  },
  {
   "cell_type": "markdown",
   "metadata": {},
   "source": [
    "---"
   ]
  },
  {
   "cell_type": "markdown",
   "metadata": {},
   "source": [
    "**read** method  \n",
    "\n",
    "**`.read()`**  \n",
    "* File read as a **whole** and stores values in the variable \"var\" as a **string**  \n",
    "* Stream positioned at the end of the file after running   \n",
    "* **Optional argument** determines **number of characters read** each time method is run moving stream position accordingly, note new line characters \"\\n\" count as a single character  \n",
    "* Stream position reset if the file is reopened "
   ]
  },
  {
   "cell_type": "markdown",
   "metadata": {},
   "source": [
    "---"
   ]
  },
  {
   "cell_type": "markdown",
   "metadata": {},
   "source": [
    "**readline** method  \n",
    "\n",
    "**`.readline()`**  \n",
    "* Reads **each line** of file each time code is run and stream is updated accordingly  \n",
    "* Stores values as a **string**  \n",
    "* **Optional argument** determines **number of characters read** each time method is run up to **max end of line**  \n",
    "* If line has **NOT** been completely read, stream will **stay in position** and continue from there next time code is run  \n",
    "* Stream position reset if the file is reopened  \n",
    "* Must include **colon**"
   ]
  },
  {
   "cell_type": "markdown",
   "metadata": {},
   "source": [
    "---"
   ]
  },
  {
   "cell_type": "markdown",
   "metadata": {},
   "source": [
    "**readlines** method  \n",
    "\n",
    "**`.readlines()`**  \n",
    "* Outputs **each line** as an **element** in a **list**  \n",
    "* **Optional argument** will read **complete lines up to the end of the line** which equals the number of Characters entered, note new line characters **\"\\n\" count as the beginning of a line**  \n",
    "* Must include **colon**"
   ]
  },
  {
   "cell_type": "markdown",
   "metadata": {},
   "source": [
    "---"
   ]
  },
  {
   "cell_type": "markdown",
   "metadata": {},
   "source": [
    "using a **loop** with open  \n",
    "\n",
    "**`with open(file, mode) as varFile_Obj:\n",
    "       for var as varFile_Obj:\n",
    "            print(var)`**  \n",
    "* Will print out **each line** in the file as an **individual string** "
   ]
  },
  {
   "cell_type": "markdown",
   "metadata": {},
   "source": [
    "[<p style=\"text-align: right;\">**⬆ Table of Contents ⬆**</p>](#Python-Quick-Reference)"
   ]
  },
  {
   "cell_type": "markdown",
   "metadata": {},
   "source": [
    "---"
   ]
  },
  {
   "cell_type": "markdown",
   "metadata": {},
   "source": [
    "## <Center>Working with Files</center>"
   ]
  },
  {
   "cell_type": "markdown",
   "metadata": {},
   "source": [
    "### <center>Writing to Files</center>"
   ]
  },
  {
   "cell_type": "markdown",
   "metadata": {},
   "source": [
    "**write** method  \n",
    "\n",
    "**`file_obj.write(\"text_to_be_written_to_file\")`**  \n",
    "* Open file as detailed in section above in a writable mode  \n",
    "* This will write string in argument as text in file  \n",
    "* If wanting to start a new line, **add \"\\n\"** escape character to **end of string**  \n",
    "* Unless using **\"with statement\"**, remember to **close** file  \n",
    "* No need to assign to variable as with read() method  "
   ]
  },
  {
   "cell_type": "markdown",
   "metadata": {},
   "source": [
    "---"
   ]
  },
  {
   "cell_type": "markdown",
   "metadata": {},
   "source": [
    "**with** statment  \n",
    "\n",
    "**`with open(file, mode) as varFile_Obj:  \n",
    "            varFile_Obj.write(\"text_to_be_written_to_file\")`**  \n",
    "* **Better practice** to use \"with\" statment to open files as it **automatically closes** them \n",
    "* Code will **run everything indented, then close file**  \n",
    "* Can check file is closed as well as print file content, but **cannot read from file** outside of code block  \n",
    "* Must include **colon**"
   ]
  },
  {
   "cell_type": "markdown",
   "metadata": {},
   "source": [
    "---"
   ]
  },
  {
   "cell_type": "markdown",
   "metadata": {},
   "source": [
    "**seek** method  \n",
    "\n",
    "**`file_obj.seek(offset, whence=0)`**  \n",
    "* Used to **set** the **streams position** within a file \n",
    "* **\"offset\"** is **required**, determines number of characters to skip over  \n",
    "* **\"whence\"** is **optional** and **defaults to 0**  \n",
    "* whence can be set to 0 = absolute file positioning (from beginning), 1 = seek relative to current position, 2 = set stream at end of file...in Python 3 CANNOT seek backwards  \n",
    "* Theres **no return value**  "
   ]
  },
  {
   "cell_type": "markdown",
   "metadata": {},
   "source": [
    "---"
   ]
  },
  {
   "cell_type": "markdown",
   "metadata": {},
   "source": [
    "**tell** method  \n",
    "\n",
    "**`file_obj.tell()`**  \n",
    "* Will return **current stream position**, when file is opened stream will be at 0 (beginning of file) unless opened in append mode  "
   ]
  },
  {
   "cell_type": "markdown",
   "metadata": {},
   "source": [
    "---"
   ]
  },
  {
   "cell_type": "markdown",
   "metadata": {},
   "source": [
    "**writing from a list**  \n",
    "\n",
    "**`list_var = [\"line1\", \"line2\",....]`**\n",
    "\n",
    "**`with open(\"file\", \"mode\") as file_obj:  \n",
    "      for each_line in list_var:  \n",
    "           file_obj.write(each_line)`**  \n",
    "* **Must** use **loop** to iterate over each element to write, **cannot write list direct** to file (writing to file needs to be a string)  \n",
    "* Ensure mode opened in is a writable mode  "
   ]
  },
  {
   "cell_type": "markdown",
   "metadata": {},
   "source": [
    "---"
   ]
  },
  {
   "cell_type": "markdown",
   "metadata": {},
   "source": [
    "**copying files**  \n",
    "  \n",
    "**`with open(\"file\", \"readable_mode\") as readfile_obj:  \n",
    "      with open(\"file2\", \"writable_mode\") as writefile_obj:  \n",
    "          for each_line in readfile_obj:  \n",
    "               writefile_obj.write(each_line)`**  \n",
    "* **Must** open file to be copied in a **readable mode** e.g. \"r\" or \"r+\"  \n",
    "* **Must** open file to be written to in a **writable / appendable mode** e.g. \"w\" or \"a\"  \n",
    "* Use **loop** to iterate over each line from file to be copied  "
   ]
  },
  {
   "cell_type": "markdown",
   "metadata": {},
   "source": [
    "[<p style=\"text-align: right;\">**⬆ Table of Contents ⬆**</p>](#Python-Quick-Reference)"
   ]
  },
  {
   "cell_type": "markdown",
   "metadata": {},
   "source": [
    "---"
   ]
  },
  {
   "cell_type": "markdown",
   "metadata": {},
   "source": [
    "## <center> Building Functions</center>"
   ]
  },
  {
   "cell_type": "markdown",
   "metadata": {},
   "source": [
    "**functions**  \n",
    "\n",
    "* Functions are a block of code that is also called by its name (**independent**)\n",
    "* The function can have different parameters or may not have any at all. If any data is passed, they are **passed explicitly**  \n",
    "* It **may or may not** return any data  \n",
    "* Function does not deal with class and its instance concept  "
   ]
  },
  {
   "cell_type": "markdown",
   "metadata": {},
   "source": [
    "**difference between methods and functions**:  \n",
    "\n",
    "* Functions and Methods both look similar as they perform in almost similar ways, but the key difference is the concept of ‘Class and its Object‘  \n",
    "* Functions can be called only by its name, as it is defined independently  \n",
    "* Methods can’t be called by its name only, we need to invoke the class by a reference of that class in which it is defined, i.e., method is defined within a class and hence they are dependent on that class and so methods need to be called on an object    \n",
    "\n",
    "**typical function**:  \n",
    "**`func_name(arguments)`**  \n",
    "  \n",
    "**typical method**:  \n",
    "**`obj.meth_name(arguments)`**  "
   ]
  },
  {
   "cell_type": "markdown",
   "metadata": {},
   "source": [
    "---"
   ]
  },
  {
   "cell_type": "markdown",
   "metadata": {},
   "source": [
    "**define function**  \n",
    "\n",
    "**`def funcName(para1, para2, *variadicPara):       \n",
    "    \"\"\"description of func for help()\"\"\" \n",
    "    code block       \n",
    "    return \"this\"`**  \n",
    "* Function name should be descriptive  \n",
    "* Parameters (\"para\") is what will be taken from program and applied in code block   \n",
    "* Must include **colon**  \n",
    "* **Optional** help description is in **triple quotes**  \n",
    "* Code block is **indented**  \n",
    "* Can have **single or multiple \"positional\" parameters** seperated with a **comma**  \n",
    "* **Variadic parameters** have **multiple argument entries** when parameter is preceeded with an **asterisk**  \n",
    "* **Beware** of functions where code contains **multiplication** **`*`**, if a string is passed to function, could cause unexpected errors  \n",
    "* **Return** statement exits a function, optionally passing back a value. It is not required in some circumstances, however without it can cause errors in passing data back to the main program  \n",
    "* Functions that perform no task will return \"none\"  "
   ]
  },
  {
   "cell_type": "markdown",
   "metadata": {},
   "source": [
    "---"
   ]
  },
  {
   "cell_type": "markdown",
   "metadata": {},
   "source": [
    "**calling** a function    \n",
    "\n",
    "**`funcName(argument)`**  \n",
    "* Argument value is sent to function parameter  \n",
    "* Function result can be assigned to a variable or printed in usual way  \n",
    "* **Without parentheses** will return function **parameter format**  "
   ]
  },
  {
   "cell_type": "markdown",
   "metadata": {},
   "source": [
    "---"
   ]
  },
  {
   "cell_type": "markdown",
   "metadata": {},
   "source": [
    "**help** on a function   \n",
    "\n",
    "**`help(funcName)`**  \n",
    "* Will return \"help description\" part of function and module function is in  "
   ]
  },
  {
   "cell_type": "markdown",
   "metadata": {},
   "source": [
    "---"
   ]
  },
  {
   "cell_type": "markdown",
   "metadata": {},
   "source": [
    "**global and local scope variables**  \n",
    "\n",
    "* Variables can be **local** to the function, requires no defining as such, these will **not have name conflicts** with variables already defined in main program, they will be seperate allowing them to have same variable names with different stored values which are deleted after function is executed  \n",
    "* Variables can be **global**, define variable name preceeded by **\"global\"** in the function, in this case they will not be deleted after function is executed, **alternatively** do not define variable inside function requiring it to be defined prior to function being run in the main program  "
   ]
  },
  {
   "cell_type": "markdown",
   "metadata": {},
   "source": [
    "[<p style=\"text-align: right;\">**⬆ Table of Contents ⬆**</p>](#Python-Quick-Reference)"
   ]
  },
  {
   "cell_type": "markdown",
   "metadata": {},
   "source": [
    "---"
   ]
  },
  {
   "cell_type": "markdown",
   "metadata": {},
   "source": [
    "## <center>Classes, Objects and Methods</center>"
   ]
  },
  {
   "cell_type": "markdown",
   "metadata": {},
   "source": [
    "**classes**  \n",
    "\n",
    "* Classes are **user-defined types** or blueprint from which objects are created  \n",
    "* They provide a means of bundling data and functionality together  \n",
    "* Creating a new class creates a **new type of object**, allowing new instances (objects) of that type to be made  \n",
    "* Each class instance can have **attributes** attached to it for **maintaining its state**  \n",
    "* Class instances can also have **methods (defined by its class) for modifying its state**"
   ]
  },
  {
   "cell_type": "markdown",
   "metadata": {},
   "source": [
    "---"
   ]
  },
  {
   "cell_type": "markdown",
   "metadata": {},
   "source": [
    "**define class**  \n",
    "\n",
    "**`class ClassName(object):`**  \n",
    "  **`\"\"\"help() description in triple quotes\"\"\"`**  \n",
    "  \n",
    "   **`# constructor to initialize the object`**  \n",
    "   **`def __init__(self,attribute1,attribute2 = optionalDefautValue):  \n",
    "        self.attribute1 = attribute1  \n",
    "        self.attribute2 = attribute2`**\n",
    "        \n",
    "   **`# method(s) to access and modify the objects argument state values`**  \n",
    "   **`def meth_Name(self, parameter):\n",
    "        self.attribute1 = code_to_modify_attribute1 (e.g.; self.attribute1 = self.attribute1 + parameter)  \n",
    "        return(self.attribute1)`**  \n",
    "* Created by keyword **class**  \n",
    "* Class names should be **Capitalised**  \n",
    "* Must include **colon**  \n",
    "* Must include the term **object**  \n",
    "* **`__init__`** is a special method which is called as a constructor when an object is created from a class and it allows the class to **initialize the attributes** of the class, has **double underscores** either side  \n",
    "* **`self`** is a parameter in function and the user can use another parameter name in place of it, however it is advisable to use self because it increases the readability of code  \n",
    "* **`self`** represents the instance of the class. By using the **`self`** keyword we can access the attributes and methods of the class in Python. It binds the attributes with the given arguments  \n",
    "* Can include **default values** for attributes by setting them with **`=`** in the constructor  \n",
    "* **Attribute** = variable of any type that belongs to or is declared directly in a class  \n",
    "* Attributes are always public and accessed by using dot (.) operator e.g.; className.attribute1  \n",
    "* **Parameter** = temporary variable names within functions, placeholders for the argument it is passed  \n",
    "* **Argument** = value that is assigned to that temporary variable"
   ]
  },
  {
   "cell_type": "markdown",
   "metadata": {},
   "source": [
    "---"
   ]
  },
  {
   "cell_type": "markdown",
   "metadata": {},
   "source": [
    "**objects**  \n",
    "\n",
    "* An object is an instance of a class. A class is like a blueprint while an instance is a copy of the class with actual values. It’s not an idea anymore  \n",
    "* An object consists of :  \n",
    "    **Identity** : It gives a **unique name** to an object and enables one object to interact with other objects  \n",
    "    **State** : It is represented by **attributes** of an object. It also reflects the properties of an object  \n",
    "    **Behavior** : It is represented by **methods** of an object. It also reflects the response of an object with other objects  "
   ]
  },
  {
   "cell_type": "markdown",
   "metadata": {},
   "source": [
    "---"
   ]
  },
  {
   "cell_type": "markdown",
   "metadata": {},
   "source": [
    "**creating** an object  \n",
    "\n",
    "**`objVar_Name = ClassName(attribute1_value, attribute2_value)`**  \n",
    "* Object constructor consists of the name of the class as well as the parameters to be passed  "
   ]
  },
  {
   "cell_type": "markdown",
   "metadata": {},
   "source": [
    "---"
   ]
  },
  {
   "cell_type": "markdown",
   "metadata": {},
   "source": [
    "**accessing attribute** values  \n",
    "\n",
    "**`objVar_Name.attributeName`**  \n",
    "* This will display the current value of the attribute stored for the object  "
   ]
  },
  {
   "cell_type": "markdown",
   "metadata": {},
   "source": [
    "---"
   ]
  },
  {
   "cell_type": "markdown",
   "metadata": {},
   "source": [
    "**changing data attributes** directly  \n",
    "\n",
    "**`objVar_Name.attributeName = new_AttributeValue`**  \n",
    "* This will set a new value of the attribute for the object  "
   ]
  },
  {
   "cell_type": "markdown",
   "metadata": {},
   "source": [
    "---"
   ]
  },
  {
   "cell_type": "markdown",
   "metadata": {},
   "source": [
    "**methods**  \n",
    "\n",
    "* Methods are called by its name, but it's associated to an object (**dependent**)  \n",
    "* A method is **implicitly passed to the object** on which it is invoked  \n",
    "* It **may or may not** return any data  \n",
    "* Methods can operate on the data (instance variables) that is contained by the corresponding class"
   ]
  },
  {
   "cell_type": "markdown",
   "metadata": {},
   "source": [
    "---"
   ]
  },
  {
   "cell_type": "markdown",
   "metadata": {},
   "source": [
    "**difference between methods and functions**:  \n",
    "\n",
    "* Functions and Methods both look similar as they perform in almost similar ways, but the key difference is the concept of ‘Class and its Object‘  \n",
    "* Functions can be called only by its name, as it is defined independently  \n",
    "* Methods can’t be called by its name only, we need to invoke the class by a reference of that class in which it is defined, i.e., method is defined within a class and hence they are dependent on that class and so methods need to be called on an object    \n",
    "\n",
    "**typical function**:  \n",
    "**`func_name(arguments)`**  \n",
    "  \n",
    "**typical method**:  \n",
    "**`obj.meth_name(arguments)`**  "
   ]
  },
  {
   "cell_type": "markdown",
   "metadata": {},
   "source": [
    "---"
   ]
  },
  {
   "cell_type": "markdown",
   "metadata": {},
   "source": [
    "**calling** a method  \n",
    "\n",
    "**`objVar_Name.meth_Name(argument)`**  \n",
    "* This will call the method named and change or interact with the data attributes stored for the object as denoted by the method code block  \n",
    "* **Without parentheses** will return method **parameter format**  "
   ]
  },
  {
   "cell_type": "markdown",
   "metadata": {},
   "source": [
    "---"
   ]
  },
  {
   "cell_type": "markdown",
   "metadata": {},
   "source": [
    "**dir** function  \n",
    "\n",
    "**`dir(objVar_Name)`**  \n",
    "* This returns a list of the attributes and methods of the named object  "
   ]
  },
  {
   "cell_type": "markdown",
   "metadata": {},
   "source": [
    "[<p style=\"text-align: right;\">**⬆ Table of Contents ⬆**</p>](#Python-Quick-Reference)"
   ]
  },
  {
   "cell_type": "markdown",
   "metadata": {},
   "source": [
    "---"
   ]
  },
  {
   "cell_type": "markdown",
   "metadata": {},
   "source": [
    "## <center>Pandas</center>"
   ]
  },
  {
   "cell_type": "markdown",
   "metadata": {},
   "source": [
    "* Pandas are a Python library for data analysis, mainly used for tabular data  "
   ]
  },
  {
   "cell_type": "markdown",
   "metadata": {},
   "source": [
    "---"
   ]
  },
  {
   "cell_type": "markdown",
   "metadata": {},
   "source": [
    "**import pandas**  \n",
    "\n",
    "**`import pandas as pd`**  \n",
    "\n",
    "* Keyword **\"import\"** to import library  \n",
    "* **\"pandas\"** is the library name  \n",
    "* Keyword **\"as\"** is **optional** to change name referred to in script...in this case \"pd\"  \n",
    "* Once the library has been imported, we have access to pre-built functions and classes  "
   ]
  },
  {
   "cell_type": "markdown",
   "metadata": {},
   "source": [
    "---"
   ]
  },
  {
   "cell_type": "markdown",
   "metadata": {},
   "source": [
    "**dataframes**  \n",
    "\n",
    "**`path_var = \"file_path.ext\"  \n",
    "dataframe_varObj = pd.read_fileType(path_var)`**  \n",
    "* The above assigns the **file path to a variable** then applies the **read function to assign the data** to a **dataframe object**  \n",
    "* This then allows various methods to be applied to be able to work with the data in the dataframe  \n",
    "* **Dataframes** are comprised of **rows and colums**  \n",
    "* Ensure to **include extension** in file_path  "
   ]
  },
  {
   "cell_type": "markdown",
   "metadata": {},
   "source": [
    "---"
   ]
  },
  {
   "cell_type": "markdown",
   "metadata": {},
   "source": [
    "**create dataframes from a dictionary**  \n",
    "\n",
    "**`dic_var = {\"key1\":[listVal1, listVal2], \"key2\":[listVal1,listVal2]}  \n",
    "dataframe_varObj = pd.DataFrame(dic_var, *index)`**  \n",
    "* **Values must be in list format** to ensure order  \n",
    "* Keyword **\"DataFrame\"** is **capitalized** as shown  \n",
    "* **\"index\"** is **optional** and can be used to **define own indexing (row identifiers)** by assigning a list or tuple ect  "
   ]
  },
  {
   "cell_type": "markdown",
   "metadata": {},
   "source": [
    "---"
   ]
  },
  {
   "cell_type": "markdown",
   "metadata": {},
   "source": [
    "**new dataframe from columns**  \n",
    "\n",
    "**`new_df_varObj = df_varObj[[\"col_header1\", \"col_header2\"...]]`**  \n",
    "* New Dataframes can be created from the column headers  \n",
    "* **TWO Square brackets** are required to create it **as a Dataframe**  \n",
    "* When **only ONE square bracket** is used, it will create a **series**....Panda series are essentially a 1D Dataframe  \n",
    "* Column headers are **case sensitive**  "
   ]
  },
  {
   "cell_type": "markdown",
   "metadata": {},
   "source": [
    "---"
   ]
  },
  {
   "cell_type": "markdown",
   "metadata": {},
   "source": [
    "**series**  \n",
    "\n",
    "**`df_varObj[\"col_header\"]`**  \n",
    "* A series is a **one dimentional** labled array, capable of holding data of any type  "
   ]
  },
  {
   "cell_type": "markdown",
   "metadata": {},
   "source": [
    "---"
   ]
  },
  {
   "cell_type": "markdown",
   "metadata": {},
   "source": [
    " **saving dataframes**  \n",
    "   \n",
    " **`df.to_fileType(\"file_name.extension\")`**  \n",
    " * Use this method to save a dataframe to a file  "
   ]
  },
  {
   "cell_type": "markdown",
   "metadata": {},
   "source": [
    "---"
   ]
  },
  {
   "cell_type": "markdown",
   "metadata": {},
   "source": [
    "**head** method  \n",
    "\n",
    "**`dataframe_varObj.head()`**  \n",
    "* **.head( ) method** allows the **first 5 rows** to be examined \n",
    "* Can specify how many **rows to be displayed** in argument"
   ]
  },
  {
   "cell_type": "markdown",
   "metadata": {},
   "source": [
    "---"
   ]
  },
  {
   "cell_type": "markdown",
   "metadata": {},
   "source": [
    "**tail** method  \n",
    "\n",
    "**`dataframe_varObj.tail()`**  \n",
    "* **.tail( ) method** allows the **last 5 rows** to be examined \n",
    "* Can specify how many **rows to be displayed** in argument"
   ]
  },
  {
   "cell_type": "markdown",
   "metadata": {},
   "source": [
    "---"
   ]
  },
  {
   "cell_type": "markdown",
   "metadata": {},
   "source": [
    "**return column names**  \n",
    "\n",
    "**`df_varObj.columns`**  \n",
    "* Will return all the **column headers**  "
   ]
  },
  {
   "cell_type": "markdown",
   "metadata": {},
   "source": [
    "---"
   ]
  },
  {
   "cell_type": "markdown",
   "metadata": {},
   "source": [
    "**return index**  \n",
    "\n",
    "**`df_varObj.index`**  \n",
    "* Will return **range for rows** or **index names** if not integers    "
   ]
  },
  {
   "cell_type": "markdown",
   "metadata": {},
   "source": [
    "---"
   ]
  },
  {
   "cell_type": "markdown",
   "metadata": {},
   "source": [
    "**shape** method  \n",
    "\n",
    "**`df_varObj.shape`**  \n",
    "* Will return **size of dataframe** (# rows, # columns)  \n",
    "* Note **index NOT included** as a column in the dataframe  "
   ]
  },
  {
   "cell_type": "markdown",
   "metadata": {},
   "source": [
    "---"
   ]
  },
  {
   "cell_type": "markdown",
   "metadata": {},
   "source": [
    "**.loc[ ]** method  \n",
    "\n",
    "**`df_varObj.loc[row_index, \"col_header\"]`**\n",
    "* Selection by **label**  \n",
    "* Rows start at **0**  \n",
    "* **Square brackets**  \n",
    "* Returns **KeyError** if **column header not found**"
   ]
  },
  {
   "cell_type": "markdown",
   "metadata": {},
   "source": [
    "---"
   ]
  },
  {
   "cell_type": "markdown",
   "metadata": {},
   "source": [
    "**slicing using loc**  \n",
    "\n",
    "**`df_varObj.loc[start_row_index : end_row_index, start_col_header : end_col_header]`**  \n",
    "* This will slice a dataframe to create a new one  \n",
    "* Can be assigned to a new variable to save"
   ]
  },
  {
   "cell_type": "markdown",
   "metadata": {},
   "source": [
    "---"
   ]
  },
  {
   "cell_type": "markdown",
   "metadata": {},
   "source": [
    "**.iloc[ ]** method    \n",
    "\n",
    "**`df_varObj.iloc[row_index, col_index]`**  \n",
    "* Selection by **position**  \n",
    "* Rows and Columns start at **0**  \n",
    "* **Square brackets**  \n",
    "* Returns **IndexError** if requested indexer is out-of-bounds  "
   ]
  },
  {
   "cell_type": "markdown",
   "metadata": {},
   "source": [
    "---"
   ]
  },
  {
   "cell_type": "markdown",
   "metadata": {},
   "source": [
    "**slicing using .iloc[ ]** method  \n",
    "\n",
    "**`df_varObj.iloc[start_row_index : end_row_index, start_col_index : end_col_index]`**  \n",
    "* This will slice a dataframe to create a new one  \n",
    "* Can be assigned to a new variable to save"
   ]
  },
  {
   "cell_type": "markdown",
   "metadata": {},
   "source": [
    "---"
   ]
  },
  {
   "cell_type": "markdown",
   "metadata": {},
   "source": [
    "**unique** method  \n",
    "\n",
    "**`df_varObj[\"col_header_toCheck\"].unique()`**  \n",
    "* Finds unique values in a column and returns values as an array  \n",
    "* **Square** brackets  "
   ]
  },
  {
   "cell_type": "markdown",
   "metadata": {},
   "source": [
    "---"
   ]
  },
  {
   "cell_type": "markdown",
   "metadata": {},
   "source": [
    "**selecting data with condition**  \n",
    "\n",
    "**`df_varObj[df_varObj.col_header condition_to_check]`**  \n",
    "**Can also be written:**  \n",
    "**`df_varObj[df_varObj[\"col_header\"]condition_to_check]]`**  \n",
    "* Without the first df_varObj name and first set of square brackets, this will return a series with boolean values relevant to the conditon to be checked against  \n",
    "* Assign to a new variable to save  "
   ]
  },
  {
   "cell_type": "markdown",
   "metadata": {},
   "source": [
    "---"
   ]
  },
  {
   "cell_type": "markdown",
   "metadata": {},
   "source": [
    "**set index**  \n",
    "\n",
    "**`df_varObj.set_index([\"col_header1\",\"col_header2\"], *drop=Bool, append=Bool, inplace=Bool)`**  \n",
    "* If only using one column to set index, square brackets are not required  \n",
    "* **drop** is **optional**, defaults to True, when False will keep original column as well as assign to index  \n",
    "* **append** is **optional**, defaults to False, when True will add new index to existing rather than replacing  \n",
    "* **inplace** is **optional**, defaults to False, when True will make changes to original dataframe rather than having to set it to a new dataframe variable object  "
   ]
  },
  {
   "cell_type": "markdown",
   "metadata": {},
   "source": [
    "---"
   ]
  },
  {
   "cell_type": "markdown",
   "metadata": {},
   "source": [
    "**set index with list or tuple**  \n",
    "\n",
    "**`df_varObj.index = list or tuple`**  \n",
    "* This will replace the existing index with the given list or tuple elements  \n",
    "* There must be the same number of elements as current index values  \n",
    "* **Overwrites** current dataframe unless assinging to a new one  \n",
    "* **Will NOT** reset indexes to original columns  "
   ]
  },
  {
   "cell_type": "markdown",
   "metadata": {},
   "source": [
    "---"
   ]
  },
  {
   "cell_type": "markdown",
   "metadata": {},
   "source": [
    "**set index name**  \n",
    "\n",
    "**`df_varObj.index.name = \"New Name\"`**  \n",
    "* This will set the index columns name  \n",
    "* Setting to **None** will clear the indexes name  "
   ]
  },
  {
   "cell_type": "markdown",
   "metadata": {},
   "source": [
    "---"
   ]
  },
  {
   "cell_type": "markdown",
   "metadata": {},
   "source": [
    "**reset to default index**  \n",
    "\n",
    "**`df_varObj.reset_index(*drop=Bool, *inplace=Bool)`**  \n",
    "* Will reset index values to default integers  \n",
    "* **drop** is **optional**, defaults to False, when **True will NOT reinsert column** back into dataframe   \n",
    "* **inplace** is **optional**, defaults to False, when True will make changes to original dataframe rather than having to set it to a new dataframe variable object  \n",
    "* If index had no column header, new header (when column is reinserted to dataframe) will be \"index\"  "
   ]
  },
  {
   "cell_type": "markdown",
   "metadata": {},
   "source": [
    "[<p style=\"text-align: right;\">**⬆ Table of Contents ⬆**</p>](#Python-Quick-Reference)"
   ]
  },
  {
   "cell_type": "markdown",
   "metadata": {},
   "source": [
    "## <center>NumPy</center>"
   ]
  },
  {
   "cell_type": "code",
   "execution_count": null,
   "metadata": {},
   "outputs": [],
   "source": []
  },
  {
   "cell_type": "code",
   "execution_count": null,
   "metadata": {},
   "outputs": [],
   "source": []
  },
  {
   "cell_type": "code",
   "execution_count": null,
   "metadata": {},
   "outputs": [],
   "source": []
  },
  {
   "cell_type": "markdown",
   "metadata": {},
   "source": [
    "[<p style=\"text-align: right;\">**⬆ Table of Contents ⬆**</p>](#Python-Quick-Reference)"
   ]
  },
  {
   "cell_type": "markdown",
   "metadata": {},
   "source": [
    "---"
   ]
  },
  {
   "cell_type": "markdown",
   "metadata": {},
   "source": [
    "## <center>Notes</center>"
   ]
  },
  {
   "cell_type": "code",
   "execution_count": null,
   "metadata": {},
   "outputs": [],
   "source": []
  }
 ],
 "metadata": {
  "kernelspec": {
   "display_name": "Python 3",
   "language": "python",
   "name": "python3"
  },
  "language_info": {
   "codemirror_mode": {
    "name": "ipython",
    "version": 3
   },
   "file_extension": ".py",
   "mimetype": "text/x-python",
   "name": "python",
   "nbconvert_exporter": "python",
   "pygments_lexer": "ipython3",
   "version": "3.7.6"
  }
 },
 "nbformat": 4,
 "nbformat_minor": 4
}
