{
 "cells": [
  {
   "cell_type": "markdown",
   "metadata": {},
   "source": [
    "\n",
    "# <center><ins>Python Notes!</center>"
   ]
  },
  {
   "cell_type": "markdown",
   "metadata": {},
   "source": [
    "|<td colspan=3> <center><bold><h3>**Table of contents**<center>|||\n",
    "|---|:---|:---:|\n",
    "|**1.**|[**Useful Links**](#-Useful-Links)||\n",
    "|**2.**|[**Operator precedence rule in Python**](#Operator-precedence)||\n",
    "|**3.**|[**Strings/Variables, Operators and Basics**](#Strings/Variables-and-Basics)|types, operators, comparisons,<br>escape sequences, basic methods|\n",
    "|**4.**|[**Tuples**](#Tuples)|( )<br>immutable, ordered|\n",
    "|**5.**|[**Lists**](#Lists)|[ ]<br>mutable, ordered|\n",
    "|**6.**|[**Dictionaries**](#Dictionairies)|{ : , }<br>keys are mutable and unique|\n",
    "|**7.**|[**Sets**](#Sets)|{ }<br>unordered and unique elements|\n",
    "|**8.**|[**Branching**](#Branching)|if( ): else( ): elif( ):|\n",
    "|**9.**|[**Logic Operators**](#Logic-Operators)|not or and|\n",
    "|**10.**|[**Loops**](#Loops)|for :  while :  <br>break, continue, pass|\n",
    "|**11.**|[**Useful Built-in Functions**](#-Useful-Built-in-Functions)|range( ), enumerate( ),<br> .count( ), sum( )|\n",
    "|**12a.**|[**Working with Files<br>Opening and Reading Files**](#Opening-and-Reading-Files)|open function,<br> .name, .mode, .close( ), .closed methods,<br> with statement,<br> .read( ), .readline( ), .readlines( ) methods|\n",
    "|**12b.**|[**Working with Files<br>Writing to Files**](#Writing-to-Files)||\n",
    "|**13.**|[**Building Functions**](#-Building-Functions)|define, call and help on functions<br>global / local scopes|\n",
    "|**14.**|[**Classes, Objects and Methods**](#Classes,-Objects-and-Methods)|define class, create objects,<br>access / change attributes,<br>create / call methods, dir command|\n"
   ]
  },
  {
   "cell_type": "markdown",
   "metadata": {},
   "source": [
    "---"
   ]
  },
  {
   "cell_type": "markdown",
   "metadata": {},
   "source": [
    "---"
   ]
  },
  {
   "cell_type": "markdown",
   "metadata": {},
   "source": [
    "---"
   ]
  },
  {
   "cell_type": "markdown",
   "metadata": {},
   "source": [
    "## <center> Useful Links</center>"
   ]
  },
  {
   "cell_type": "markdown",
   "metadata": {},
   "source": [
    "[Python Reference Sheets](https://sinxloud.com/python-cheat-sheet-beginner-advanced/)"
   ]
  },
  {
   "cell_type": "markdown",
   "metadata": {},
   "source": [
    "[Python.org](https://www.python.org/)"
   ]
  },
  {
   "cell_type": "markdown",
   "metadata": {},
   "source": [
    "[Python Standard Library](https://docs.python.org/3/library/index.html)"
   ]
  },
  {
   "cell_type": "markdown",
   "metadata": {},
   "source": [
    "[Python Functions](https://docs.python.org/3/library/functions)"
   ]
  },
  {
   "cell_type": "markdown",
   "metadata": {},
   "source": [
    "[Beginnersbook](https://beginnersbook.com/2018/03/python-tutorial-learn-programming/)"
   ]
  },
  {
   "cell_type": "markdown",
   "metadata": {},
   "source": [
    "[GeeksForGeeks](https://www.geeksforgeeks.org/python-programming-language/)"
   ]
  },
  {
   "cell_type": "markdown",
   "metadata": {},
   "source": [
    "[Syntax in Python](http://rigaux.org/language-study/syntax-across-languages-per-language/Python.html)"
   ]
  },
  {
   "cell_type": "markdown",
   "metadata": {},
   "source": [
    "[Wiki - Python syntax and semantics](https://en.wikipedia.org/wiki/Python_syntax_and_semantics)"
   ]
  },
  {
   "cell_type": "markdown",
   "metadata": {},
   "source": [
    "[For beginners](https://www.python.org/about/gettingstarted/)"
   ]
  },
  {
   "cell_type": "markdown",
   "metadata": {},
   "source": [
    "[Quiz and practice](https://app.finxter.com/learn/computer/science/) "
   ]
  },
  {
   "cell_type": "markdown",
   "metadata": {},
   "source": [
    "---"
   ]
  },
  {
   "cell_type": "markdown",
   "metadata": {},
   "source": [
    "---"
   ]
  },
  {
   "cell_type": "markdown",
   "metadata": {},
   "source": [
    ">Python is an interpreted, object-orientated, high-level programming language with dynamic semantics. It interprets script line by line as it executes and will stop the entire program when it encounters an error unless error was expected and handled by the programmer "
   ]
  },
  {
   "cell_type": "code",
   "execution_count": 1,
   "metadata": {},
   "outputs": [
    {
     "name": "stdout",
     "output_type": "stream",
     "text": [
      "3.7.6 (default, Jan  8 2020, 13:42:34) \n",
      "[Clang 4.0.1 (tags/RELEASE_401/final)]\n"
     ]
    }
   ],
   "source": [
    "# check the python version\n",
    "\n",
    "import sys\n",
    "print(sys.version)"
   ]
  },
  {
   "cell_type": "markdown",
   "metadata": {},
   "source": [
    "<div class=\"alert alert-success alertsuccess\" style=\"margin-top: 20px\">\n",
    "    [Tip:] <code>sys</code> is a built-in module that contains many system-specific parameters and functions, including the Python version in use. Before using it, we must explictly <code>import</code> it.\n",
    "</div>"
   ]
  },
  {
   "cell_type": "markdown",
   "metadata": {},
   "source": [
    "\n",
    "[<p style=\"text-align: right;\">⬆ Table of Contents ⬆</p>](#Python-Notes!)"
   ]
  },
  {
   "cell_type": "markdown",
   "metadata": {},
   "source": [
    "---"
   ]
  },
  {
   "cell_type": "markdown",
   "metadata": {},
   "source": [
    "## <center>Operator precedence</center>"
   ]
  },
  {
   "cell_type": "markdown",
   "metadata": {},
   "source": [
    "|**Operator precedence rule in Python:**||\n",
    "|---|---|\n",
    "|()| Parentheses|\n",
    "|**| Exponent|\n",
    "|+x, -x, ~x| Unary plus, Unary minus, Bitwise NOT|\n",
    "|*, /, //, % |Multiplication, Division, Floor Division, Modulus|\n",
    "|+, - |Addition, Subtraction|\n",
    "|<<, >> |Bitwise shift operators|\n",
    "|& |Bitwise AND|\n",
    "|^ |Bitwise XOR|\n",
    "|\\|| Bitwise OR|\n",
    "|==, !=, >, >=, <, <=, is, is not, in, not in       |Comparisions, Identity, Membership operators|\n",
    "|not |Logical NOT|\n",
    "|and |Logical AND|\n",
    "|or |Logical OR|"
   ]
  },
  {
   "cell_type": "markdown",
   "metadata": {},
   "source": [
    "[<p style=\"text-align: right;\">**⬆ Table of Contents ⬆**</p>](#Python-Notes!)"
   ]
  },
  {
   "cell_type": "markdown",
   "metadata": {},
   "source": [
    "---"
   ]
  },
  {
   "cell_type": "markdown",
   "metadata": {},
   "source": [
    "## <center>Strings/Variables and Basics</center>"
   ]
  },
  {
   "cell_type": "markdown",
   "metadata": {},
   "source": [
    "#### **Types**"
   ]
  },
  {
   "cell_type": "markdown",
   "metadata": {},
   "source": [
    "A type is how python represents different types of data:  \n",
    "* **`int`** (this is the type) = Integers: whole numbers e.g., 6 (this is the expression)  \n",
    "can be positive or negative, finite range  \n",
    "* **`float`** = Float: real numbers with decimal point e.g., 6.986  \n",
    "* **`str`** = String: sequence of characters e.g., Hello  \n",
    "* **`bool`** = Boolean: True or False, must be capitalized. True contains the int or float value of 1, False is 0"
   ]
  },
  {
   "cell_type": "markdown",
   "metadata": {},
   "source": [
    "The type of a variable can be viewed using the type function\n",
    "e.g., **`type(6)`** or **`print(type(var))`**"
   ]
  },
  {
   "cell_type": "code",
   "execution_count": 2,
   "metadata": {},
   "outputs": [
    {
     "data": {
      "text/plain": [
       "int"
      ]
     },
     "execution_count": 2,
     "metadata": {},
     "output_type": "execute_result"
    }
   ],
   "source": [
    "# example of type function\n",
    "type(6)"
   ]
  },
  {
   "cell_type": "code",
   "execution_count": 3,
   "metadata": {},
   "outputs": [
    {
     "data": {
      "text/plain": [
       "sys.float_info(max=1.7976931348623157e+308, max_exp=1024, max_10_exp=308, min=2.2250738585072014e-308, min_exp=-1021, min_10_exp=-307, dig=15, mant_dig=53, epsilon=2.220446049250313e-16, radix=2, rounds=1)"
      ]
     },
     "execution_count": 3,
     "metadata": {},
     "output_type": "execute_result"
    }
   ],
   "source": [
    "# system settings about float type\n",
    "\n",
    "sys.float_info"
   ]
  },
  {
   "cell_type": "markdown",
   "metadata": {},
   "source": [
    "The type of expressions can be converted, this is called typecasting or to cast\n",
    "* int to float: **`float(6)`**: **6.0**\n",
    "* float to int: **`int(6.8)`**: **6** *caution as info is lost*\n",
    "* str to int (or float) if contains an integer value: **`int('6')`**: **6**\n",
    "* A string with a non-interger value would produce an error: **`int('A')`**: **error**\n",
    "* int or float to a string: **`str(6.9)`**: **'6.9'**\n",
    "* boolean to int or float: **`int(True)`**: **1**\n",
    "* int or float to boolean: **`bool(0)`**: **False** "
   ]
  },
  {
   "cell_type": "markdown",
   "metadata": {},
   "source": [
    ">Expressions are operations python performs, for example basic arithmetic which is known as an operation.\n",
    "The numbers are the operands \n",
    "The maths symbols are operators "
   ]
  },
  {
   "cell_type": "markdown",
   "metadata": {},
   "source": [
    "Can get help on operations, types, methods and functions using following:  \n",
    "**`A`**=(1, 2)  \n",
    "**`help(A)`**:\n",
    "Would give help on a list and variable **`A`**"
   ]
  },
  {
   "cell_type": "markdown",
   "metadata": {},
   "source": [
    "**Operators**"
   ]
  },
  {
   "cell_type": "markdown",
   "metadata": {},
   "source": [
    "**`/`** Single forward slash will **divide** and give result as **float** (real number, answer) e.g., 6/4=1.5  \n",
    "**`//`** Double forward slash = **floor division**, will give result as **int** (loss of decimal information) note that if type isn't specified and there is a float as an operand that the answer will be calculated as an int but given in float format. This is always rounded down. e.g., 6//4=1  \n",
    "`**` **Exponentiation** will give the **power of**, e.g., 2\\*\\*8=8  \n",
    "**`%`** **Modulus** will give **remainder** of a division, e.g., 6%4=2   \n",
    "**`*`** Will **multiply**  e.g., 2\"*\"4=8   "
   ]
  },
  {
   "cell_type": "markdown",
   "metadata": {},
   "source": [
    "**`+=`** **Increment assignment** will add a value and a variable and assign it to the variable  \n",
    "**`-=`** **Decrement assignment** will subtract a value from a variable and assign it to the variable  \n",
    "**`/=`** **Division assignment** divides the variable by a value and assigns the result to that variable  \n",
    "**`*=`** **Multiplication assignment** multiplies the variable by a value and assigns the result to that variable  \n",
    "**`%=`** **Modulus assignment** computes the modulus of the variable and a value and assigns the result to that variable  \n",
    "**`//=`** **Floor division assignment** floor divides the variable by a value and assigns the result to that variable  \n",
    "`**=` **Power assignment** raises the variable to a specified power and assigns the result to the variable  \n",
    "  "
   ]
  },
  {
   "cell_type": "markdown",
   "metadata": {},
   "source": [
    "---"
   ]
  },
  {
   "cell_type": "markdown",
   "metadata": {},
   "source": [
    "**Comparison Operators**  \n",
    "* Compares some values, operands or variables including strings"
   ]
  },
  {
   "cell_type": "markdown",
   "metadata": {},
   "source": [
    "**`==`** **Equality operator** Gives result \"True\" when both sides are equal  \n",
    "**`!=`** **Inequality operator** Gives result \"True\" when both sides are **Not** equal  \n",
    "**`<`** **Less than operator** Gives result \"True\" when operand on left side is less than operand on right side  \n",
    "**`>`** **Greater than operator** Gives result \"True\" when operand on left side is greater than operand on right side  \n",
    "**`<=`** **Less than or equal to operator** Gives result \"True\" when operand on left side is less than or equal to the right side  \n",
    "**`>=`** **Greater than or equal to operator** Gives result \"True\" when operand on left side is greater than or equal to the right side  "
   ]
  },
  {
   "cell_type": "code",
   "execution_count": 4,
   "metadata": {},
   "outputs": [
    {
     "data": {
      "text/plain": [
       "True"
      ]
     },
     "execution_count": 4,
     "metadata": {},
     "output_type": "execute_result"
    }
   ],
   "source": [
    "# example of using comparison operators\n",
    "a=6 # setting variable a\n",
    "a<8"
   ]
  },
  {
   "cell_type": "code",
   "execution_count": 5,
   "metadata": {},
   "outputs": [
    {
     "data": {
      "text/plain": [
       "False"
      ]
     },
     "execution_count": 5,
     "metadata": {},
     "output_type": "execute_result"
    }
   ],
   "source": [
    "# example of using comparison operators\n",
    "\"AC/DC\"==\"Micheal Jackson\""
   ]
  },
  {
   "cell_type": "markdown",
   "metadata": {},
   "source": [
    "---"
   ]
  },
  {
   "cell_type": "markdown",
   "metadata": {},
   "source": [
    "#### **Escape sequences**"
   ]
  },
  {
   "cell_type": "markdown",
   "metadata": {},
   "source": [
    "**`\\`** Proceeds the escape sequence "
   ]
  },
  {
   "cell_type": "markdown",
   "metadata": {},
   "source": [
    "**`\\n`** For new line"
   ]
  },
  {
   "cell_type": "code",
   "execution_count": 6,
   "metadata": {},
   "outputs": [
    {
     "name": "stdout",
     "output_type": "stream",
     "text": [
      "Double space: Micheal  Jackson\n",
      "No space, with escape \\n:\n",
      "Micheal\n",
      "Jackson\n"
     ]
    }
   ],
   "source": [
    "# example of new line escape sequence\n",
    "print(\"Double space: Micheal  Jackson\") # double space only work in markdown, not python\n",
    "print(\"No space, with escape \\\\n:\\nMicheal\\nJackson\")"
   ]
  },
  {
   "cell_type": "markdown",
   "metadata": {},
   "source": [
    "**`\\t`** For tab  \n",
    "**`\\\\`** To insert a single **`\\`** in string    \n",
    "**`r`** To display as raw string (placed before the quotation mark)   "
   ]
  },
  {
   "cell_type": "code",
   "execution_count": 7,
   "metadata": {},
   "outputs": [
    {
     "name": "stdout",
     "output_type": "stream",
     "text": [
      "With r: Micheal\\nJackson\n",
      "Without r: Micheal\n",
      "Jackson\n"
     ]
    }
   ],
   "source": [
    "# example of raw string\n",
    "print(r\"With r: Micheal\\nJackson\")\n",
    "print(\"Without r: Micheal\\nJackson\")"
   ]
  },
  {
   "cell_type": "markdown",
   "metadata": {},
   "source": [
    " ---"
   ]
  },
  {
   "cell_type": "markdown",
   "metadata": {},
   "source": [
    "#### **Operations**"
   ]
  },
  {
   "cell_type": "markdown",
   "metadata": {},
   "source": [
    "Assignment operator **`=`**   \n",
    "Assigns values to variables  \n",
    "Or results to an expression  \n",
    "  \n",
    "**`print(var)`** Enter variable to be output,  can be entered as a string when put in quotes,  or multiple entries separated by a comma\n",
    "\n",
    "**`print blank line`**:\n",
    "* print( )\n",
    "* print(\" \")\n",
    "* print(\\n)\n",
    "\n",
    "Can perform operations on a variable and assign it to a new variable  \n",
    "**`x`**=5  \n",
    "**`y`**=10/**`x`**  \n",
    "  \n",
    "Or we can perform operations on the same variable which will change its stored value  \n",
    "**`x`**=160  \n",
    "**`x`**=**`x`**/60 **`x`**=2.66666...   "
   ]
  },
  {
   "cell_type": "markdown",
   "metadata": {},
   "source": [
    "---"
   ]
  },
  {
   "cell_type": "markdown",
   "metadata": {},
   "source": [
    "#### **Strings & Indexing**"
   ]
  },
  {
   "cell_type": "markdown",
   "metadata": {},
   "source": [
    "* Strings are immutable \n",
    "* Contained within two quotes, either single 'a' or double \"b\" but not a mixture   \n",
    "* Can contain characters, digits, spaces or special characters  \n",
    "* Strings can be added when digits or characters, **beware** this will be done as text not numbers e.g., =\"1\" + \"4\" : \"14\"  \n",
    "* Each element of a string can be accessed with an index represented by array of numbers, first character will be 0 and counting up to the right.\n",
    "  Or from the end starting at -1 and counting down to the left   "
   ]
  },
  {
   "cell_type": "markdown",
   "metadata": {},
   "source": [
    "Note **square brackets** for indexing  \n",
    "**indexing**: **`var[index]`**"
   ]
  },
  {
   "cell_type": "code",
   "execution_count": 9,
   "metadata": {},
   "outputs": [
    {
     "name": "stdout",
     "output_type": "stream",
     "text": [
      "Micheal Jackson\n"
     ]
    }
   ],
   "source": [
    "# define variable, \"name\"\n",
    "name = \"Micheal Jackson\"\n",
    "print(name)"
   ]
  },
  {
   "cell_type": "code",
   "execution_count": 10,
   "metadata": {},
   "outputs": [
    {
     "data": {
      "text/plain": [
       "'e'"
      ]
     },
     "execution_count": 10,
     "metadata": {},
     "output_type": "execute_result"
    }
   ],
   "source": [
    "# example of indexing from the left\n",
    "name[4]"
   ]
  },
  {
   "cell_type": "code",
   "execution_count": 11,
   "metadata": {},
   "outputs": [
    {
     "data": {
      "text/plain": [
       "'s'"
      ]
     },
     "execution_count": 11,
     "metadata": {},
     "output_type": "execute_result"
    }
   ],
   "source": [
    "# example of indexing from the right\n",
    "name[-3]"
   ]
  },
  {
   "cell_type": "markdown",
   "metadata": {},
   "source": [
    "**slice**: **`var[start point : end point]`** Think of points between the characters "
   ]
  },
  {
   "cell_type": "code",
   "execution_count": 12,
   "metadata": {},
   "outputs": [
    {
     "data": {
      "text/plain": [
       "'Mich'"
      ]
     },
     "execution_count": 12,
     "metadata": {},
     "output_type": "execute_result"
    }
   ],
   "source": [
    "# example of a slice\n",
    "name[0:4]"
   ]
  },
  {
   "cell_type": "markdown",
   "metadata": {},
   "source": [
    "**stride**: **`var[start : end : places to jump]`** If no start/end entered, it will start from beginning"
   ]
  },
  {
   "cell_type": "code",
   "execution_count": 13,
   "metadata": {},
   "outputs": [
    {
     "data": {
      "text/plain": [
       "'McelJcsn'"
      ]
     },
     "execution_count": 13,
     "metadata": {},
     "output_type": "execute_result"
    }
   ],
   "source": [
    "# example of a stride without start or end point\n",
    "name[::2]"
   ]
  },
  {
   "cell_type": "code",
   "execution_count": 14,
   "metadata": {},
   "outputs": [
    {
     "data": {
      "text/plain": [
       "'hlas'"
      ]
     },
     "execution_count": 14,
     "metadata": {},
     "output_type": "execute_result"
    }
   ],
   "source": [
    "# another example with start point\n",
    "name[3::3]"
   ]
  },
  {
   "cell_type": "markdown",
   "metadata": {},
   "source": [
    "**len** function: **`len(var)`**  \n",
    "Function returns length of string  \n",
    "Note this starts at 1 as its **number of elements** NOT index numbers"
   ]
  },
  {
   "cell_type": "code",
   "execution_count": 15,
   "metadata": {},
   "outputs": [
    {
     "data": {
      "text/plain": [
       "15"
      ]
     },
     "execution_count": 15,
     "metadata": {},
     "output_type": "execute_result"
    }
   ],
   "source": [
    "# example of len function\n",
    "len(name)"
   ]
  },
  {
   "cell_type": "markdown",
   "metadata": {},
   "source": [
    "**concatenate** and combine strings:  \n",
    "**`new_var = var1 + var2`**"
   ]
  },
  {
   "cell_type": "code",
   "execution_count": 16,
   "metadata": {},
   "outputs": [
    {
     "name": "stdout",
     "output_type": "stream",
     "text": [
      "Micheal Jackson is the best\n"
     ]
    }
   ],
   "source": [
    "# showing string concatenate\n",
    "# note space before \"is\"\n",
    "statement= name + \" is the best\"\n",
    "print(statement)"
   ]
  },
  {
   "cell_type": "markdown",
   "metadata": {},
   "source": [
    "Be aware that concatenating strings with digits will be treated as strings, see example:"
   ]
  },
  {
   "cell_type": "code",
   "execution_count": 17,
   "metadata": {},
   "outputs": [
    {
     "name": "stdout",
     "output_type": "stream",
     "text": [
      "11\n",
      "type: <class 'str'>\n"
     ]
    }
   ],
   "source": [
    "# example of concatenating strings with digits\n",
    "digitString = \"1\" + \"1\"\n",
    "print(digitString)\n",
    "print(\"type:\", type(digitString))"
   ]
  },
  {
   "cell_type": "markdown",
   "metadata": {},
   "source": [
    "**replicate** strings:  \n",
    "**`#timesToRep* var`**"
   ]
  },
  {
   "cell_type": "code",
   "execution_count": 18,
   "metadata": {},
   "outputs": [
    {
     "data": {
      "text/plain": [
       "'Micheal JacksonMicheal JacksonMicheal Jackson'"
      ]
     },
     "execution_count": 18,
     "metadata": {},
     "output_type": "execute_result"
    }
   ],
   "source": [
    "# example of replicating a string\n",
    "3*name"
   ]
  },
  {
   "cell_type": "markdown",
   "metadata": {},
   "source": [
    "---"
   ]
  },
  {
   "cell_type": "markdown",
   "metadata": {},
   "source": [
    "#### **Methods**"
   ]
  },
  {
   "cell_type": "markdown",
   "metadata": {},
   "source": [
    "Strings are sequences and can use the same sequence methods as lists and tuples, they also have string methods which just work on strings.  "
   ]
  },
  {
   "cell_type": "markdown",
   "metadata": {},
   "source": [
    "**upper**: **`var.upper()`** To make everything upper case, **must assign a variable to keep the change** "
   ]
  },
  {
   "cell_type": "code",
   "execution_count": 19,
   "metadata": {},
   "outputs": [
    {
     "data": {
      "text/plain": [
       "'MICHEAL JACKSON'"
      ]
     },
     "execution_count": 19,
     "metadata": {},
     "output_type": "execute_result"
    }
   ],
   "source": [
    "# example of `upper` method\n",
    "name.upper()"
   ]
  },
  {
   "cell_type": "code",
   "execution_count": 20,
   "metadata": {},
   "outputs": [
    {
     "name": "stdout",
     "output_type": "stream",
     "text": [
      "Micheal Jackson\n",
      "MICHEAL JACKSON\n"
     ]
    }
   ],
   "source": [
    "# showing changes do not affect original variable unless reassigned\n",
    "name = \"Micheal Jackson\"\n",
    "name.upper()  # upper change made temporarily, but not assigned to a variable \n",
    "print(name)  # will print original - lower case\n",
    "name = name.upper()  # reassigning to original variable, could be a new variable\n",
    "print(name)\n",
    "name = \"Micheal Jackson\" # resetting variable"
   ]
  },
  {
   "cell_type": "markdown",
   "metadata": {},
   "source": [
    "**replace**: **`var.replace(\"what\", \"with\")`** Assign a variable to save change and denote the variable the change is being made to before the ' `.` '  \n",
    "Note this is **Case sensitive**"
   ]
  },
  {
   "cell_type": "code",
   "execution_count": 21,
   "metadata": {},
   "outputs": [
    {
     "data": {
      "text/plain": [
       "'Micheal HEHEson'"
      ]
     },
     "execution_count": 21,
     "metadata": {},
     "output_type": "execute_result"
    }
   ],
   "source": [
    "# example of `replace` method\n",
    "name.replace(\"Jack\", \"HEHE\")"
   ]
  },
  {
   "cell_type": "markdown",
   "metadata": {},
   "source": [
    "**find**: **`var.find(\"what\")`** Would output the **first index** of the sequence  \n",
    "Will return **`-1`** if not found"
   ]
  },
  {
   "cell_type": "code",
   "execution_count": 22,
   "metadata": {},
   "outputs": [
    {
     "data": {
      "text/plain": [
       "10"
      ]
     },
     "execution_count": 22,
     "metadata": {},
     "output_type": "execute_result"
    }
   ],
   "source": [
    "# example of `find` method\n",
    "name.find(\"ck\")"
   ]
  },
  {
   "cell_type": "code",
   "execution_count": 23,
   "metadata": {},
   "outputs": [
    {
     "data": {
      "text/plain": [
       "-1"
      ]
     },
     "execution_count": 23,
     "metadata": {},
     "output_type": "execute_result"
    }
   ],
   "source": [
    "# another example of `find` method ... no hit\n",
    "name.find(\"HE\")"
   ]
  },
  {
   "cell_type": "markdown",
   "metadata": {},
   "source": [
    "[<p style=\"text-align: right;\">**⬆ Table of Contents ⬆**</p>](#Python-Notes!)"
   ]
  },
  {
   "cell_type": "markdown",
   "metadata": {},
   "source": [
    "---"
   ]
  },
  {
   "cell_type": "markdown",
   "metadata": {},
   "source": [
    "## <center>Tuples</center>"
   ]
  },
  {
   "cell_type": "markdown",
   "metadata": {},
   "source": [
    "#### **tuples** : **`tupVar = (ele1, ele2, ele3)`**"
   ]
  },
  {
   "cell_type": "markdown",
   "metadata": {},
   "source": [
    "* Tuples are compound data types\n",
    "* They are an **ordered sequence**\n",
    "* Comma separated elements within parenthesis, can contain **`str`**, **`int`** and **`float`**\n",
    "* Have **round brackets**\n",
    "* Tuples are **immutable**, ie cant change them. As a result, if we want to manipulate a tuple, we must assign a variable or create a new tuple"
   ]
  },
  {
   "cell_type": "code",
   "execution_count": 24,
   "metadata": {},
   "outputs": [
    {
     "name": "stdout",
     "output_type": "stream",
     "text": [
      "(2, 'a thing', 9, 5)\n"
     ]
    }
   ],
   "source": [
    "# example of a tuple, note round brackets\n",
    "tuple_example=(2, \"a thing\", 9, 5)\n",
    "print(tuple_example)"
   ]
  },
  {
   "cell_type": "code",
   "execution_count": 25,
   "metadata": {
    "scrolled": true
   },
   "outputs": [
    {
     "data": {
      "text/plain": [
       "2"
      ]
     },
     "execution_count": 25,
     "metadata": {},
     "output_type": "execute_result"
    }
   ],
   "source": [
    "# can be indexed like strings\n",
    "tuple_example[0]"
   ]
  },
  {
   "cell_type": "markdown",
   "metadata": {},
   "source": [
    "**concatenate** tuples: **`newTupVar = tup1Var + (newEle1, newEle2)`**"
   ]
  },
  {
   "cell_type": "code",
   "execution_count": 26,
   "metadata": {},
   "outputs": [
    {
     "name": "stdout",
     "output_type": "stream",
     "text": [
      "(2, 'a thing', 9, 5, 5.6, 'and this')\n"
     ]
    }
   ],
   "source": [
    "# can concatenate, but note a new variable HAS to be assigned\n",
    "tuple2 = tuple_example + (5.6, \"and this\")\n",
    "print(tuple2)"
   ]
  },
  {
   "cell_type": "code",
   "execution_count": 27,
   "metadata": {},
   "outputs": [
    {
     "data": {
      "text/plain": [
       "(9, 5)"
      ]
     },
     "execution_count": 27,
     "metadata": {},
     "output_type": "execute_result"
    }
   ],
   "source": [
    "# can slice like strings: \n",
    "tuple2[2:4]"
   ]
  },
  {
   "cell_type": "code",
   "execution_count": 28,
   "metadata": {},
   "outputs": [
    {
     "data": {
      "text/plain": [
       "6"
      ]
     },
     "execution_count": 28,
     "metadata": {},
     "output_type": "execute_result"
    }
   ],
   "source": [
    "# use len function to obtain number of elements\n",
    "len(tuple2)"
   ]
  },
  {
   "cell_type": "markdown",
   "metadata": {},
   "source": [
    "**sorted** function: **`outListVar = sorted(tupVar,reverse=False)`**  \n",
    "* Use function to sort a tuple, list or set, but note it will **output as a list**  \n",
    "* **\"reverse\"** is **optional** and set to False if not supplied  \n",
    "* A new variable must be assigned to save change  \n",
    "* **`sorted`** function does not work on **`int`** and **`str`** at the same time  \n",
    "* **Beware** of typecasting a sorted list back to a set as a set by definition is **unordered**   "
   ]
  },
  {
   "cell_type": "code",
   "execution_count": 29,
   "metadata": {},
   "outputs": [
    {
     "name": "stdout",
     "output_type": "stream",
     "text": [
      "('A', 'Z', 'F', 'C')\n",
      "tupleA Type: <class 'tuple'>\n",
      "['A', 'C', 'F', 'Z']\n",
      "a_sorted Type: <class 'list'>\n"
     ]
    }
   ],
   "source": [
    "# example of `sorted` function\n",
    "# note this function outputs as a list\n",
    "\n",
    "tupleA = (\"A\", \"Z\", \"F\", \"C\")\n",
    "print(tupleA)\n",
    "print(\"tupleA Type:\", type(tupleA))\n",
    "\n",
    "a_sorted = sorted(tupleA)\n",
    "print(a_sorted)\n",
    "print(\"a_sorted Type:\", type(a_sorted))"
   ]
  },
  {
   "cell_type": "code",
   "execution_count": 30,
   "metadata": {},
   "outputs": [
    {
     "name": "stdout",
     "output_type": "stream",
     "text": [
      "(2, 'a thing', 9, 5, 5.6, 'and this')\n"
     ]
    },
    {
     "ename": "TypeError",
     "evalue": "'<' not supported between instances of 'str' and 'int'",
     "output_type": "error",
     "traceback": [
      "\u001b[0;31m---------------------------------------------------------------------------\u001b[0m",
      "\u001b[0;31mTypeError\u001b[0m                                 Traceback (most recent call last)",
      "\u001b[0;32m<ipython-input-30-858f11854072>\u001b[0m in \u001b[0;36m<module>\u001b[0;34m\u001b[0m\n\u001b[1;32m      1\u001b[0m \u001b[0;31m# example of using `sorted` function when both `int` and `str` are in a tuple\u001b[0m\u001b[0;34m\u001b[0m\u001b[0;34m\u001b[0m\u001b[0;34m\u001b[0m\u001b[0m\n\u001b[1;32m      2\u001b[0m \u001b[0mprint\u001b[0m\u001b[0;34m(\u001b[0m\u001b[0mtuple2\u001b[0m\u001b[0;34m)\u001b[0m\u001b[0;34m\u001b[0m\u001b[0;34m\u001b[0m\u001b[0m\n\u001b[0;32m----> 3\u001b[0;31m \u001b[0mtuple2_Sorted\u001b[0m \u001b[0;34m=\u001b[0m \u001b[0msorted\u001b[0m\u001b[0;34m(\u001b[0m\u001b[0mtuple2\u001b[0m\u001b[0;34m)\u001b[0m\u001b[0;34m\u001b[0m\u001b[0;34m\u001b[0m\u001b[0m\n\u001b[0m",
      "\u001b[0;31mTypeError\u001b[0m: '<' not supported between instances of 'str' and 'int'"
     ]
    }
   ],
   "source": [
    "# example of using `sorted` function when both `int` and `str` are in a tuple\n",
    "print(tuple2)\n",
    "tuple2_Sorted = sorted(tuple2)"
   ]
  },
  {
   "cell_type": "code",
   "execution_count": null,
   "metadata": {},
   "outputs": [],
   "source": [
    "# sorted function\n",
    "\n",
    "list1 = [1,5,3,2]\n",
    "\n",
    "sorted(list1)\n",
    "print(list1)   # must assign variable to save change"
   ]
  },
  {
   "cell_type": "code",
   "execution_count": null,
   "metadata": {},
   "outputs": [],
   "source": [
    "# sorted function being assigned to a new variable to save change and showing reverse parameter\n",
    "\n",
    "list1 = [1,5,3,2]\n",
    "\n",
    "a = sorted(list1,reverse=True)\n",
    "print(a)"
   ]
  },
  {
   "cell_type": "markdown",
   "metadata": {},
   "source": [
    "**sort** method: **`tupVar.sort(reverse=False)`**  \n",
    "* Similar to sorted function, however this **will affect original variable**\n",
    "* Use method to sort a tuple or list but note it will **output as a list**  \n",
    "* **\"reverse\"** is **optional** and set to False if not supplied  \n",
    "* **`sort`** method does not work on **`int`** and **`str`** at the same time  \n",
    "* **Beware** of typecasting a sorted list back to a set as a set by definition is **unordered**   "
   ]
  },
  {
   "cell_type": "code",
   "execution_count": null,
   "metadata": {},
   "outputs": [],
   "source": [
    "# sort method\n",
    "\n",
    "tup1 = [5,3,10,13]\n",
    "\n",
    "tup1.sort()\n",
    "print(tup1) # changes original variable, note its converted to a list"
   ]
  },
  {
   "cell_type": "markdown",
   "metadata": {},
   "source": [
    "**nest** tuples: **`tupVar = (ele1, (nesTupVar), ele3)`**  \n",
    "Other tuples can be **nested** in a tuple"
   ]
  },
  {
   "cell_type": "code",
   "execution_count": null,
   "metadata": {},
   "outputs": [],
   "source": [
    "# showing nesting of a Tuple\n",
    "t1=(3,\"Hello\",1)\n",
    "t2=(8,(t1),4)\n",
    "print(t2)"
   ]
  },
  {
   "cell_type": "markdown",
   "metadata": {},
   "source": [
    "**indexing** nested tuples: **`var[outIndex][nextLayerIndex][...][lastLayerIndex]`**"
   ]
  },
  {
   "cell_type": "code",
   "execution_count": null,
   "metadata": {},
   "outputs": [],
   "source": [
    "# indexing of nested tuples\n",
    "print(\"t1:\",t1)\n",
    "print(\"t2:\",t2)\n",
    "print(\"number of elements in t2:\", len(t2))\n",
    "# t1 elements can be accessed as follows:\n",
    "t2[1][1][4]  # accessing 5th element of 2nd element of nested t1"
   ]
  },
  {
   "cell_type": "markdown",
   "metadata": {},
   "source": [
    "[<p style=\"text-align: right;\">**⬆ Table of Contents ⬆**</p>](#Python-Notes!)"
   ]
  },
  {
   "cell_type": "markdown",
   "metadata": {},
   "source": [
    "---"
   ]
  },
  {
   "cell_type": "markdown",
   "metadata": {},
   "source": [
    "## <center>Lists</center>"
   ]
  },
  {
   "cell_type": "markdown",
   "metadata": {},
   "source": [
    "#### **lists**: **`listVar = [ele1, ele2, ele3]`**"
   ]
  },
  {
   "cell_type": "markdown",
   "metadata": {},
   "source": [
    "* Lists are also compound data types\n",
    "* Also an ordered sequence\n",
    "* Lists are represented with **square brackets**\n",
    "* Lists are **mutable**, meaning we can change them\n",
    "* They can contain **`str`**, **`float`**, **`int`**, can also **nest** other **lists**, **tuples** and **other data structures**"
   ]
  },
  {
   "cell_type": "markdown",
   "metadata": {},
   "source": [
    "**concatenate** lists:  \n",
    "**`newListVar = list1Var + [newEle1, newEle2]`**"
   ]
  },
  {
   "cell_type": "code",
   "execution_count": null,
   "metadata": {},
   "outputs": [],
   "source": [
    "# example of concatinating a list by adding\n",
    "l1 = [\"MJ\", 10.1, 1982]\n",
    "print(\"l1:\", l1)\n",
    "l2 = l1 + [\"pop\", 10]\n",
    "print(\"l2:\", l2)"
   ]
  },
  {
   "cell_type": "markdown",
   "metadata": {},
   "source": [
    "**sorted** function: **`outListVar = sorted(listVar,reverse=False)`**  \n",
    "* Use function to sort a tuple, list or set, but note it will **output as a list**  \n",
    "* **\"reverse\"** is **optional** and set to False if not supplied  \n",
    "* A new variable must be assigned to save change  \n",
    "* **`sorted`** function does not work on **`int`** and **`str`** at the same time  \n",
    "* **Beware** of typecasting a sorted list back to a set as a set by definition is **unordered**   "
   ]
  },
  {
   "cell_type": "code",
   "execution_count": null,
   "metadata": {},
   "outputs": [],
   "source": [
    "# example of `sorted` function\n",
    "# note this function outputs as a list even when used to sort a tuple or set\n",
    "\n",
    "listA = [\"A\", \"Z\", \"F\", \"C\"]\n",
    "print(listA)\n",
    "print(\"listA Type:\", type(listA))\n",
    "\n",
    "a_sorted = sorted(listA)\n",
    "print(a_sorted)\n",
    "print(\"a_sorted Type:\", type(a_sorted))"
   ]
  },
  {
   "cell_type": "code",
   "execution_count": null,
   "metadata": {},
   "outputs": [],
   "source": [
    "# sorted function\n",
    "\n",
    "list1 = [1,5,3,2]\n",
    "\n",
    "sorted(list1)\n",
    "print(list1)   # must assign variable to save change"
   ]
  },
  {
   "cell_type": "code",
   "execution_count": null,
   "metadata": {},
   "outputs": [],
   "source": [
    "# sorted function being assigned to a new variable to save change and showing reverse parameter\n",
    "\n",
    "list1 = [1,5,3,2]\n",
    "\n",
    "a = sorted(list1,reverse=True)\n",
    "print(a)"
   ]
  },
  {
   "cell_type": "markdown",
   "metadata": {},
   "source": [
    "**sort** method: **`listVar.sort(reverse=False)`**  \n",
    "* Similar to sorted function, however this **will affect original variable**\n",
    "* Use method to sort a tuple or list but note it will **output as a list**  \n",
    "* **\"reverse\"** is **optional** and set to False if not supplied  \n",
    "* **`sort`** method does not work on **`int`** and **`str`** at the same time  \n",
    "* **Beware** of typecasting a sorted list back to a set as a set by definition is **unordered**   "
   ]
  },
  {
   "cell_type": "code",
   "execution_count": null,
   "metadata": {},
   "outputs": [],
   "source": [
    "# sort method\n",
    "\n",
    "list1 = [5,3,10,13]\n",
    "\n",
    "list1.sort()\n",
    "print(list1) # changes original variable"
   ]
  },
  {
   "cell_type": "markdown",
   "metadata": {},
   "source": [
    "**extend** method: **`listVar.extend([newEle1, newEle2])`**  \n",
    "This will add each element as individual elements"
   ]
  },
  {
   "cell_type": "code",
   "execution_count": null,
   "metadata": {},
   "outputs": [],
   "source": [
    "# example of `extend` method\n",
    "l1.extend([\"pop\", 10,])\n",
    "print(\"l1:\", l1)"
   ]
  },
  {
   "cell_type": "markdown",
   "metadata": {},
   "source": [
    "**append** method: **`listVar.append([newEle1, newEle2])`**  \n",
    "This will add all the new elements as only one new element (nested list)"
   ]
  },
  {
   "cell_type": "code",
   "execution_count": null,
   "metadata": {},
   "outputs": [],
   "source": [
    "# showing append method and comparing number of elements\n",
    "print(\"l1 before append:\", l1)\n",
    "print(\"l1 number of elements before append:\", len(l1))\n",
    "l1.append([\"pop\", 10])\n",
    "print(\"l1 after append:\", l1)\n",
    "print(\"l1 number of elements after append\", len(l1))"
   ]
  },
  {
   "cell_type": "markdown",
   "metadata": {},
   "source": [
    ">With lists, **every time a method is applied**, the list changes unless assigned to a new variable"
   ]
  },
  {
   "cell_type": "markdown",
   "metadata": {},
   "source": [
    "**change** a list element: **`listVar[indexOrSlice] = newEle`**  \n",
    "This will replace the indexed or sliced element with the new element"
   ]
  },
  {
   "cell_type": "code",
   "execution_count": null,
   "metadata": {},
   "outputs": [],
   "source": [
    "# example of changing an element in a list, note difference when slicing if not using brackets\n",
    "print(\"l1 before change:\", l1)\n",
    "l1[0] = \"New1\"\n",
    "print(\"l1 after single element [0] change:\", l1)\n",
    "l1[1:5] = \"New2\"\n",
    "print(\"l1 after slicing [1:5] change, no brackets:\", l1)\n",
    "l1[2:4] = [\"New3\"]\n",
    "print(\"l1 after slicing [2:4] change, with brackets:\", l1)"
   ]
  },
  {
   "cell_type": "markdown",
   "metadata": {},
   "source": [
    "**delete** a list element: **`del(listVar[indexOrSlice])`**  \n",
    "  \n",
    "**delete** list: **`del(listVar)`**"
   ]
  },
  {
   "cell_type": "code",
   "execution_count": null,
   "metadata": {},
   "outputs": [],
   "source": [
    "# example of deleting an element with `del`\n",
    "print(\"l1 before del:\",l1)\n",
    "# deletes first element of list\n",
    "del(l1[0])\n",
    "print(\"l1 after del:\",l1)\n",
    "# can even delete variable completely...\n",
    "del(l1)\n",
    "print(\"After list has been deleted\")\n",
    "print(l1)"
   ]
  },
  {
   "cell_type": "markdown",
   "metadata": {},
   "source": [
    "**split** method: **`listVar = strVar.split()`**  \n",
    "Converts string to a list of words, standard delimiter is a **space**"
   ]
  },
  {
   "cell_type": "code",
   "execution_count": null,
   "metadata": {},
   "outputs": [],
   "source": [
    "# example of converting string to a list\n",
    "l = \"Hard rock\"\n",
    "print(\"l:\",l)\n",
    "print(\"l type:\",type(l))\n",
    "l = l.split()\n",
    "print(\"l after split:\",l)\n",
    "print(\"l type after split:\",type(l))"
   ]
  },
  {
   "cell_type": "markdown",
   "metadata": {},
   "source": [
    "Split on a specific **delimiter** by putting argument in the brackets:  \n",
    "**`listVar = strVar.split(\"delimiter\")`**"
   ]
  },
  {
   "cell_type": "code",
   "execution_count": null,
   "metadata": {},
   "outputs": [],
   "source": [
    "# example of splitting on commas\n",
    "li = \"A, B, C, D\"\n",
    "li = li.split(\",\")\n",
    "print(li)\n",
    "print(type(li))"
   ]
  },
  {
   "cell_type": "markdown",
   "metadata": {},
   "source": [
    "**join** method: **`string.join(iterable)`**  \n",
    "Creates **strings** from iterable objects  \n",
    "Joins each **element** of an iterable (such as lists, strings, tuples, dictionaries and sets) by a **string separator**  "
   ]
  },
  {
   "cell_type": "code",
   "execution_count": null,
   "metadata": {},
   "outputs": [],
   "source": [
    "# example of join method\n",
    "seperator = \" -\"\n",
    "joint = seperator.join(li)\n",
    "print(joint)\n",
    "print(type(joint))"
   ]
  },
  {
   "cell_type": "markdown",
   "metadata": {},
   "source": [
    "**copy list**: **`listVar1 = listVar2`**  \n",
    "**Beware** copying by reference, when one variable is set to another changing one element in a list on one variable will affect the other"
   ]
  },
  {
   "cell_type": "code",
   "execution_count": null,
   "metadata": {},
   "outputs": [],
   "source": [
    "# example of copying a list by reference and changing one element in a list which affects the other:\n",
    "a=[1,2]\n",
    "b=a\n",
    "print(\"a before element changed:\",a)\n",
    "print(\"b before element changed:\",b)\n",
    "a[0]=\"a\" # just 1st element in a is changed, but affects both \"a\", and \"b\"\n",
    "print(\"a after change:\",a)\n",
    "print(\"b after change:\",b)"
   ]
  },
  {
   "cell_type": "markdown",
   "metadata": {},
   "source": [
    "**cloning list**: **`listVar1 = listVar2[:]`**  \n",
    "This protects against changes in one list affecting the other"
   ]
  },
  {
   "cell_type": "code",
   "execution_count": null,
   "metadata": {},
   "outputs": [],
   "source": [
    "# example of cloning\n",
    "a = [1, 2]\n",
    "b = a[:]\n",
    "print(\"a before any change:\", a)\n",
    "print(\"b before any change:\", b)\n",
    "a[-2] = [2, 2] # just a changed, also example of negative indexing\n",
    "print(\"a after change:\", a)\n",
    "print(\"b after change:\", b)"
   ]
  },
  {
   "cell_type": "markdown",
   "metadata": {},
   "source": [
    "[<p style=\"text-align: right;\">**⬆ Table of Contents ⬆**</p>](#Python-Notes!)"
   ]
  },
  {
   "cell_type": "markdown",
   "metadata": {},
   "source": [
    "---"
   ]
  },
  {
   "cell_type": "markdown",
   "metadata": {},
   "source": [
    "## <center>Dictionairies</center>"
   ]
  },
  {
   "cell_type": "markdown",
   "metadata": {},
   "source": [
    "#### **dictionaries**: **`dictVar = {\"key1\" : val1, \"key2\" : [listVal1, listVal2], \"key3\" : (tupVal1, tupVal2)}`**"
   ]
  },
  {
   "cell_type": "markdown",
   "metadata": {},
   "source": [
    "* Dictionaries are a type of collection\n",
    "* Uses **curley brackets**\n",
    "* Dictionaries have keys and values as lists have indexes and elements, but the keys do not need to be integers, they are usually characters \n",
    "* **\"keys\"** must be **mutable and unique**\n",
    "* **\"keys\"** can **only** be **strings, numbers or tuples**\n",
    "* **\"values\"** can be **any data type**\n",
    "* **\"values\"** can be **immutable, mutable and duplicates** \n",
    "* **\"keys\"** and values separated with a **colon**\n",
    "* \"key\"/\"value\" pairs are separated with a comma"
   ]
  },
  {
   "cell_type": "markdown",
   "metadata": {},
   "source": [
    "**lookup dictionary value** using key: **`dictVar[key]`**  \n",
    "This is essentially the same as indexing"
   ]
  },
  {
   "cell_type": "code",
   "execution_count": null,
   "metadata": {},
   "outputs": [],
   "source": [
    "# example showing looking up a value using the key \n",
    "dict = {\"Thriller\":\"1982\",\"Back in Black\":\"1980\",\"The Dark Side of the Moon\":\"1973\",\"The Bodyguard\":\"1992\",\"Bat Out of Hell\":\"1977\",\"Their Greatest...\":\"1976\",\"Saturday Night Fever\":\"1977\",\"Rumours\":\"1977\"}\n",
    "dict[\"Back in Black\"]"
   ]
  },
  {
   "cell_type": "markdown",
   "metadata": {},
   "source": [
    "**add dictionary value**: **`dictVar[newKey] = \"newVal\"`**"
   ]
  },
  {
   "cell_type": "code",
   "execution_count": 31,
   "metadata": {},
   "outputs": [
    {
     "ename": "TypeError",
     "evalue": "'type' object does not support item assignment",
     "output_type": "error",
     "traceback": [
      "\u001b[0;31m---------------------------------------------------------------------------\u001b[0m",
      "\u001b[0;31mTypeError\u001b[0m                                 Traceback (most recent call last)",
      "\u001b[0;32m<ipython-input-31-e87b5d3ac6bf>\u001b[0m in \u001b[0;36m<module>\u001b[0;34m\u001b[0m\n\u001b[1;32m      1\u001b[0m \u001b[0;31m# example showing adding a value to a dictionary\u001b[0m\u001b[0;34m\u001b[0m\u001b[0;34m\u001b[0m\u001b[0;34m\u001b[0m\u001b[0m\n\u001b[0;32m----> 2\u001b[0;31m \u001b[0mdict\u001b[0m\u001b[0;34m[\u001b[0m\u001b[0;34m\"Graduation\"\u001b[0m\u001b[0;34m]\u001b[0m \u001b[0;34m=\u001b[0m \u001b[0;34m\"2007\"\u001b[0m\u001b[0;34m\u001b[0m\u001b[0;34m\u001b[0m\u001b[0m\n\u001b[0m\u001b[1;32m      3\u001b[0m \u001b[0mprint\u001b[0m\u001b[0;34m(\u001b[0m\u001b[0mdict\u001b[0m\u001b[0;34m)\u001b[0m\u001b[0;34m\u001b[0m\u001b[0;34m\u001b[0m\u001b[0m\n",
      "\u001b[0;31mTypeError\u001b[0m: 'type' object does not support item assignment"
     ]
    }
   ],
   "source": [
    "# example showing adding a value to a dictionary \n",
    "dict[\"Graduation\"] = \"2007\"\n",
    "print(dict)"
   ]
  },
  {
   "cell_type": "markdown",
   "metadata": {},
   "source": [
    "**delete dictionary entry**: **`del(dictVar[key])`**  \n",
    "This will delete the entered key and its associated values "
   ]
  },
  {
   "cell_type": "code",
   "execution_count": null,
   "metadata": {},
   "outputs": [],
   "source": [
    "# example showing deleting a dictionary key and associated value \n",
    "del(dict[\"Thriller\"])\n",
    "print(dict)"
   ]
  },
  {
   "cell_type": "markdown",
   "metadata": {},
   "source": [
    "**in** command: **`keyToSearch in dictVar`**  \n",
    "This can be used to search a dictionary if a **\"key\"** is present or not  \n",
    "Note this is **case sensitive**   \n",
    "If present, it'll return True, else it'll return False  \n",
    "Can also be used on Sets to check if element is present"
   ]
  },
  {
   "cell_type": "code",
   "execution_count": null,
   "metadata": {},
   "outputs": [],
   "source": [
    "# example using the \"in\" command searching to see if \"The Bodyguard\" is present\n",
    "\"The Bodyguard\" in dict"
   ]
  },
  {
   "cell_type": "markdown",
   "metadata": {},
   "source": [
    "**view all keys** method: **`dictVar.keys()`**  \n",
    "This will return all \"keys\" in a dictionary as a list-like object (<class 'dict_keys'>)"
   ]
  },
  {
   "cell_type": "code",
   "execution_count": null,
   "metadata": {},
   "outputs": [],
   "source": [
    "# example showing all keys in dictionary \n",
    "dict.keys()"
   ]
  },
  {
   "cell_type": "markdown",
   "metadata": {},
   "source": [
    "**view all values** method: **`dictVar.values()`**  \n",
    "This will return all \"values\" in a dictionary as a list-like object (<class 'dict_values'>)"
   ]
  },
  {
   "cell_type": "code",
   "execution_count": null,
   "metadata": {},
   "outputs": [],
   "source": [
    "# example showing values method to lookup all values in a dictionary\n",
    "dict.values()"
   ]
  },
  {
   "cell_type": "markdown",
   "metadata": {},
   "source": [
    "[<p style=\"text-align: right;\">**⬆ Table of Contents ⬆**</p>](#Python-Notes!)"
   ]
  },
  {
   "cell_type": "markdown",
   "metadata": {},
   "source": [
    "--- "
   ]
  },
  {
   "cell_type": "markdown",
   "metadata": {},
   "source": [
    "## <center>Sets</center>"
   ]
  },
  {
   "cell_type": "markdown",
   "metadata": {},
   "source": [
    "**sets**: **`setVar = {\"ele1\", \"ele2\", \"ele3\"}`**"
   ]
  },
  {
   "cell_type": "markdown",
   "metadata": {},
   "source": [
    "* Type of collection  \n",
    "* Uses **curley brackets**  \n",
    "* Sets are **unordered** meaning element positions are not recorded   \n",
    "* Sets only have **unique elements**  \n",
    "* Duplicates can be present in the creation of a set, but there will only be one unique element once the set is created"
   ]
  },
  {
   "cell_type": "markdown",
   "metadata": {},
   "source": [
    "**set** function: **`set(listVar)`**  \n",
    "This will convert a list to a set (typecasting)"
   ]
  },
  {
   "cell_type": "code",
   "execution_count": null,
   "metadata": {
    "scrolled": true
   },
   "outputs": [],
   "source": [
    "# example showing a list being converted to a set \n",
    "album_list = [\"Micheal Jackson\", \"Thriller\", \"Thriller\", \"1982\"]\n",
    "print(\"album_list:\", album_list)\n",
    "print(\"album_list type:\", type(album_list))\n",
    "album_set = set(album_list)\n",
    "print(\"album_set:\", album_set) # notice no duplicate elements\n",
    "print(\"album_set type:\", type(album_set))"
   ]
  },
  {
   "cell_type": "markdown",
   "metadata": {},
   "source": [
    "**sorted** function: **`outListVar = sorted(setVar,reverse=False)`**  \n",
    "* Use function to sort a tuple, list or set, but note it will **output as a list**  \n",
    "* **\"reverse\"** is **optional** and set to False if not supplied  \n",
    "* A new variable must be assigned to save change  \n",
    "* **`sorted`** function does not work on **`int`** and **`str`** at the same time  \n",
    "* **Beware** of typecasting a sorted list back to a set as a set by definition is **unordered**  \n"
   ]
  },
  {
   "cell_type": "code",
   "execution_count": null,
   "metadata": {},
   "outputs": [],
   "source": [
    "# sorted function\n",
    "set1 = {5,5,10,1,0}\n",
    "\n",
    "sorted(set1)\n",
    "print(set1)   # must assign variable to save change"
   ]
  },
  {
   "cell_type": "code",
   "execution_count": null,
   "metadata": {},
   "outputs": [],
   "source": [
    "# example of `sorted` function\n",
    "# note this function outputs as a list\n",
    "\n",
    "setA = {\"A\", \"Z\", \"F\", \"C\"}\n",
    "print(setA)\n",
    "print(\"setA type:\", type(setA))\n",
    "\n",
    "a_sorted = sorted(setA)\n",
    "print(a_sorted)\n",
    "print(\"a_sorted type:\", type(a_sorted))"
   ]
  },
  {
   "cell_type": "code",
   "execution_count": null,
   "metadata": {},
   "outputs": [],
   "source": [
    "# sorted function being assigned to a new variable to save change and showing reverse parameter\n",
    "set2 = {5,5,10,1,0}\n",
    "\n",
    "a = sorted(set2,reverse=True)\n",
    "print(a)         # note outputs as a list\n",
    "\n",
    "# beware of typecasting a sorted list back to a set as a set is unordered by definition \n",
    "print(set(a))"
   ]
  },
  {
   "cell_type": "markdown",
   "metadata": {},
   "source": [
    "**add** method: **`setVar.add(\"newEle\")`**  \n",
    "This will add a new element to a set\n",
    "If same element is added twice, nothing will happen as cannont have duplicates"
   ]
  },
  {
   "cell_type": "code",
   "execution_count": null,
   "metadata": {},
   "outputs": [],
   "source": [
    "# example showing adding an element to a set\n",
    "a = {\"Thriller\", \"Back in Black\", \"AC/DC\"} # set creation\n",
    "print(a)\n",
    "a.add(\"NSYNC\") # adding element to set\n",
    "print(\"After adding element:\", a)\n",
    "a.add(\"NSYNC\") # showing adding a second time doesn't affect set\n",
    "print(\"After adding element again:\", a)"
   ]
  },
  {
   "cell_type": "markdown",
   "metadata": {},
   "source": [
    "**remove** method: **`setVar.remove(\"ele\")`**  \n",
    "This will remove element from a set"
   ]
  },
  {
   "cell_type": "code",
   "execution_count": null,
   "metadata": {},
   "outputs": [],
   "source": [
    "# example showing removal of an element from a set\n",
    "print(\"Set before element removal\", a)\n",
    "a.remove(\"NSYNC\") # removing element from set\n",
    "print(\"Set after removal\", a)"
   ]
  },
  {
   "cell_type": "markdown",
   "metadata": {},
   "source": [
    "**in** command: **`eleToSearch in setVar`**  \n",
    "This can be used to search a set if an **element** is present or not  \n",
    "Note this is **case sensitive**   \n",
    "If present, it'll return True, else it'll return False\n",
    "Can also be used on Dictionaires to check if a key is present"
   ]
  },
  {
   "cell_type": "code",
   "execution_count": null,
   "metadata": {},
   "outputs": [],
   "source": [
    "# example using the \"in\" command searching to see if \"AC/DC\" is present\n",
    "\"AC/DC\" in a"
   ]
  },
  {
   "cell_type": "markdown",
   "metadata": {},
   "source": [
    "**intersection** method: **`intersection_SetVar = set1_Var & set2_Var`**  \n",
    "Uses ampersand operator **`&`**  \n",
    "This would compare set1 and set2 elements, returning the common elements in the new variable"
   ]
  },
  {
   "cell_type": "code",
   "execution_count": null,
   "metadata": {},
   "outputs": [],
   "source": [
    "# example using the intersection method (ampersand)\n",
    "set1 = {\"AC/DC\", \"Back in Black\", \"Thriller\"} # define set1\n",
    "set2 = {\"AC/DC\", \"Back in Black\", \"The Dark Side of the Moon\"} # define set2, note similar elements to set1\n",
    "print(\"set1:\", set1)\n",
    "print(\"set2:\", set2)\n",
    "intersection_Set = set1 & set2 # combining common elements from set1 and set2 into new set variable\n",
    "print(\"intersection set:\", intersection_Set)"
   ]
  },
  {
   "cell_type": "markdown",
   "metadata": {},
   "source": [
    "**union** method: **`union_setVar = set1_Var.union(set2_Var)`**  \n",
    "This combines all of set1 and all of set2 elements into a new set variable"
   ]
  },
  {
   "cell_type": "code",
   "execution_count": null,
   "metadata": {
    "scrolled": true
   },
   "outputs": [],
   "source": [
    "# example showing union of two sets\n",
    "set3 = set1.union(set2)\n",
    "print(set1)\n",
    "print(set2)\n",
    "print(set3)"
   ]
  },
  {
   "cell_type": "markdown",
   "metadata": {},
   "source": [
    "**difference** method: **`difference_setVar = set1_Var.difference(set2_Var)`**  \n",
    "Elements that are **only in set1** are returned in a new set variable"
   ]
  },
  {
   "cell_type": "code",
   "execution_count": null,
   "metadata": {},
   "outputs": [],
   "source": [
    "# example showing difference of two sets\n",
    "difference_set = set1.difference(set2)\n",
    "print(\"set1:\", set1)\n",
    "print(\"set2:\", set2)\n",
    "print(\"difference_set:\", difference_set)"
   ]
  },
  {
   "cell_type": "markdown",
   "metadata": {},
   "source": [
    "**symmetric difference** method: **`symmetric_differenceSetVar = set1.symmetric_difference(set2)`**  \n",
    "Returns **all** elements that **only** appear in one or other of the sets"
   ]
  },
  {
   "cell_type": "code",
   "execution_count": null,
   "metadata": {},
   "outputs": [],
   "source": [
    "# example showing symmetric difference of two sets  \n",
    "a = {'a', 'b', 'c', 'd'} # generate set \"a\"\n",
    "b = {'c', 'd', 'e' } # generate set \"b\"\n",
    "c = {} # generate set \"c\"\n",
    "\n",
    "print(\"set a:\", a) # print sets to view\n",
    "print(\"set b:\", b)\n",
    "print(\"set c:\", c)\n",
    "print() # print blank line for ease of viewing\n",
    "print(\"sets a/b symmetric difference:\", a.symmetric_difference(b)) # print symmetric differences\n",
    "print(\"sets b/a symmetric difference:\", b.symmetric_difference(a))\n",
    "print(\"sets a/c symmetric difference:\", a.symmetric_difference(c))\n",
    "print(\"sets b/c symmetric difference:\", b.symmetric_difference(c))"
   ]
  },
  {
   "cell_type": "markdown",
   "metadata": {},
   "source": [
    "**issubset** method: **`set_to_check.issubset(against_this_set)`**  \n",
    "Checks if a set is a subset and all of its elements are contained in another set  \n",
    "Returns True or False"
   ]
  },
  {
   "cell_type": "code",
   "execution_count": null,
   "metadata": {},
   "outputs": [],
   "source": [
    "# example checking if \"set1\" `issubset` of \"set3\"\n",
    "print(\"set1:\", set1)\n",
    "print(\"set3:\", set3)\n",
    "print(\"issubset:\", set1.issubset(set3))"
   ]
  },
  {
   "cell_type": "markdown",
   "metadata": {},
   "source": [
    "**issuperset** method: **`set_to_check.issuperset(against_this_set)`**  \n",
    "Checks if a set is a superset and contains a minimum of all elements of another set   \n",
    "Returns True or False"
   ]
  },
  {
   "cell_type": "code",
   "execution_count": null,
   "metadata": {},
   "outputs": [],
   "source": [
    "# example checking if \"set3\" `issuperset` of \"set1\"\n",
    "print(\"set3:\", set3)\n",
    "print(\"set1:\", set1)\n",
    "print(\"issuperset:\", set3.issuperset(set1))"
   ]
  },
  {
   "cell_type": "markdown",
   "metadata": {},
   "source": [
    "[<p style=\"text-align: right;\">**⬆ Table of Contents ⬆**</p>](#Python-Notes!)"
   ]
  },
  {
   "cell_type": "markdown",
   "metadata": {},
   "source": [
    "---"
   ]
  },
  {
   "cell_type": "markdown",
   "metadata": {},
   "source": [
    "## <center>Branching</center>"
   ]
  },
  {
   "cell_type": "markdown",
   "metadata": {},
   "source": [
    "* Has <ins>**OPTIONAL**</ins> **round brackets** followed by <ins>**COMPULSARY**</ins> **colon**  \n",
    "* Must use comparison operator in test argument, **Not** just regular operator e.g., **`=`**  \n",
    "* Variable to be tested must be defined **prior** to \"if statement\"  "
   ]
  },
  {
   "cell_type": "markdown",
   "metadata": {},
   "source": [
    "**if** statement:  \n",
    "**`if(test_argument):  \n",
    "    when_true_do_this_and_continue (note indent)  \n",
    "when_false_continue_from_here (note no indent)`**   \n",
    "* When \"True\", **both** true and false branches will be actioned  \n",
    "* When \"False\", **only false** branch will be actioned  \n",
    "* **Must Not** indent false branch or it will be deemed part of true branch\n"
   ]
  },
  {
   "cell_type": "code",
   "execution_count": null,
   "metadata": {},
   "outputs": [],
   "source": [
    "# example of if statement when false\n",
    "age=18\n",
    "if(age>18):\n",
    "    print(\"you can enter\")    # argument false, so this line is skipped\n",
    "print(\"move on\")              # continues from here"
   ]
  },
  {
   "cell_type": "code",
   "execution_count": null,
   "metadata": {},
   "outputs": [],
   "source": [
    "# example of if statement when true\n",
    "age=19\n",
    "if(age>18):\n",
    "    print(\"you can enter\")    # argument true, so continues from here\n",
    "print(\"move on\")"
   ]
  },
  {
   "cell_type": "code",
   "execution_count": null,
   "metadata": {},
   "outputs": [],
   "source": [
    "# example showing that when \"False\" branch not indented, it is deemed part of \"True\" branch\n",
    "age=17\n",
    "if(age>18):\n",
    "    print(\"you can enter\")     # argument false, so this line is skipped\n",
    "    print(\"move on\")           # line indented, so this line is skipped also"
   ]
  },
  {
   "cell_type": "markdown",
   "metadata": {},
   "source": [
    "**else** statement:  \n",
    "**`if(test_argument):  \n",
    "    when_true_do_this_and_continue (note indent) \n",
    "else:\n",
    "    when_false_do_this_and_continue (note indent)\n",
    "then_continue_from_here (note no indent)`**  \n",
    "* Similar to \"if statement\" with the addition of the \"else\" branch  \n",
    "* \"Else\" branch will **only** be done when \"if\" argument is \"False\"  \n",
    "* Program will continue from line after \"else\" branch that is **Not** indented after completing relevant branch"
   ]
  },
  {
   "cell_type": "code",
   "execution_count": null,
   "metadata": {},
   "outputs": [],
   "source": [
    "# example of else statement\n",
    "age=18\n",
    "if(age>18):\n",
    "    print(\"you can enter\")    # argument false, so this line is skipped\n",
    "else:\n",
    "    print(\"go see Meat Loaf\")  # argument false, so continues from here, this line would be skipped if true\n",
    "print(\"move on\")"
   ]
  },
  {
   "cell_type": "markdown",
   "metadata": {},
   "source": [
    "**elif** statement:  \n",
    "**`if(test_argument):  \n",
    "    when_true_do_this_and_continue (note indent)  \n",
    "elif(test_argument_when_false):  \n",
    "    when_true_for_second_argument_do_this_and_continue (note indent)  \n",
    "else:\n",
    "    when_false_do_this_and_continue (note indent)\n",
    "then_continue_from_here (note no indent)`**  \n",
    "* Similar to \"else statement\" with the addition of the \"elif\" branch  \n",
    "* Continues \"if\" statement without ending code block as would happen with a further \"if\" statement\n",
    "* \"Elif\" branch will **only** be done when previous \"if\" argument and previous \"elif\" arguments in block are \"false\"   \n",
    "* Program will continue from line after \"else\" branch that is **Not** indented after completing relevant branch"
   ]
  },
  {
   "cell_type": "code",
   "execution_count": null,
   "metadata": {},
   "outputs": [],
   "source": [
    "#  example of elif statement\n",
    "age=18\n",
    "if(age>18):\n",
    "    print(\"you can enter\")       # argument false, so this line is skipped\n",
    "elif(age==18):\n",
    "    print(\"go see Pink Floyd\")   # 2nd argument true, so continues from here\n",
    "else:\n",
    "    print(\"go see Meat Loaf\")    # 2nd argument true, so this line is skipped\n",
    "print(\"move on\")                 # continues from here"
   ]
  },
  {
   "cell_type": "markdown",
   "metadata": {},
   "source": [
    "[<p style=\"text-align: right;\">**⬆ Table of Contents ⬆**</p>](#Python-Notes!)"
   ]
  },
  {
   "cell_type": "markdown",
   "metadata": {},
   "source": [
    "---"
   ]
  },
  {
   "cell_type": "markdown",
   "metadata": {},
   "source": [
    "## <center>Logic Operators</center>"
   ]
  },
  {
   "cell_type": "markdown",
   "metadata": {},
   "source": [
    "* Takes boolean values and produces different boolean values  \n",
    "* Can be combined with branching"
   ]
  },
  {
   "cell_type": "markdown",
   "metadata": {},
   "source": [
    "**not** operator: **`not(test_argument)`**   \n",
    "Returns opposite boolean value to test argument"
   ]
  },
  {
   "cell_type": "code",
   "execution_count": 32,
   "metadata": {},
   "outputs": [
    {
     "data": {
      "text/plain": [
       "False"
      ]
     },
     "execution_count": 32,
     "metadata": {},
     "output_type": "execute_result"
    }
   ],
   "source": [
    "# example of \"not\" operator\n",
    "x=1\n",
    "not(x==1)"
   ]
  },
  {
   "cell_type": "code",
   "execution_count": 33,
   "metadata": {},
   "outputs": [
    {
     "name": "stdout",
     "output_type": "stream",
     "text": [
      "Album year is not 1984\n"
     ]
    }
   ],
   "source": [
    "# example of not operator combined with \"if\" statement\n",
    "album_year = 1983 # define album year\n",
    "\n",
    "if not(album_year == 1984):\n",
    "    print (\"Album year is not 1984\")"
   ]
  },
  {
   "cell_type": "markdown",
   "metadata": {},
   "source": [
    "**or** operator: **`(test_argument_1) or (test_argument_2)`**  \n",
    "Returns \"True\" when either or both arguments are \"True\""
   ]
  },
  {
   "cell_type": "code",
   "execution_count": 34,
   "metadata": {},
   "outputs": [
    {
     "data": {
      "text/plain": [
       "True"
      ]
     },
     "execution_count": 34,
     "metadata": {},
     "output_type": "execute_result"
    }
   ],
   "source": [
    "# example of \"or\" operator  \n",
    "x=3\n",
    "(x<0)or(x>2)"
   ]
  },
  {
   "cell_type": "code",
   "execution_count": 35,
   "metadata": {},
   "outputs": [
    {
     "name": "stdout",
     "output_type": "stream",
     "text": [
      "The Album was made in the 1980's \n"
     ]
    }
   ],
   "source": [
    "# example of \"or\" operator combined with \"if\" statement\n",
    "album_year = 1980 # define album year\n",
    "\n",
    "if(album_year < 1980) or (album_year > 1989):\n",
    "    print (\"Album was not made in the 1980's\")\n",
    "else:\n",
    "    print(\"The Album was made in the 1980's \")"
   ]
  },
  {
   "cell_type": "markdown",
   "metadata": {},
   "source": [
    "**and** operator: **`(test_argument_1) and (test_argument_2)`**"
   ]
  },
  {
   "cell_type": "code",
   "execution_count": 36,
   "metadata": {},
   "outputs": [
    {
     "data": {
      "text/plain": [
       "True"
      ]
     },
     "execution_count": 36,
     "metadata": {},
     "output_type": "execute_result"
    }
   ],
   "source": [
    "# example of \"and\" operator\n",
    "x=1\n",
    "(x>0)and(x<2)"
   ]
  },
  {
   "cell_type": "code",
   "execution_count": 37,
   "metadata": {},
   "outputs": [
    {
     "name": "stdout",
     "output_type": "stream",
     "text": [
      "This album was made in the 80's\n"
     ]
    }
   ],
   "source": [
    "# example of \"and\" operator combined with \"if\" statement\n",
    "album_year = 1983 # define album year\n",
    "\n",
    "if(album_year>1979)and(album_year<1990):\n",
    "    print(\"This album was made in the 80's\")"
   ]
  },
  {
   "cell_type": "markdown",
   "metadata": {},
   "source": [
    "[<p style=\"text-align: right;\">**⬆ Table of Contents ⬆**</p>](#Python-Notes!)"
   ]
  },
  {
   "cell_type": "markdown",
   "metadata": {},
   "source": [
    "---"
   ]
  },
  {
   "cell_type": "markdown",
   "metadata": {},
   "source": [
    "## <center>Loops</center>"
   ]
  },
  {
   "cell_type": "markdown",
   "metadata": {},
   "source": [
    "* Must include **colon**  \n",
    "* Must **indent** loop \"block\" (\"do_this\") section "
   ]
  },
  {
   "cell_type": "markdown",
   "metadata": {},
   "source": [
    "**for** loop: **`for var in sequence :  \n",
    "        do_this_with_var`**  \n",
    "* Used when number of times loop is to be executed is **known** or **fixed** \n",
    "* \"Var\" is a variable that is used for iterating over a \"sequence\", on every iteration it takes the next value from \"sequence\"  until the end of \"sequence\" is reached  \n",
    "* \"Var\" is **not required** to be defined prior to loop as loop will automatically increase incrementally as per sequence given  "
   ]
  },
  {
   "cell_type": "code",
   "execution_count": 38,
   "metadata": {},
   "outputs": [
    {
     "name": "stdout",
     "output_type": "stream",
     "text": [
      "0\n",
      "1\n",
      "2\n",
      "3\n",
      "4\n",
      "5\n",
      "6\n",
      "7\n"
     ]
    }
   ],
   "source": [
    "# example of for loop used to print out a sequence of numbers from 0 to 7\n",
    "\n",
    "for i in range(0, 8):\n",
    "    print(i)"
   ]
  },
  {
   "cell_type": "code",
   "execution_count": 39,
   "metadata": {},
   "outputs": [
    {
     "name": "stdout",
     "output_type": "stream",
     "text": [
      "red\n",
      "yellow\n",
      "green\n",
      "purple\n",
      "blue\n"
     ]
    }
   ],
   "source": [
    "# write a \"for\" loop that prints out the elements from the following list: squares=['red', 'yellow', 'green', 'purple', 'blue']\n",
    "\n",
    "squares = [\"red\", \"yellow\", \"green\", \"purple\", \"blue\"]\n",
    "\n",
    "for colour in squares:\n",
    "    print(colour)"
   ]
  },
  {
   "cell_type": "code",
   "execution_count": 40,
   "metadata": {},
   "outputs": [
    {
     "name": "stdout",
     "output_type": "stream",
     "text": [
      "1\n",
      "4\n",
      "16\n",
      "36\n",
      "121\n",
      "400\n"
     ]
    }
   ],
   "source": [
    "# write a program to print squares of all numbers present in a list\n",
    "\n",
    "# list of integer numbers\n",
    "numbers = [1, 2, 4, 6, 11, 20]\n",
    "\n",
    "# variable to store the square of each num temporarily\n",
    "sq = 0\n",
    "\n",
    "# iterating over the given list\n",
    "for val in numbers:\n",
    "    # calculating square of each number\n",
    "    sq = val * val\n",
    "    # displaying the squares\n",
    "    print(sq)"
   ]
  },
  {
   "cell_type": "code",
   "execution_count": 41,
   "metadata": {},
   "outputs": [
    {
     "name": "stdout",
     "output_type": "stream",
     "text": [
      "0 red\n",
      "1 yellow\n",
      "2 green\n",
      "3 purple\n",
      "4 blue\n"
     ]
    }
   ],
   "source": [
    "# Loop through the list and iterate on both index and element value\n",
    "\n",
    "colours=['red', 'yellow', 'green', 'purple', 'blue']\n",
    "\n",
    "for i, colour in enumerate(colours):\n",
    "    print(i, colour)"
   ]
  },
  {
   "cell_type": "code",
   "execution_count": 42,
   "metadata": {},
   "outputs": [
    {
     "name": "stdout",
     "output_type": "stream",
     "text": [
      "even: (8, 10, 22)\n",
      "odd: (1, 3, 15, 109)\n",
      "<class 'tuple'>\n",
      "<class 'tuple'>\n"
     ]
    }
   ],
   "source": [
    "# from any given \"list\" of numbers, create a \"for\" loop to print 2 seperate tuples\n",
    "# one of all the odd numbers \n",
    "# and one of all the even numbers\n",
    "# do NOT print any repeats of any number\n",
    "# sort each tuple\n",
    "\n",
    "\n",
    "list1 = [3,8,15,22,15,1,10,109,3]\n",
    "\n",
    "even = []\n",
    "odd = []\n",
    "\n",
    "for i in range(0,len(list1)):\n",
    "    if list1[i] % 2 == 0:\n",
    "        even.append(list1[i])\n",
    "    else:\n",
    "        odd.append(list1[i])\n",
    "\n",
    "even = set(even)\n",
    "even = tuple(sorted(even))\n",
    "\n",
    "odd = set(odd)\n",
    "odd = tuple(sorted(odd))\n",
    "\n",
    "if even != ():\n",
    "    print(\"even:\", even)\n",
    "if odd != ():\n",
    "    print(\"odd:\", odd)\n",
    "    \n",
    "print(type(even))\n",
    "print(type(odd))"
   ]
  },
  {
   "cell_type": "markdown",
   "metadata": {},
   "source": [
    "**while** loop: **`while condition_statement :  \n",
    "        do_this`**  \n",
    "* Used when number of times loop will need to be executed is **unknown**  \n",
    "* \"While\" loop will continue whilst condition_statement remains \"True\"  \n",
    "* Ensure to **define** any variable used in \"condition_statement\" **prior** to loop to \"get into loop\"  \n",
    "* Ensure to **adjust the value** of any variable used in \"condition_statement\" **within** loop, otherwise may create an infinite loop  "
   ]
  },
  {
   "cell_type": "code",
   "execution_count": 43,
   "metadata": {},
   "outputs": [
    {
     "name": "stdout",
     "output_type": "stream",
     "text": [
      "1\n",
      "4\n",
      "7\n"
     ]
    }
   ],
   "source": [
    "# example of \"while\" loop  \n",
    "\n",
    "num = 1\n",
    "# loop will repeat itself as long as num < 10 remains true  \n",
    "\n",
    "while num < 10:  \n",
    "    print(num)  \n",
    "    \n",
    "    # incrementing the value of num  \n",
    "    num = num + 3  "
   ]
  },
  {
   "cell_type": "code",
   "execution_count": 44,
   "metadata": {},
   "outputs": [
    {
     "name": "stdout",
     "output_type": "stream",
     "text": [
      "new_squares =  ['orange', 'orange']\n"
     ]
    }
   ],
   "source": [
    "# Write a while loop to copy the strings 'orange' of the list \"squares\" to the list \"new_squares\"  \n",
    "# Stop and exit the loop if the value on the list is NOT 'orange'\n",
    "\n",
    "squares = ['orange', 'orange', 'purple', 'blue ', 'orange']\n",
    "\n",
    "new_squares = []\n",
    "i = 0\n",
    "colour = squares[i]\n",
    "\n",
    "while colour == \"orange\":\n",
    "    new_squares.append(colour)\n",
    "    i = i + 1\n",
    "    colour = squares[i]\n",
    "    \n",
    "    \n",
    "print(\"new_squares = \", new_squares)"
   ]
  },
  {
   "cell_type": "code",
   "execution_count": 45,
   "metadata": {},
   "outputs": [
    {
     "name": "stdout",
     "output_type": "stream",
     "text": [
      "0\n",
      "1\n",
      "2\n",
      "fizz\n",
      "4\n",
      "buzz\n",
      "fizz\n",
      "7\n",
      "8\n",
      "fizz\n",
      "buzz\n",
      "11\n",
      "fizz\n",
      "13\n",
      "14\n",
      "fizzbuzz\n",
      "16\n",
      "17\n",
      "fizz\n",
      "19\n",
      "buzz\n",
      "fizz\n",
      "22\n",
      "23\n",
      "fizz\n",
      "buzz\n",
      "26\n",
      "fizz\n",
      "28\n",
      "29\n",
      "fizzbuzz\n"
     ]
    }
   ],
   "source": [
    "# for any given number, create a \"while\" loop to print out every number from \"0\" upto and including the given number \n",
    "# where the number is divisible by \"3\", print \"fizz\"\n",
    "# where the number is divisible by \"5\", print \"buzz\"\n",
    "# where the number is divisible by both \"3\" AND \"5\", print \"fizzbuzz\"\n",
    "\n",
    "user = 30\n",
    "i = 0\n",
    "\n",
    "while i <= user:\n",
    "    result = \"\"\n",
    "    \n",
    "    if i % 3 == 0:\n",
    "        result = \"fizz\"\n",
    "    if i % 5 == 0:\n",
    "        result = (result + \"buzz\")\n",
    "    if i == 0:\n",
    "        print(i)\n",
    "    elif len(result) >1:\n",
    "        print(result)\n",
    "    else:\n",
    "        print(i)\n",
    "    i += 1"
   ]
  },
  {
   "cell_type": "code",
   "execution_count": 46,
   "metadata": {},
   "outputs": [
    {
     "name": "stdout",
     "output_type": "stream",
     "text": [
      "even: [10, 64, 88]\n",
      "odd: [1, 3, 5, 7, 9]\n",
      "<class 'tuple'>\n",
      "<class 'tuple'>\n"
     ]
    }
   ],
   "source": [
    "# from any given \"list\" of numbers, create a \"while\" loop to print 2 seperate tuples\n",
    "# one of all the odd numbers \n",
    "# and one of all the even numbers\n",
    "# do NOT print any repeats of any number\n",
    "# sort each tuple\n",
    "\n",
    "list1 = [1,3,5,7,9, 88, 64, 10, 10]\n",
    "i=0\n",
    "even = []\n",
    "odd = []\n",
    "\n",
    "while i < (len(list1)):\n",
    "    if list1[i] % 2 == 0:\n",
    "        even.append(list1[i])\n",
    "    else:\n",
    "        odd.append(list1[i])\n",
    "    i += 1\n",
    "    \n",
    "even = set(even)\n",
    "even = tuple(sorted(even))\n",
    "\n",
    "odd = set(odd)\n",
    "odd = tuple(sorted(odd))\n",
    "\n",
    "if even != ():\n",
    "    print(\"even:\", sorted(even))\n",
    "if odd != ():\n",
    "    print(\"odd:\", sorted(odd))\n",
    "    \n",
    "print(type(even))\n",
    "print(type(odd))"
   ]
  },
  {
   "cell_type": "markdown",
   "metadata": {},
   "source": [
    "**break** statement:\n",
    "\n",
    "* Break statement in Python is used to **bring the control out of the loop** when some external condition is triggered  \n",
    "* Statement is put inside the loop body (generally after if condition)"
   ]
  },
  {
   "cell_type": "code",
   "execution_count": 1,
   "metadata": {},
   "outputs": [
    {
     "name": "stdout",
     "output_type": "stream",
     "text": [
      "Number is 0\n",
      "Number is 1\n",
      "Number is 2\n",
      "Number is 3\n",
      "Number is 4\n",
      "Out of loop\n"
     ]
    }
   ],
   "source": [
    "# example of break statement where \"print\" line is after break\n",
    "\n",
    "number = 0\n",
    "\n",
    "for number in range(10):\n",
    "    if number == 5:\n",
    "        break    # breaks here before integer 5 is printed\n",
    "\n",
    "    print('Number is ' + str(number))\n",
    "\n",
    "print('Out of loop')"
   ]
  },
  {
   "cell_type": "code",
   "execution_count": 4,
   "metadata": {},
   "outputs": [
    {
     "name": "stdout",
     "output_type": "stream",
     "text": [
      "H\n",
      "e\n",
      "l\n",
      "l\n",
      "o\n",
      "Out of for loop\n",
      "\n"
     ]
    }
   ],
   "source": [
    "# example of break statement where \"print\" line is before break\n",
    "\n",
    "s = 'Hello World'\n",
    "\n",
    "for letter in s: \n",
    "  \n",
    "    print(letter) \n",
    "    \n",
    "    if letter == 'o' or letter == 'r': \n",
    "        break   # break the loop as soon it sees 'o' or 'r' but after it has printed that string\n",
    "  \n",
    "print(\"Out of for loop\") \n",
    "print() "
   ]
  },
  {
   "cell_type": "markdown",
   "metadata": {},
   "source": [
    "**continue** statement:  \n",
    "\n",
    "* Continue statement is opposite to that of break statement, instead of terminating the loop, it forces the program to execute the next iteration of the loop  \n",
    "* Statement is put inside the loop body (generally after if condition)  "
   ]
  },
  {
   "cell_type": "code",
   "execution_count": 5,
   "metadata": {},
   "outputs": [
    {
     "name": "stdout",
     "output_type": "stream",
     "text": [
      "1 2 3 4 5 7 8 9 10 "
     ]
    }
   ],
   "source": [
    "# write a program which prints the numbers from 1 to 10, but not 6\n",
    "# do this using loop and only one loop is allowed to be used\n",
    "\n",
    "for i in range(1, 11): \n",
    "  # If i is equals to 6, continue to next iteration without printing  \n",
    "    \n",
    "    if i == 6: \n",
    "        continue\n",
    "    else: \n",
    "        # otherwise print the value of i \n",
    "        \n",
    "        print(i, end = \" \") "
   ]
  },
  {
   "cell_type": "markdown",
   "metadata": {},
   "source": [
    "**pass** statement:\n",
    "\n",
    "* Generally used as a **placeholder for future code**  \n",
    "* When the pass statement is executed, nothing happens, but you avoid getting an error when empty code is not allowed  \n",
    "* Difference between pass and comment is that comment is ignored by the interpreter whereas pass is not ignored  \n",
    "* Empty code is not allowed in **loops, function definitions, class definitions, or in if statements**   "
   ]
  },
  {
   "cell_type": "code",
   "execution_count": 8,
   "metadata": {},
   "outputs": [],
   "source": [
    "# example where pass can be used as a placeholder and code can be added later\n",
    "\n",
    "n = 10\n",
    "for i in range(n): \n",
    "    \n",
    "    pass     # program sees pass statement and does nothing"
   ]
  },
  {
   "cell_type": "code",
   "execution_count": 7,
   "metadata": {},
   "outputs": [
    {
     "name": "stdout",
     "output_type": "stream",
     "text": [
      "b\n",
      "c\n",
      "d\n"
     ]
    }
   ],
   "source": [
    "# example where pass statement gets executed when the condition is true \n",
    "\n",
    "li =['a', 'b', 'c', 'd'] \n",
    "  \n",
    "for i in li: \n",
    "    if(i =='a'): \n",
    "        pass \n",
    "    else: \n",
    "        print(i)"
   ]
  },
  {
   "cell_type": "markdown",
   "metadata": {},
   "source": [
    "[<p style=\"text-align: right;\">**⬆ Table of Contents ⬆**</p>](#Python-Notes!)"
   ]
  },
  {
   "cell_type": "markdown",
   "metadata": {},
   "source": [
    "---"
   ]
  },
  {
   "cell_type": "markdown",
   "metadata": {},
   "source": [
    "## <center> Useful Built-in Functions</center>"
   ]
  },
  {
   "cell_type": "markdown",
   "metadata": {},
   "source": [
    "**range** function: **`range(start,stop,step)`**  \n",
    "* Represents a range of immutable sequence of numbers  \n",
    "* \"stop\" is **required**, will stop at and **NOT** include that value   \n",
    "* \"start\" is **NOT required**, set to \"0\" if not given  \n",
    "* \"step\" is **NOT required**, set to \"1\" if not given  \n",
    "* Will print as a **\"range\"** unless typecasted  "
   ]
  },
  {
   "cell_type": "code",
   "execution_count": 47,
   "metadata": {},
   "outputs": [
    {
     "data": {
      "text/plain": [
       "range(0, 6)"
      ]
     },
     "execution_count": 47,
     "metadata": {},
     "output_type": "execute_result"
    }
   ],
   "source": [
    "# example showning how a range prints a range unless typecasted\n",
    "\n",
    "range(6)"
   ]
  },
  {
   "cell_type": "code",
   "execution_count": 48,
   "metadata": {},
   "outputs": [
    {
     "data": {
      "text/plain": [
       "[0, 1, 2, 3, 4, 5]"
      ]
     },
     "execution_count": 48,
     "metadata": {},
     "output_type": "execute_result"
    }
   ],
   "source": [
    "# example showing how a range does not include the \"stop\" value\n",
    "list(range(0,6))"
   ]
  },
  {
   "cell_type": "code",
   "execution_count": 49,
   "metadata": {},
   "outputs": [
    {
     "name": "stdout",
     "output_type": "stream",
     "text": [
      "[10, 12, 14, 16, 18]\n"
     ]
    }
   ],
   "source": [
    "# example showing start and step values\n",
    "print(list(range(10,20,2)))"
   ]
  },
  {
   "cell_type": "code",
   "execution_count": 50,
   "metadata": {},
   "outputs": [
    {
     "name": "stdout",
     "output_type": "stream",
     "text": [
      "[-20, -22, -24, -26, -28]\n"
     ]
    }
   ],
   "source": [
    "# another example showing start and step values with negative numbers\n",
    "print(list(range(-20,-30,-2)))"
   ]
  },
  {
   "cell_type": "markdown",
   "metadata": {},
   "source": [
    "**enumerate** function: **`enumerate(iterable, start=0)`**\n",
    "* Outputs **(index value + start value)** with each element stored as a tuple, whilst the entire object is stored as an enumerate\n",
    "* \"iterable\" can be any object that supports iteration  \n",
    "* \"start\" is **NOT** required, it is the value from which the counter is to be started, by default it is \"0\"   "
   ]
  },
  {
   "cell_type": "code",
   "execution_count": 51,
   "metadata": {},
   "outputs": [
    {
     "name": "stdout",
     "output_type": "stream",
     "text": [
      "Return type: <class 'enumerate'>\n",
      "[(0, 'eat'), (1, 'sleep'), (2, 'repeat')]\n",
      "[(2, 'g'), (3, 'e'), (4, 'e'), (5, 'k')]\n"
     ]
    }
   ],
   "source": [
    "list1 = [\"eat\",\"sleep\",\"repeat\"] \n",
    "string1 = \"geek\"\n",
    "\n",
    "# creating enumerate objects \n",
    "obj1 = enumerate(list1) \n",
    "obj2 = enumerate(string1) \n",
    "\n",
    "print(\"Return type:\",type(obj1)) \n",
    "print(list(enumerate(list1)))\n",
    "  \n",
    "# changing start index to 2 from 0 \n",
    "print(list(enumerate(string1,2)))"
   ]
  },
  {
   "cell_type": "code",
   "execution_count": 52,
   "metadata": {},
   "outputs": [
    {
     "name": "stdout",
     "output_type": "stream",
     "text": [
      "list1 type: <class 'list'>\n",
      "\n",
      "(0, 'eat')\n",
      "enumerate ele type: <class 'tuple'>\n",
      "(1, 'sleep')\n",
      "enumerate ele type: <class 'tuple'>\n",
      "(2, 'repeat')\n",
      "enumerate ele type: <class 'tuple'>\n",
      "\n",
      "100 eat\n",
      "count type: <class 'int'>\n",
      "ele type: <class 'str'>\n",
      "101 sleep\n",
      "count type: <class 'int'>\n",
      "ele type: <class 'str'>\n",
      "102 repeat\n",
      "count type: <class 'int'>\n",
      "ele type: <class 'str'>\n"
     ]
    }
   ],
   "source": [
    "# Python program to illustrate \n",
    "# enumerate function in loops \n",
    "list1 = [\"eat\",\"sleep\",\"repeat\"] \n",
    "print(\"list1 type:\", type(list1)) \n",
    "\n",
    "print(\"\")\n",
    "\n",
    "# printing the tuples in object directly \n",
    "for ele in enumerate(list1): \n",
    "    print(ele)\n",
    "    print(\"enumerate ele type:\", type(ele))\n",
    "\n",
    "print(\"\")\n",
    "    \n",
    "# changing index and printing separately \n",
    "for count,ele in enumerate(list1,100): \n",
    "    print(count,ele)\n",
    "    print(\"count type:\", type(count))\n",
    "    print(\"ele type:\", type(ele))"
   ]
  },
  {
   "cell_type": "markdown",
   "metadata": {},
   "source": [
    "**count** method: **`var.count(object)`**  \n",
    "* Counts number of times \"object\" occurs in \"var\"  "
   ]
  },
  {
   "cell_type": "code",
   "execution_count": 53,
   "metadata": {},
   "outputs": [
    {
     "name": "stdout",
     "output_type": "stream",
     "text": [
      "3\n"
     ]
    }
   ],
   "source": [
    "# count number of times \"1\" occurs in tuple\n",
    "\n",
    "tup1=(1,2,1,4,6,1)\n",
    "\n",
    "print(tup1.count(1))"
   ]
  },
  {
   "cell_type": "markdown",
   "metadata": {},
   "source": [
    "**sum** function: **`sum(iterable, start=0)`**  \n",
    "* Sum of elements in \"iterable\"  \n",
    "* Starts at **value** given for start, if no value given, defaults to \"0\"  "
   ]
  },
  {
   "cell_type": "code",
   "execution_count": 54,
   "metadata": {},
   "outputs": [
    {
     "name": "stdout",
     "output_type": "stream",
     "text": [
      "sum(list1): 15\n",
      "sum(list1[1:3]): 5\n",
      "sum(list1,2): 17\n",
      "sum(list1,list1[3]): 19\n"
     ]
    }
   ],
   "source": [
    "list1 = [1,2,3,4,5]\n",
    "\n",
    "print(\"sum(list1):\", sum(list1)) # sum of list1\n",
    "print(\"sum(list1[1:3]):\", sum(list1[1:3])) # sum of list1 elements 1:3\n",
    "print(\"sum(list1,2):\", sum(list1,2)) # sum of list1, starting at value 2\n",
    "print(\"sum(list1,list1[3]):\", sum(list1,list1[3])) # sum of list1, starting at value of element index 3 (4)"
   ]
  },
  {
   "cell_type": "markdown",
   "metadata": {},
   "source": [
    "[<p style=\"text-align: right;\">**⬆ Table of Contents ⬆**</p>](#Python-Notes!)"
   ]
  },
  {
   "cell_type": "markdown",
   "metadata": {},
   "source": [
    "---"
   ]
  },
  {
   "cell_type": "markdown",
   "metadata": {},
   "source": [
    "## <center>Working with Files"
   ]
  },
  {
   "cell_type": "markdown",
   "metadata": {},
   "source": [
    "### <center>Opening and Reading Files</center>"
   ]
  },
  {
   "cell_type": "markdown",
   "metadata": {},
   "source": [
    "**open** function:  \n",
    "\n",
    "**`open(\"file\", \"mode\")`**  \n",
    "* Opens a file and returns a corresponding file object  \n",
    "* Both **\"file\" and \"mode\"** must be entered as a **string within parentheses**  \n",
    "* \"file\" is a path-like object made up of **file name and directory**  \n",
    "* \"mode\" is an **optional** string which specifies which mode file is to be opened in, common modes include:<br>\n",
    "**'r'** = **reading (default mode)**, will **fail** if file does **not exist**<br>\n",
    "**'a'** = **appending**, stream is positioned at **end of file**, **creates new file** if file does **not exist**<br>\n",
    "**'w'** = **writing**, will **truncate file first** (empty contents), or **create new file** if file does **not exist**"
   ]
  },
  {
   "cell_type": "markdown",
   "metadata": {},
   "source": [
    "**file object**\n",
    "\n",
    "**`varFile_Obj = open(file, mode)`**  \n",
    "* **Information** about the file can be obtained by setting the open function to a **file object variable**  \n",
    "* \"mode\" is again **optional**  \n",
    "* Once a file is opened and data saved as a file object, then the following methods can be used on it  \n",
    "* **MUST close** file object once finished using file unless using with statement (see below)"
   ]
  },
  {
   "cell_type": "code",
   "execution_count": 66,
   "metadata": {},
   "outputs": [],
   "source": [
    "# setting file name to save retyping each time\n",
    "\n",
    "file_name = \"/Users/Andy/Documents/Python and Notebooks/reading files test.txt\""
   ]
  },
  {
   "cell_type": "code",
   "execution_count": 129,
   "metadata": {},
   "outputs": [],
   "source": [
    "# example opening a .txt file and assigning the data to a file object variable\n",
    "\n",
    "file_obj = open(file_name, \"r\")"
   ]
  },
  {
   "cell_type": "code",
   "execution_count": 132,
   "metadata": {},
   "outputs": [
    {
     "name": "stdout",
     "output_type": "stream",
     "text": [
      "<_io.TextIOWrapper name='/Users/Andy/Documents/Python and Notebooks/reading files test.txt' mode='r' encoding='UTF-8'>\n"
     ]
    }
   ],
   "source": [
    "# the file object just stores the access data for the file, this is what NEEDS closing when finished\n",
    "\n",
    "print(file_obj)"
   ]
  },
  {
   "cell_type": "markdown",
   "metadata": {},
   "source": [
    "**name** method:\n",
    "\n",
    "**`varFile_Obj.name`**\n",
    "* Returns **name** of the file "
   ]
  },
  {
   "cell_type": "code",
   "execution_count": 133,
   "metadata": {},
   "outputs": [
    {
     "data": {
      "text/plain": [
       "'/Users/Andy/Documents/Python and Notebooks/reading files test.txt'"
      ]
     },
     "execution_count": 133,
     "metadata": {},
     "output_type": "execute_result"
    }
   ],
   "source": [
    "# method used to obtain name of file\n",
    "\n",
    "file_obj.name"
   ]
  },
  {
   "cell_type": "markdown",
   "metadata": {},
   "source": [
    "**mode** method:  \n",
    "\n",
    "**`varFile_Obj.mode`**  \n",
    "* Returns **mode** of file object  "
   ]
  },
  {
   "cell_type": "code",
   "execution_count": 134,
   "metadata": {},
   "outputs": [
    {
     "data": {
      "text/plain": [
       "'r'"
      ]
     },
     "execution_count": 134,
     "metadata": {},
     "output_type": "execute_result"
    }
   ],
   "source": [
    "# method used to see what mode file is opened in\n",
    "\n",
    "file_obj.mode      # 'r' is for reading"
   ]
  },
  {
   "cell_type": "markdown",
   "metadata": {},
   "source": [
    "**closed** method:  \n",
    "\n",
    "**`varFile_Obj.closed`**  \n",
    "* Checks if a file is **closed** and returns **True** if is"
   ]
  },
  {
   "cell_type": "code",
   "execution_count": 135,
   "metadata": {},
   "outputs": [
    {
     "data": {
      "text/plain": [
       "False"
      ]
     },
     "execution_count": 135,
     "metadata": {},
     "output_type": "execute_result"
    }
   ],
   "source": [
    "# note file is still open after executing the open function as above\n",
    "\n",
    "file_obj.closed"
   ]
  },
  {
   "cell_type": "markdown",
   "metadata": {},
   "source": [
    "**close** method:  \n",
    "\n",
    "**`varFile_Obj.close()`**  \n",
    "* **Closes** a file  \n",
    "* **ALWAYS** close a file after opening with the above function \n",
    "* Note it is the **\"file object variable\"** that gets **closed**\n",
    "* Must include **parenthesis**  "
   ]
  },
  {
   "cell_type": "code",
   "execution_count": 141,
   "metadata": {},
   "outputs": [],
   "source": [
    "# always close file (file object variable) after opening as above with following method\n",
    "\n",
    "file_obj.close()"
   ]
  },
  {
   "cell_type": "code",
   "execution_count": 142,
   "metadata": {},
   "outputs": [
    {
     "data": {
      "text/plain": [
       "True"
      ]
     },
     "execution_count": 142,
     "metadata": {},
     "output_type": "execute_result"
    }
   ],
   "source": [
    "# checking file is closed\n",
    "\n",
    "file_obj.closed"
   ]
  },
  {
   "cell_type": "markdown",
   "metadata": {},
   "source": [
    "**with** statment:  \n",
    "\n",
    "**`with open(file, mode) as varFile_Obj:  \n",
    "            var = varFile_Obj.read()`**  \n",
    "* **Better practice** to use \"with\" statment to open files as it **automatically closes** them \n",
    "* Code will **run everything indented, then close file**  \n",
    "* Can check file is closed as well as print file content, but **cannot read from file** outside of code block  \n",
    "* Must include **colon**"
   ]
  },
  {
   "cell_type": "markdown",
   "metadata": {},
   "source": [
    "**read** method:  \n",
    "\n",
    "**`.read()`**  \n",
    "* File read as a **whole** and stores values in the variable \"var\" as a **string**  \n",
    "* Stream positioned at the end of the file after running   \n",
    "* **Optional argument** determines **number of characters read** each time method is run moving stream position accordingly, note new line characters \"\\n\" count as a single character  \n",
    "* Stream position reset if the file is reopened "
   ]
  },
  {
   "cell_type": "code",
   "execution_count": 148,
   "metadata": {},
   "outputs": [
    {
     "data": {
      "text/plain": [
       "'This is line 1\\nThis is line 2\\nThis is line 3\\nThis is line 4\\nThis is line 5'"
      ]
     },
     "execution_count": 148,
     "metadata": {},
     "output_type": "execute_result"
    }
   ],
   "source": [
    "# example using read method to save data from a file\n",
    "\n",
    "file_obj = open(file_name)       # openeing file and storing access data as a file object\n",
    "\n",
    "file_data = file_obj.read()      # reading data from file and saving to a variable\n",
    "file_data                        # examining the raw data, we can see that \"\\n\" is \n",
    "                                 # included which signals python to start a new line"
   ]
  },
  {
   "cell_type": "code",
   "execution_count": 150,
   "metadata": {
    "scrolled": true
   },
   "outputs": [
    {
     "name": "stdout",
     "output_type": "stream",
     "text": [
      "This is line 1\n",
      "This is line 2\n",
      "This is line 3\n",
      "This is line 4\n",
      "This is line 5\n"
     ]
    }
   ],
   "source": [
    "# if we print the data, the \"\\n\" is not visable as the new line operation has been executed\n",
    "\n",
    "print(file_data)\n",
    "\n",
    "file_obj.close()      # closing file"
   ]
  },
  {
   "cell_type": "code",
   "execution_count": 151,
   "metadata": {},
   "outputs": [
    {
     "data": {
      "text/plain": [
       "True"
      ]
     },
     "execution_count": 151,
     "metadata": {},
     "output_type": "execute_result"
    }
   ],
   "source": [
    "file_obj.closed"
   ]
  },
  {
   "cell_type": "code",
   "execution_count": 76,
   "metadata": {},
   "outputs": [
    {
     "name": "stdout",
     "output_type": "stream",
     "text": [
      "False\n"
     ]
    }
   ],
   "source": [
    "# opening file using \"with\" statement\n",
    "# better practice as it automatically closes file after runing indented block\n",
    "\n",
    "# \"read\" method saves the values of the file to the variable \"file_data\" as a string\n",
    "\n",
    "with open(file_name, \"r\") as file_obj2:\n",
    "    file_data = file_obj2.read()\n",
    "    file_data\n",
    "    print(file_obj2.closed)    # shows file is still open during running of indented block"
   ]
  },
  {
   "cell_type": "code",
   "execution_count": 77,
   "metadata": {},
   "outputs": [
    {
     "data": {
      "text/plain": [
       "True"
      ]
     },
     "execution_count": 77,
     "metadata": {},
     "output_type": "execute_result"
    }
   ],
   "source": [
    "# file is now closed after \"with\" statement has been completed\n",
    "\n",
    "file_obj2.closed"
   ]
  },
  {
   "cell_type": "code",
   "execution_count": 78,
   "metadata": {},
   "outputs": [
    {
     "name": "stdout",
     "output_type": "stream",
     "text": [
      "This is line 1\n",
      "This is line 2\n",
      "This is line 3\n",
      "This is line 4\n",
      "This is line 5\n"
     ]
    }
   ],
   "source": [
    "# can print the values of the file that are stored in the \"file_data\" variable\n",
    "\n",
    "print(file_data)"
   ]
  },
  {
   "cell_type": "code",
   "execution_count": 79,
   "metadata": {},
   "outputs": [
    {
     "name": "stdout",
     "output_type": "stream",
     "text": [
      "first running of code: This is line 1\n",
      "This is line 2\n",
      "This is line 3\n",
      "This is line 4\n",
      "This is line 5\n",
      "\n",
      "second running of code: \n"
     ]
    }
   ],
   "source": [
    "# stream moves position each time the code is run until  \n",
    "# file is closed and reopened which will reset its position\n",
    "\n",
    "# note with \"read\" method, file is read as a whole, so stream is  \n",
    "# positioned at end of file after initial running\n",
    "# data is stored as a string  \n",
    "# subsiquent runs of the code without reopening file will return \n",
    "# blank due to stream being at end of file\n",
    "\n",
    "with open(file_name, \"r\") as file_obj3:\n",
    "    file_data2 = file_obj3.read()                  # 1st pass of code\n",
    "    print(\"first running of code:\", file_data2)\n",
    "    print(\"\")\n",
    "    file_data2 = file_obj3.read()                  # 2nd pass of code\n",
    "    print(\"second running of code:\", file_data2)"
   ]
  },
  {
   "cell_type": "code",
   "execution_count": 80,
   "metadata": {},
   "outputs": [
    {
     "data": {
      "text/plain": [
       "True"
      ]
     },
     "execution_count": 80,
     "metadata": {},
     "output_type": "execute_result"
    }
   ],
   "source": [
    "file_obj3.closed"
   ]
  },
  {
   "cell_type": "markdown",
   "metadata": {},
   "source": [
    "**readline** method:  \n",
    "\n",
    "**`.readline()`**  \n",
    "* Reads **each line** of file each time code is run and stream is updated accordingly  \n",
    "* Stores values as a **string**  \n",
    "* **Optional argument** determines **number of characters read** each time method is run up to **max end of line**  \n",
    "* If line has **NOT** been completely read, stream will **stay in position** and continue from there next time code is run  \n",
    "* Stream position reset if the file is reopened  \n",
    "* Must include **colon**"
   ]
  },
  {
   "cell_type": "code",
   "execution_count": 81,
   "metadata": {},
   "outputs": [
    {
     "name": "stdout",
     "output_type": "stream",
     "text": [
      "first running of code: This is line 1\n",
      "\n",
      "second running of code: This is line 2\n",
      "\n"
     ]
    }
   ],
   "source": [
    "# method \"readline\" reads each line of the file, data is also stored as a string\n",
    "# each subsiquent pass reads the next line and updates the streams position accordingly\n",
    "# if file is closed and reopened, the stream will reset to the beginning of the file\n",
    "\n",
    "with open(file_name, \"r\") as file_obj4:\n",
    "    file_data3 = file_obj4.readline()               # 1st pass of code\n",
    "    print(\"first running of code:\", file_data3)\n",
    "    file_data3 = file_obj4.readline()               # 2ns pass of code\n",
    "    print(\"second running of code:\", file_data3)"
   ]
  },
  {
   "cell_type": "code",
   "execution_count": 82,
   "metadata": {},
   "outputs": [
    {
     "data": {
      "text/plain": [
       "True"
      ]
     },
     "execution_count": 82,
     "metadata": {},
     "output_type": "execute_result"
    }
   ],
   "source": [
    "file_obj4.closed"
   ]
  },
  {
   "cell_type": "markdown",
   "metadata": {},
   "source": [
    "**readlines** method  \n",
    "\n",
    "**`.readlines()`**  \n",
    "* Outputs **each line** as an **element** in a **list**  \n",
    "* **Optional argument** will read **complete lines up to the end of the line** which equals the number of Characters entered, note new line characters **\"\\n\" count as the beginning of a line**  \n",
    "* Must include **colon**"
   ]
  },
  {
   "cell_type": "code",
   "execution_count": 84,
   "metadata": {},
   "outputs": [
    {
     "name": "stdout",
     "output_type": "stream",
     "text": [
      "['This is line 1\\n', 'This is line 2\\n', 'This is line 3\\n', 'This is line 4\\n', 'This is line 5']\n"
     ]
    }
   ],
   "source": [
    "# method \"readlines\" outputs each line of the file as an element in a list\n",
    "# note \"new line\" escape character is also stored in the list\n",
    "\n",
    "with open(file_name, \"r\") as file_obj5:\n",
    "    file_data4 = file_obj5.readlines()\n",
    "    \n",
    "    print(file_data4)"
   ]
  },
  {
   "cell_type": "code",
   "execution_count": 85,
   "metadata": {},
   "outputs": [
    {
     "name": "stdout",
     "output_type": "stream",
     "text": [
      "This is line 1\n",
      "\n",
      "This is line 2\n",
      "\n",
      "This is line 3\n",
      "\n",
      "This is line 4\n",
      "\n",
      "This is line 5\n"
     ]
    }
   ],
   "source": [
    "# a loop can be used to print out each line individually as a string\n",
    "\n",
    "with open(file_name, \"r\") as file_obj5:\n",
    "    \n",
    "    for line in file_obj5:\n",
    "        print(line)"
   ]
  },
  {
   "cell_type": "code",
   "execution_count": 86,
   "metadata": {},
   "outputs": [
    {
     "data": {
      "text/plain": [
       "True"
      ]
     },
     "execution_count": 86,
     "metadata": {},
     "output_type": "execute_result"
    }
   ],
   "source": [
    "file_obj5.closed"
   ]
  },
  {
   "cell_type": "code",
   "execution_count": 87,
   "metadata": {},
   "outputs": [
    {
     "name": "stdout",
     "output_type": "stream",
     "text": [
      "1st pass of read method, 16 characters: This is line 1\n",
      "T\n",
      "2nd pass of read method, 16 characters: his is line 2\n",
      "Th\n"
     ]
    }
   ],
   "source": [
    "# argument in \"read\" method determines how many characters are read each time code is run, \n",
    "# the stream is updated at each pass continuing on the next and resetting when file is reopened\n",
    "\n",
    "# note the \\n for new line is read as a single character\n",
    "# each line is 14 characters long NOT including escape characters for new line\n",
    "\n",
    "with open (file_name, \"r\") as file_obj6:\n",
    "    \n",
    "    file_data5 = file_obj6.read(16)\n",
    "    print(\"1st pass of read method, 16 characters:\", file_data5)\n",
    "    \n",
    "    file_data5 = file_obj6.read(16)\n",
    "    print(\"2nd pass of read method, 16 characters:\", file_data5)"
   ]
  },
  {
   "cell_type": "code",
   "execution_count": 88,
   "metadata": {},
   "outputs": [
    {
     "name": "stdout",
     "output_type": "stream",
     "text": [
      "1st pass of readline method, 8 characters: This is \n",
      "2nd pass of readline method, 12 characters: line 1\n",
      "\n",
      "2nd pass of readline method, 16 characters: This is line 2\n",
      "\n"
     ]
    }
   ],
   "source": [
    "# using readline method the argument determines how many characters are read up to MAX end of line\n",
    "# if line has NOT been completely read, stream will NOT go to end of line but stay in position\n",
    "# continuing on next pass\n",
    "\n",
    "# each line is 14 characters long NOT including escape characters for new line\n",
    "\n",
    "with open (file_name, \"r\") as file_obj6:\n",
    "    \n",
    "    file_data6 = file_obj6.readline(8)\n",
    "    print(\"1st pass of readline method, 8 characters:\", file_data6)\n",
    "    \n",
    "    file_data6 = file_obj6.readline(12)\n",
    "    print(\"2nd pass of readline method, 12 characters:\", file_data6)\n",
    "    \n",
    "    file_data6 = file_obj6.readline(16)\n",
    "    print(\"2nd pass of readline method, 16 characters:\", file_data6)"
   ]
  },
  {
   "cell_type": "code",
   "execution_count": 89,
   "metadata": {},
   "outputs": [
    {
     "name": "stdout",
     "output_type": "stream",
     "text": [
      "1st pass of readlines method, 15 characters: ['This is line 1\\n', 'This is line 2\\n']\n",
      "2nd pass of readlines method, 5 characters: ['This is line 3\\n']\n",
      "2nd pass of readlines method, 5 characters: ['This is line 4\\n']\n"
     ]
    }
   ],
   "source": [
    "# method readlines argument will read the entire line regardless of characters entered \n",
    "# and forward the stream position, if enough characters are passed to the argument, it \n",
    "# will read the next line entirely too\n",
    "# note that the new line character counts towards the next line\n",
    "\n",
    "# each line is 14 characters long NOT including escape characters for new line\n",
    "\n",
    "with open (file_name, \"r\") as file_obj6:\n",
    "        \n",
    "    file_data7 = file_obj6.readlines(15)\n",
    "    print(\"1st pass of readlines method, 15 characters:\", file_data7)\n",
    "            \n",
    "    file_data7 = file_obj6.readlines(5)\n",
    "    print(\"2nd pass of readlines method, 5 characters:\", file_data7)\n",
    "              \n",
    "    file_data7 = file_obj6.readlines(5)\n",
    "    print(\"2nd pass of readlines method, 5 characters:\", file_data7)"
   ]
  },
  {
   "cell_type": "markdown",
   "metadata": {},
   "source": [
    "[<p style=\"text-align: right;\">**⬆ Table of Contents ⬆**</p>](#Python-Notes!)"
   ]
  },
  {
   "cell_type": "markdown",
   "metadata": {},
   "source": [
    "---"
   ]
  },
  {
   "cell_type": "markdown",
   "metadata": {},
   "source": [
    "## <Center>Working with Files"
   ]
  },
  {
   "cell_type": "markdown",
   "metadata": {},
   "source": [
    "### <center>Writing to Files</center>"
   ]
  },
  {
   "cell_type": "markdown",
   "metadata": {},
   "source": [
    "**write** method:  \n",
    "\n",
    "**`file_obj.write(\"text_to_be_written_to_file\")`**  \n",
    "* This will write string in argument as text in file  \n",
    "* If wanting to start a new line, **add \"\\n\"** escape character to **end of string**  "
   ]
  },
  {
   "cell_type": "code",
   "execution_count": 1,
   "metadata": {},
   "outputs": [],
   "source": [
    "# setting file name to save retyping for each example \n",
    "\n",
    "file_name = \"/Users/Andy/Documents/Python and Notebooks/writing to files test.txt\""
   ]
  },
  {
   "cell_type": "code",
   "execution_count": 2,
   "metadata": {},
   "outputs": [],
   "source": [
    "# see \"open function\" above for more info on opening files\n",
    "\n",
    "# opening in write mode will overwrite file if it exists, or creates a new file\n",
    "\n",
    "file_object = open(file_name, \"w\")"
   ]
  },
  {
   "cell_type": "code",
   "execution_count": 3,
   "metadata": {},
   "outputs": [
    {
     "data": {
      "text/plain": [
       "15"
      ]
     },
     "execution_count": 3,
     "metadata": {},
     "output_type": "execute_result"
    }
   ],
   "source": [
    "# example using write method to write to file\n",
    "# this will not write \"\\n\" in the file, but start a new line\n",
    "# note number of characters added to file are printed\n",
    "\n",
    "file_object.write(\"This is line 1\\n\")    # 14 characters plus \"\\n\", seen as 15 characters"
   ]
  },
  {
   "cell_type": "code",
   "execution_count": 4,
   "metadata": {},
   "outputs": [],
   "source": [
    "# as before, if opening a file this way, ALWAYS close it when finished\n",
    "\n",
    "file_object.close()"
   ]
  },
  {
   "cell_type": "code",
   "execution_count": 5,
   "metadata": {},
   "outputs": [
    {
     "data": {
      "text/plain": [
       "True"
      ]
     },
     "execution_count": 5,
     "metadata": {},
     "output_type": "execute_result"
    }
   ],
   "source": [
    "# checking to see if file is closed\n",
    "\n",
    "file_object.closed"
   ]
  },
  {
   "cell_type": "code",
   "execution_count": 6,
   "metadata": {},
   "outputs": [
    {
     "name": "stdout",
     "output_type": "stream",
     "text": [
      "This is line 1\n",
      "\n"
     ]
    }
   ],
   "source": [
    "# reading and printing contents of file\n",
    "\n",
    "with open(file_name, \"r\") as file_object:\n",
    "    file_data = file_object.read()\n",
    "    \n",
    "    print(file_data)"
   ]
  },
  {
   "cell_type": "code",
   "execution_count": 7,
   "metadata": {},
   "outputs": [],
   "source": [
    "# using \"with\" statement is better practice as it closes file automatically after running indented block\n",
    "\n",
    "# example using with statement to write 2 separate lines to file before closing it\n",
    "\n",
    "with open(file_name, \"w\") as file_object:\n",
    "    file_object.write(\"This is now line 1\\n\")\n",
    "    file_object.write(\"This is line 2\\n\")"
   ]
  },
  {
   "cell_type": "code",
   "execution_count": 8,
   "metadata": {},
   "outputs": [
    {
     "name": "stdout",
     "output_type": "stream",
     "text": [
      "This is now line 1\n",
      "This is line 2\n",
      "\n"
     ]
    }
   ],
   "source": [
    "# reading and printing contents of file\n",
    "\n",
    "with open(file_name, \"r\") as file_object:\n",
    "    file_data = file_object.read()\n",
    "    \n",
    "    print(file_data)"
   ]
  },
  {
   "cell_type": "markdown",
   "metadata": {},
   "source": [
    "**writing from a list**:  \n",
    "\n",
    "**`list_var = [\"line1\", \"line2\",....]`**\n",
    "\n",
    "**`with open(\"file\", \"mode\") as file_obj:  \n",
    "      for each_line in list_var:  \n",
    "           file_obj.write(each_line)`**  \n",
    "* **Must** use **loop** to iterate over each element to write, **cannot write list direct** to file (writing to file needs to be a string)  \n"
   ]
  },
  {
   "cell_type": "code",
   "execution_count": 80,
   "metadata": {},
   "outputs": [
    {
     "name": "stdout",
     "output_type": "stream",
     "text": [
      "Line A\n",
      "Line B\n",
      "Line C\n",
      "\n"
     ]
    }
   ],
   "source": [
    "# can write to a file from a list using a for loop\n",
    "\n",
    "list1 = [\"Line A\\n\", \"Line B\\n\", \"Line C\\n\"]      # populating list\n",
    "\n",
    "with open(file_name, \"w+\") as file_object:  # opening file\n",
    "                                            # if we tried to write to file here, would cause error \n",
    "                                            # as cannot write direct from a list, only a string\n",
    "    \n",
    "    for each_line in list1:                 # using for loop to write each element of list to file\n",
    "        file_object.write(each_line)  \n",
    "    \n",
    "    file_object.seek(0)                     # reset stream position\n",
    "    \n",
    "    file_data = file_object.read()          # read file contents\n",
    "    print(file_data)                        # print file contents"
   ]
  },
  {
   "cell_type": "markdown",
   "metadata": {},
   "source": [
    "**copying files**:  \n",
    "  \n",
    "**`with open(\"file\", \"readable_mode\") as readfile_obj:  \n",
    "      with open(\"file2\", \"writable_mode\") as writefile_obj:  \n",
    "          for each_line in readfile_obj:  \n",
    "               writefile_obj.write(each_line)`**  \n",
    "* **Must** open file to be copied in a **readable mode** e.g. \"r\" or \"r+\"  \n",
    "* **Must** open file to be written to in a **writable / appendable mode** e.g. \"w\" or \"a\"  \n",
    "* Use **loop** to iterate over each line from file to be copied  "
   ]
  },
  {
   "cell_type": "code",
   "execution_count": 81,
   "metadata": {},
   "outputs": [
    {
     "name": "stdout",
     "output_type": "stream",
     "text": [
      "readfile:\n",
      " Line A\n",
      "Line B\n",
      "Line C\n",
      "\n",
      "copied file:\n",
      " Line A\n",
      "Line B\n",
      "Line C\n",
      "\n"
     ]
    }
   ],
   "source": [
    "# a file can be copied as follows\n",
    "\n",
    "with open(file_name, \"r\") as readfile_obj:                      # open file to be copied in readable mode\n",
    "    \n",
    "    with open(file_name + \" copy\", \"w+\") as writefile_obj:      # open/create file to copy to in writable mode\n",
    "        \n",
    "        for each_line in readfile_obj:                  # for loop to iterate over each line in file to be copied\n",
    "            \n",
    "            writefile_obj.write(each_line)              # write each line to new file\n",
    "            \n",
    "        readfile_obj.seek(0)                            # reset stream position on read file\n",
    "        writefile_obj.seek(0)                           # reset stream position on write file\n",
    "\n",
    "        readfile_data = readfile_obj.read()             # read file content and save to variable\n",
    "        writefile_data = writefile_obj.read()           \n",
    "        \n",
    "print(\"readfile:\\n\", readfile_data)                       # print file content\n",
    "print(\"copied file:\\n\", writefile_data)"
   ]
  },
  {
   "cell_type": "markdown",
   "metadata": {},
   "source": [
    "## Notes required for seek here or maybe in read section, maybe move below code example"
   ]
  },
  {
   "cell_type": "markdown",
   "metadata": {},
   "source": [
    "**seek** method:  \n",
    "\n",
    "**`file_obj.seek(offset, whence=0)`**  \n",
    "* Used to **set** the **streams position**  \n",
    "* **\"whence\"** is **optional** and **defaults to 0**  \n",
    "* whence can be set to 0 = absolute file positioning, 1 = seek relative to current position, 2 = seek relative to the files end  \n",
    "* Theres **no return value**  \n",
    "* If underlying file does not allow seek, only forward seeks are allowed  \n",
    "\n",
    "\n",
    "Work out how each file readability type behaves with seek  \n"
   ]
  },
  {
   "cell_type": "code",
   "execution_count": 16,
   "metadata": {},
   "outputs": [
    {
     "name": "stdout",
     "output_type": "stream",
     "text": [
      "This is now line 3\n",
      "This is now line 4\n",
      "\n"
     ]
    }
   ],
   "source": [
    "# combining write and read in the same \"with\" statement using \"seek\" method to reset stream position\n",
    "# this works in both \"r+\" and \"w+\" modes (\"+\" mode = for updating)\n",
    "\n",
    "with open(file_name, \"w+\") as file_object:             # open file\n",
    "    file_object.write(\"This is now line 3\\n\")          # write text to file\n",
    "    file_object.write(\"This is now line 4\\n\")\n",
    "    \n",
    "    file_object.seek(0,0)                              # reset stream position\n",
    "    \n",
    "    file_data = file_object.read()                     # read file and assign to variable\n",
    "    \n",
    "    print(file_data)                                   # print data"
   ]
  },
  {
   "cell_type": "code",
   "execution_count": 107,
   "metadata": {},
   "outputs": [
    {
     "data": {
      "text/plain": [
       "True"
      ]
     },
     "execution_count": 107,
     "metadata": {},
     "output_type": "execute_result"
    }
   ],
   "source": [
    "# checking file is closed\n",
    "\n",
    "file_object.closed"
   ]
  },
  {
   "cell_type": "code",
   "execution_count": null,
   "metadata": {
    "collapsed": true
   },
   "outputs": [],
   "source": []
  },
  {
   "cell_type": "markdown",
   "metadata": {},
   "source": [
    "### Notes on \"seek\" method...see above started notes<br>continue from labs for writing files with open<br>Correct notes for modes w+,r+a+ (maybe also w,r,a).....w+ truncates file first, r+ keeps whats in there but overwrites the characters that are in the streams way, a+ adds to bottom, <br>Notes for quick reference for write section<br>Maybe combine sections again or put in more links in contents sub section"
   ]
  },
  {
   "cell_type": "code",
   "execution_count": null,
   "metadata": {},
   "outputs": [],
   "source": []
  },
  {
   "cell_type": "code",
   "execution_count": null,
   "metadata": {},
   "outputs": [],
   "source": []
  },
  {
   "cell_type": "code",
   "execution_count": null,
   "metadata": {},
   "outputs": [],
   "source": []
  },
  {
   "cell_type": "code",
   "execution_count": null,
   "metadata": {},
   "outputs": [],
   "source": []
  },
  {
   "cell_type": "markdown",
   "metadata": {},
   "source": [
    "[<p style=\"text-align: right;\">**⬆ Table of Contents ⬆**</p>](#Python-Notes!)"
   ]
  },
  {
   "cell_type": "markdown",
   "metadata": {},
   "source": [
    "---"
   ]
  },
  {
   "cell_type": "markdown",
   "metadata": {},
   "source": [
    "## <center> Building Functions</center>"
   ]
  },
  {
   "cell_type": "markdown",
   "metadata": {},
   "source": [
    "**functions**:  \n",
    "\n",
    "* Functions are a block of code that is also called by its name (**independent**)\n",
    "* The function can have different parameters or may not have any at all. If any data is passed, they are **passed explicitly**  \n",
    "* It **may or may not** return any data  \n",
    "* Function does not deal with class and its instance concept  "
   ]
  },
  {
   "cell_type": "markdown",
   "metadata": {},
   "source": [
    "**difference between methods and functions**:  \n",
    "\n",
    "* Functions and Methods both look similar as they perform in almost similar ways, but the key difference is the concept of ‘Class and its Object‘  \n",
    "* Functions can be called only by its name, as it is defined independently  \n",
    "* Methods can’t be called by its name only, we need to invoke the class by a reference of that class in which it is defined, i.e., method is defined within a class and hence they are dependent on that class  "
   ]
  },
  {
   "cell_type": "markdown",
   "metadata": {},
   "source": [
    "**define** a function:  \n",
    "\n",
    "**`def funcName(para1, para2, *variadicPara):       \n",
    "    \"\"\"description of func for help()\"\"\" \n",
    "    code block       \n",
    "    return \"this\"`**  \n",
    "* Function name should be descriptive  \n",
    "* Parameters (\"para\") is what will be taken from program and applied in code block   \n",
    "* Must include **colon**  \n",
    "* **Optional** help description is in **triple quotes**  \n",
    "* Code block is **indented**  \n",
    "* Can have **single or multiple \"positional\" parameters** seperated with a **comma**  \n",
    "* **Variadic parameters** have **multiple argument entries** when parameter is preceeded with an **asterisk**  \n",
    "* **Beware** of functions where code contains **multiplication** **`*`**, if a string is passed to function, could cause unexpected errors  \n",
    "* **Return** statement exits a function, optionally passing back a value. It is not required in some circumstances, however without it can cause errors in passing data back to the main program  \n",
    "* Functions that perform no task will return \"none\"  "
   ]
  },
  {
   "cell_type": "code",
   "execution_count": 2,
   "metadata": {},
   "outputs": [],
   "source": [
    "# example defineing a function\n",
    "\n",
    "# must include \"def\" to define the function, name should be descriptive of what it does\n",
    "# colon is required\n",
    "\n",
    "def add1(a):         # name of function here is \"add1\", the function formal parameters \"a\" in parentheses\n",
    "    \"\"\"adds 1 to a\"\"\" # documentaion string, contained in triple quotes to describe function, displays in \"help()\"\n",
    "    b = a + 1        # function code block, indented\n",
    "    return b\n",
    "\n",
    "    "
   ]
  },
  {
   "cell_type": "markdown",
   "metadata": {},
   "source": [
    "**calling** a function:    \n",
    "\n",
    "**`funcName(argument)`**  \n",
    "* Argument value is sent to function parameter  \n",
    "* Function result can be assigned to a variable or printed in usual way  \n",
    "* **Without parentheses** will return function **parameter format**  "
   ]
  },
  {
   "cell_type": "code",
   "execution_count": 3,
   "metadata": {},
   "outputs": [
    {
     "name": "stdout",
     "output_type": "stream",
     "text": [
      "8\n"
     ]
    }
   ],
   "source": [
    "# after function has been defined, we can call it\n",
    "\n",
    "c=add1(7)\n",
    "print(c)"
   ]
  },
  {
   "cell_type": "code",
   "execution_count": 4,
   "metadata": {},
   "outputs": [
    {
     "data": {
      "text/plain": [
       "<function len(obj, /)>"
      ]
     },
     "execution_count": 4,
     "metadata": {},
     "output_type": "execute_result"
    }
   ],
   "source": [
    "# Without parentheses will return function parameter format \n",
    "# example using \"len\" function without parentheses\n",
    "\n",
    "len"
   ]
  },
  {
   "cell_type": "code",
   "execution_count": 90,
   "metadata": {},
   "outputs": [
    {
     "data": {
      "text/plain": [
       "<function __main__.add1(a)>"
      ]
     },
     "execution_count": 90,
     "metadata": {},
     "output_type": "execute_result"
    }
   ],
   "source": [
    "# example without parentheses on \"add1\" function\n",
    "\n",
    "add1"
   ]
  },
  {
   "cell_type": "markdown",
   "metadata": {},
   "source": [
    "**help** on a function:   \n",
    "\n",
    "**`help(funcName)`**  \n",
    "* Will return \"help description\" part of function and module function is in  "
   ]
  },
  {
   "cell_type": "code",
   "execution_count": 6,
   "metadata": {},
   "outputs": [
    {
     "name": "stdout",
     "output_type": "stream",
     "text": [
      "Help on function add1 in module __main__:\n",
      "\n",
      "add1(a)\n",
      "    adds 1 to a\n",
      "\n"
     ]
    }
   ],
   "source": [
    "# calling the documentation string using help()\n",
    "\n",
    "help(add1)"
   ]
  },
  {
   "cell_type": "code",
   "execution_count": 9,
   "metadata": {},
   "outputs": [],
   "source": [
    "# a function can have multiple defined parameters\n",
    "\n",
    "def mult(a,b):    # function defined with 2 positional arguments\n",
    "    c = a * b\n",
    "    return c"
   ]
  },
  {
   "cell_type": "code",
   "execution_count": 10,
   "metadata": {},
   "outputs": [
    {
     "data": {
      "text/plain": [
       "6"
      ]
     },
     "execution_count": 10,
     "metadata": {},
     "output_type": "execute_result"
    }
   ],
   "source": [
    "# calling function with multiple parameters with integers \n",
    "\n",
    "mult(2,3)"
   ]
  },
  {
   "cell_type": "markdown",
   "metadata": {},
   "source": [
    "**global and local scope** variables:  \n",
    "\n",
    "* Variables can be **local** to the function, requires no defining as such, these will **not have name conflicts** with variables already defined in main program, they will be seperate allowing them to have same variable names with different stored values which are deleted after function is executed  \n",
    "* Variables can be **global**, define variable name preceeded by **\"global\"** in the function, in this case they will not be deleted after function is executed, **alternatively** do not define variable inside function requiring it to be defined prior to function being run in the main program  "
   ]
  },
  {
   "cell_type": "code",
   "execution_count": 8,
   "metadata": {},
   "outputs": [
    {
     "name": "stdout",
     "output_type": "stream",
     "text": [
      "8\n"
     ]
    }
   ],
   "source": [
    "# Scope of program is part of program where that variable is accessable\n",
    "# A variable accessible anywhere in program is called a global variable\n",
    "\n",
    "# Variable \"c\" is a local variable only accessible within the function\n",
    "# This is the \"scope of the function\"\n",
    "# After the function has returned the variable, the scope of the function is deleted\n",
    "\n",
    "# This means that variables within the local scope can have the same name as variables in the global scope\n",
    "# without conflict\n",
    "\n",
    "# If a variable is not defined within a function, it will check the global scope\n",
    "\n",
    "print(c)          # global scope of \"c\" has already been defined above (\"calling a function\") with the value of 8\n",
    "                  # local scope of \"c\" defined in the \"mult\" function above had a value of 6"
   ]
  },
  {
   "cell_type": "code",
   "execution_count": 61,
   "metadata": {},
   "outputs": [
    {
     "data": {
      "text/plain": [
       "'Micheal Jackson Micheal Jackson '"
      ]
     },
     "execution_count": 61,
     "metadata": {},
     "output_type": "execute_result"
    }
   ],
   "source": [
    "# calling function with an integer and a string\n",
    "# beware of * being able to be used with both integers and strings, \n",
    "# could cause an error further down program where expecting an integer\n",
    "\n",
    "mult(2, \"Micheal Jackson \")"
   ]
  },
  {
   "cell_type": "code",
   "execution_count": 62,
   "metadata": {},
   "outputs": [],
   "source": [
    "# function showing variable \"rating\" is local and unaffected by global variable\n",
    "\n",
    "def ACDC(y):\n",
    "    rating = 1         # local scope \"rating\" set to 1\n",
    "    y = 2\n",
    "    return(rating+y)"
   ]
  },
  {
   "cell_type": "code",
   "execution_count": 63,
   "metadata": {},
   "outputs": [
    {
     "name": "stdout",
     "output_type": "stream",
     "text": [
      "z = 3\n",
      "9\n"
     ]
    }
   ],
   "source": [
    "rating=9           # global scope \"rating\" set to 9\n",
    "\n",
    "z=ACDC(1)          # calling function with local scope \"rating\" set to 1\n",
    "\n",
    "print(\"z =\", z)     # printing local scope (1) + y(2) = 3\n",
    "print(rating)       # global scope printed showing different value"
   ]
  },
  {
   "cell_type": "code",
   "execution_count": 64,
   "metadata": {},
   "outputs": [],
   "source": [
    "# global scope example\n",
    "\n",
    "def pinkFloyd():\n",
    "    \n",
    "    # variable \"claimedSales\" is defined as being part of the global scope,\n",
    "    # i.e., the variable as definded in the function is set to the same for the rest of the program outside \n",
    "    # of the function\n",
    "    \n",
    "    global claimedSales \n",
    "    claimedSales = \"45 million\"\n",
    "    return claimedSales"
   ]
  },
  {
   "cell_type": "code",
   "execution_count": 65,
   "metadata": {},
   "outputs": [
    {
     "name": "stdout",
     "output_type": "stream",
     "text": [
      "45 million\n"
     ]
    }
   ],
   "source": [
    "pinkFloyd()\n",
    "print(claimedSales)"
   ]
  },
  {
   "cell_type": "code",
   "execution_count": 66,
   "metadata": {},
   "outputs": [],
   "source": [
    "# defining function which performs no task\n",
    "\n",
    "def noWork():\n",
    "    pass      # python does not allow function to contain no body,\n",
    "              # hense \"pass\" allows function to progress but does nothing"
   ]
  },
  {
   "cell_type": "code",
   "execution_count": 67,
   "metadata": {},
   "outputs": [
    {
     "name": "stdout",
     "output_type": "stream",
     "text": [
      "None\n"
     ]
    }
   ],
   "source": [
    "# calling function with no return statement produces a \"None\"\n",
    "\n",
    "print(noWork())"
   ]
  },
  {
   "cell_type": "code",
   "execution_count": 68,
   "metadata": {},
   "outputs": [],
   "source": [
    "# Variadic parameters allows an argument to contain multiple entries, defined with an asterisk\n",
    "\n",
    "def artistNames(a,b,*names):\n",
    "    for name in names:\n",
    "        print(a,b,name)"
   ]
  },
  {
   "cell_type": "code",
   "execution_count": 69,
   "metadata": {},
   "outputs": [
    {
     "name": "stdout",
     "output_type": "stream",
     "text": [
      "Micheal Jackson AC/DC something\n",
      "Micheal Jackson AC/DC something else\n",
      "Micheal Jackson AC/DC another\n"
     ]
    }
   ],
   "source": [
    "artistNames(\"Micheal Jackson\", \"AC/DC\", \"something\", \"something else\", \"another\")"
   ]
  },
  {
   "cell_type": "code",
   "execution_count": 70,
   "metadata": {},
   "outputs": [
    {
     "name": "stdout",
     "output_type": "stream",
     "text": [
      "Help on function artistNames in module __main__:\n",
      "\n",
      "artistNames(a, b, *names)\n",
      "\n"
     ]
    }
   ],
   "source": [
    "help(artistNames)"
   ]
  },
  {
   "cell_type": "code",
   "execution_count": 71,
   "metadata": {},
   "outputs": [],
   "source": [
    "# return statement exits a function, optionally passing back a value. In some circumstances it isnt always required \n",
    "# in this example the return statement is missing and the function doesn't know whether to return the \n",
    "# \"squared\" variable or the \"complication\" variable, hense this returns \"none\"\n",
    "\n",
    "def more_complicated(n):\n",
    "  \"\"\"Returns the square of a number and adds 2 to that number.\"\"\"\n",
    "  squared = n ** 2\n",
    "  complication = squared + 2"
   ]
  },
  {
   "cell_type": "code",
   "execution_count": 72,
   "metadata": {},
   "outputs": [
    {
     "name": "stdout",
     "output_type": "stream",
     "text": [
      "None\n"
     ]
    }
   ],
   "source": [
    "print(more_complicated(10))"
   ]
  },
  {
   "cell_type": "markdown",
   "metadata": {},
   "source": [
    "[<p style=\"text-align: right;\">**⬆ Table of Contents ⬆**</p>](#Python-Notes!)"
   ]
  },
  {
   "cell_type": "markdown",
   "metadata": {},
   "source": [
    "---"
   ]
  },
  {
   "cell_type": "markdown",
   "metadata": {},
   "source": [
    "## <center>Classes, Objects and Methods</center>"
   ]
  },
  {
   "cell_type": "markdown",
   "metadata": {},
   "source": [
    "**classes**:  \n",
    "\n",
    "* Classes are **user-defined types** or blueprint from which objects are created  \n",
    "* They provide a means of bundling data and functionality together  \n",
    "* Creating a new class creates a **new type of object**, allowing new instances (objects) of that type to be made  \n",
    "* Each class instance can have **attributes** attached to it for **maintaining its state**  \n",
    "* Class instances can also have **methods (defined by its class) for modifying its state**"
   ]
  },
  {
   "cell_type": "markdown",
   "metadata": {},
   "source": [
    "**define class**:  \n",
    "\n",
    "**`class ClassName(object):`**  \n",
    "  **`\"\"\"help() description in triple quotes\"\"\"`**  \n",
    "\n",
    "   **`# constructor to initialize the object`**  \n",
    "   **`def __init__(self,attribute1,attribute2 = optionalDefautValue):  \n",
    "        self.attribute1 = attribute1  \n",
    "        self.attribute2 = attribute2`**\n",
    "        \n",
    "   **`# method(s) to access and modify the objects argument state values`**  \n",
    "   **`def meth_Name(self, parameter):\n",
    "        self.attribute1 = code_to_modify_attribute1 (e.g.; self.attribute1 = self.attribute1 + parameter)  \n",
    "        return(self.attribute1)`**   \n",
    "* Class names should be **Capitalised**  \n",
    "* **Attribute** = variable of any type that belongs to or is declared directly in a class  \n",
    "* Attributes are always public and accessed by using dot (.) operator e.g.; className.attribute1  \n",
    "* **Parameter** = temporary variable names within functions, placeholders for the argument it is passed  \n",
    "* **Argument** = value that is assigned to that temporary variable"
   ]
  },
  {
   "cell_type": "code",
   "execution_count": 51,
   "metadata": {},
   "outputs": [],
   "source": [
    "# example instantiating a class \n",
    "# note American spelling of colour / color is so the drawCircle method works with imported library (see below)\n",
    "  \n",
    "class Circle(object):           # defining a class using keyword \"class\" followed by name (in this case \"circle\")\n",
    "                                # class name should be Captalised  \n",
    "                                # must include colon\n",
    "                                # \"object\" is the class parent\n",
    "        \n",
    "    # help() description is enclosed in triple quotes    \n",
    "    \"\"\"Creates a circle object with parameters 'radius', and 'color'\n",
    "    default values are radius = 3, and color = 'blue'\"\"\"\n",
    "        \n",
    "    # special method __init__ is a constructor which allows the class to initialize the \n",
    "    # attributes of the class when an object is created\n",
    "    def __init__(self, radius=3, color=\"blue\"):        # __init__ must have double underscores either side\n",
    "        self.radius = radius                            # attributes here are \"radius\", and \"color\"\n",
    "        self.color = color                            # optional defaults set with \"=\"\n",
    "                                                # the keyword \"self\" binds the attributes with the given argument\n",
    "            \n",
    "    \n",
    "    # define a method within the class\n",
    "    def add_radius(self, r):            # name of the method \"add_radius\", along with self, and any parameters\n",
    "        self.radius = self.radius + r   # defining what is to be done when the method is called\n",
    "        return(self.radius)             # defining what is to be returned after method is called\n",
    "        \n",
    "        \n",
    "    # method for displaying the created circle objects \n",
    "    def drawCircle(self):\n",
    "        plt.gca().add_patch(plt.Circle((0, 0), radius=self.radius, fc=self.color))\n",
    "        plt.axis('scaled')\n",
    "        plt.show() "
   ]
  },
  {
   "cell_type": "code",
   "execution_count": 52,
   "metadata": {},
   "outputs": [
    {
     "name": "stdout",
     "output_type": "stream",
     "text": [
      "Help on class Circle in module __main__:\n",
      "\n",
      "class Circle(builtins.object)\n",
      " |  Circle(radius=3, color='blue')\n",
      " |  \n",
      " |  Creates a circle object with parameters 'radius', and 'color'\n",
      " |  default values are radius = 3, and color = 'blue'\n",
      " |  \n",
      " |  Methods defined here:\n",
      " |  \n",
      " |  __init__(self, radius=3, color='blue')\n",
      " |      Initialize self.  See help(type(self)) for accurate signature.\n",
      " |  \n",
      " |  add_radius(self, r)\n",
      " |      # define a method within the class\n",
      " |  \n",
      " |  drawCircle(self)\n",
      " |      # method for displaying the created circle objects\n",
      " |  \n",
      " |  ----------------------------------------------------------------------\n",
      " |  Data descriptors defined here:\n",
      " |  \n",
      " |  __dict__\n",
      " |      dictionary for instance variables (if defined)\n",
      " |  \n",
      " |  __weakref__\n",
      " |      list of weak references to the object (if defined)\n",
      "\n"
     ]
    }
   ],
   "source": [
    "help(Circle)"
   ]
  },
  {
   "cell_type": "code",
   "execution_count": 53,
   "metadata": {},
   "outputs": [],
   "source": [
    "# importing the library to be able to draw the objects\n",
    "# only works when attribute colour / color is defined using American spelling \"color\"\n",
    "\n",
    "import matplotlib.pyplot as plt\n",
    "%matplotlib inline  "
   ]
  },
  {
   "cell_type": "markdown",
   "metadata": {},
   "source": [
    "**objects**:  \n",
    "\n",
    "* An object is an instance of a class. A class is like a blueprint while an instance is a copy of the class with actual values. It’s not an idea anymore  \n",
    "* An object consists of :  \n",
    "    **Identity** : It gives a **unique name** to an object and enables one object to interact with other objects  \n",
    "    **State** : It is represented by **attributes** of an object. It also reflects the properties of an object  \n",
    "    **Behavior** : It is represented by **methods** of an object. It also reflects the response of an object with other objects  "
   ]
  },
  {
   "cell_type": "markdown",
   "metadata": {},
   "source": [
    "**creating** an object:  \n",
    "\n",
    "**`objVar_Name = ClassName(attribute1_value, attribute2_value)`**  \n",
    "* Object constructor consists of the name of the class as well as the parameters to be passed  "
   ]
  },
  {
   "cell_type": "code",
   "execution_count": 54,
   "metadata": {},
   "outputs": [],
   "source": [
    "#example of creating an object redCircle\n",
    "\n",
    "redCircle = Circle(10, \"red\")"
   ]
  },
  {
   "cell_type": "markdown",
   "metadata": {},
   "source": [
    "**dir** function:  \n",
    "\n",
    "**`dir(objVar_Name)`**  \n",
    "* This returns a list of the attributes and methods of the named object  "
   ]
  },
  {
   "cell_type": "code",
   "execution_count": 55,
   "metadata": {},
   "outputs": [
    {
     "data": {
      "text/plain": [
       "['__class__',\n",
       " '__delattr__',\n",
       " '__dict__',\n",
       " '__dir__',\n",
       " '__doc__',\n",
       " '__eq__',\n",
       " '__format__',\n",
       " '__ge__',\n",
       " '__getattribute__',\n",
       " '__gt__',\n",
       " '__hash__',\n",
       " '__init__',\n",
       " '__init_subclass__',\n",
       " '__le__',\n",
       " '__lt__',\n",
       " '__module__',\n",
       " '__ne__',\n",
       " '__new__',\n",
       " '__reduce__',\n",
       " '__reduce_ex__',\n",
       " '__repr__',\n",
       " '__setattr__',\n",
       " '__sizeof__',\n",
       " '__str__',\n",
       " '__subclasshook__',\n",
       " '__weakref__',\n",
       " 'add_radius',\n",
       " 'color',\n",
       " 'drawCircle',\n",
       " 'radius']"
      ]
     },
     "execution_count": 55,
     "metadata": {},
     "output_type": "execute_result"
    }
   ],
   "source": [
    "# example of finding which methods can be used on the object redCircle\n",
    "\n",
    "dir(redCircle)"
   ]
  },
  {
   "cell_type": "markdown",
   "metadata": {},
   "source": [
    "**accessing attribute** values:  \n",
    "\n",
    "**`objVar_Name.attributeName`**  \n",
    "* This will display the current value of the attribute stored for the object  "
   ]
  },
  {
   "cell_type": "code",
   "execution_count": 56,
   "metadata": {},
   "outputs": [
    {
     "data": {
      "text/plain": [
       "10"
      ]
     },
     "execution_count": 56,
     "metadata": {},
     "output_type": "execute_result"
    }
   ],
   "source": [
    "# example obtaining the object attribute radius\n",
    "\n",
    "redCircle.radius"
   ]
  },
  {
   "cell_type": "markdown",
   "metadata": {},
   "source": [
    "**changing data attributes** directly:  \n",
    "\n",
    "**`objVar_Name.attributeName = new_AttributeValue`**  \n",
    "* This will set a new value of the attribute for the object  "
   ]
  },
  {
   "cell_type": "code",
   "execution_count": 57,
   "metadata": {},
   "outputs": [
    {
     "data": {
      "text/plain": [
       "1"
      ]
     },
     "execution_count": 57,
     "metadata": {},
     "output_type": "execute_result"
    }
   ],
   "source": [
    "# Set the object attribute radius\n",
    "\n",
    "redCircle.radius = 1\n",
    "redCircle.radius"
   ]
  },
  {
   "cell_type": "markdown",
   "metadata": {},
   "source": [
    "**methods**:  \n",
    "\n",
    "* Methods are called by its name, but it's associated to an object (**dependent**)  \n",
    "* A method is **implicitly passed to the object** on which it is invoked  \n",
    "* It **may or may not** return any data  \n",
    "* Methods can operate on the data (instance variables) that is contained by the corresponding class"
   ]
  },
  {
   "cell_type": "markdown",
   "metadata": {},
   "source": [
    "**difference between methods and functions**:  \n",
    "\n",
    "* Functions and Methods both look similar as they perform in almost similar ways, but the key difference is the concept of **‘Class and its Object‘**  \n",
    "* Functions can be called only by its name, as it is defined independently  \n",
    "* Methods can’t be called by its name only, we need to invoke the class by a reference of that class in which it is defined, i.e., method is defined within a class and hence they are dependent on that class  "
   ]
  },
  {
   "cell_type": "markdown",
   "metadata": {},
   "source": [
    "**calling** a method:  \n",
    "\n",
    "**`objVar_Name.meth_Name(argument)`**  \n",
    "* This will call the method named and change or interact with the data attributes stored for the object as denoted by the method code block  \n",
    "* **Without parentheses** will return method **parameter format**  "
   ]
  },
  {
   "cell_type": "code",
   "execution_count": 58,
   "metadata": {},
   "outputs": [
    {
     "name": "stdout",
     "output_type": "stream",
     "text": [
      "Radius of object: 1\n",
      "Radius of object of after applying the method add_radius(2): 3\n",
      "Radius of object of after applying the method add_radius(5): 8\n"
     ]
    }
   ],
   "source": [
    "# example using a method to change the object attributes\n",
    "\n",
    "# print original attribute \"radius\" value\n",
    "print(\"Radius of object:\", redCircle.radius)\n",
    "\n",
    "# use method to add 2 to value\n",
    "redCircle.add_radius(2)\n",
    "\n",
    "# print new attribute value\n",
    "print(\"Radius of object of after applying the method add_radius(2):\", redCircle.radius)\n",
    "\n",
    "# use method to add 5 to value\n",
    "redCircle.add_radius(5)\n",
    "\n",
    "# print new attribute value\n",
    "print(\"Radius of object of after applying the method add_radius(5):\", redCircle.radius)"
   ]
  },
  {
   "cell_type": "code",
   "execution_count": 59,
   "metadata": {},
   "outputs": [
    {
     "data": {
      "image/png": "[encoded data removed]",
      "text/plain": [
       "<Figure size 432x288 with 1 Axes>"
      ]
     },
     "metadata": {
      "needs_background": "light"
     },
     "output_type": "display_data"
    }
   ],
   "source": [
    "# call method drawCircle to display object\n",
    "\n",
    "redCircle.drawCircle()"
   ]
  },
  {
   "cell_type": "markdown",
   "metadata": {},
   "source": [
    "[<p style=\"text-align: right;\">**⬆ Table of Contents ⬆**</p>](#Python-Notes!)"
   ]
  },
  {
   "cell_type": "markdown",
   "metadata": {},
   "source": [
    "---"
   ]
  },
  {
   "cell_type": "code",
   "execution_count": null,
   "metadata": {},
   "outputs": [],
   "source": []
  },
  {
   "cell_type": "markdown",
   "metadata": {},
   "source": [
    "[<p style=\"text-align: right;\">**⬆ Table of Contents ⬆**</p>](#Python-Notes!)"
   ]
  },
  {
   "cell_type": "code",
   "execution_count": null,
   "metadata": {},
   "outputs": [],
   "source": []
  }
 ],
 "metadata": {
  "kernelspec": {
   "display_name": "Python 3",
   "language": "python",
   "name": "python3"
  },
  "language_info": {
   "codemirror_mode": {
    "name": "ipython",
    "version": 3
   },
   "file_extension": ".py",
   "mimetype": "text/x-python",
   "name": "python",
   "nbconvert_exporter": "python",
   "pygments_lexer": "ipython3",
   "version": "3.7.6"
  }
 },
 "nbformat": 4,
 "nbformat_minor": 4
}
