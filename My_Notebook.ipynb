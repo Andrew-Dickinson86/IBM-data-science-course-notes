{
 "cells": [
  {
   "cell_type": "code",
   "execution_count": 3,
   "metadata": {},
   "outputs": [
    {
     "data": {
      "text/plain": [
       "2"
      ]
     },
     "execution_count": 3,
     "metadata": {},
     "output_type": "execute_result"
    }
   ],
   "source": [
    "1 + 1"
   ]
  },
  {
   "cell_type": "markdown",
   "metadata": {},
   "source": [
    "My Title"
   ]
  },
  {
   "cell_type": "markdown",
   "metadata": {},
   "source": [
    "<a href=https://www.cognitiveclass.ai>Cognitive Class</a>"
   ]
  },
  {
   "cell_type": "markdown",
   "metadata": {},
   "source": [
    "# Header 1"
   ]
  },
  {
   "cell_type": "code",
   "execution_count": null,
   "metadata": {},
   "outputs": [],
   "source": []
  },
  {
   "cell_type": "markdown",
   "metadata": {},
   "source": [
    "## Markdown Cheatsheet"
   ]
  },
  {
   "cell_type": "markdown",
   "metadata": {},
   "source": [
    "<a href=https://github.com/adam-p/markdown-here/wiki/Markdown-Cheatsheet>Cheatsheet</a>"
   ]
  },
  {
   "cell_type": "markdown",
   "metadata": {},
   "source": [
    "### Tables"
   ]
  },
  {
   "cell_type": "markdown",
   "metadata": {},
   "source": [
    "Markdown | Less | Pretty\n",
    "--- | --- | ---\n",
    "*Still* | 'renders' | **nicely**\n",
    "1 | 2 | 3"
   ]
  },
  {
   "cell_type": "markdown",
   "metadata": {},
   "source": [
    "### Lists"
   ]
  },
  {
   "cell_type": "markdown",
   "metadata": {},
   "source": [
    "1. has to have space then something written after number to initiate list\n",
    "3. another item and note number of item, this is an ordered list\n",
    "* has to have something written after * to bullet point\n",
    "+ unordered lists can be written with '*', '+', or '-*\n",
    "\n",
    " line indent with a space above and at beginning of line  \n",
    " next line is initiated with 2x spaces at end of above line, note spaces before  'this word'"
   ]
  },
  {
   "cell_type": "markdown",
   "metadata": {},
   "source": [
    "### Images"
   ]
  },
  {
   "cell_type": "markdown",
   "metadata": {},
   "source": [
    "! at beginning followed by [with no spaces in front of first bracket] followed by: (this sort of brackets after if writting in link here - ensure address is for image, leave a space then write hover title in \"\") or [this sort if referencing]\n",
    "\n",
    "![](https://image.freepik.com/free-vector/color-wing-transparent-set_1284-8933.jpg \"Hover Title\")\n",
    "\n",
    "![][link]\n",
    "\n",
    "[link]: https://encrypted-tbn0.gstatic.com/images?q=tbn:ANd9GcTOe_dS6GJe2uYI6Qie6IKEQjTQhl5xRxpxIhRr6mO2i_LoAwZ7 \"Hover Title 2\""
   ]
  }
 ],
 "metadata": {
  "kernelspec": {
   "display_name": "R",
   "language": "R",
   "name": "conda-env-r-r"
  },
  "language_info": {
   "codemirror_mode": "r",
   "file_extension": ".r",
   "mimetype": "text/x-r-source",
   "name": "R",
   "pygments_lexer": "r",
   "version": "3.5.1"
  }
 },
 "nbformat": 4,
 "nbformat_minor": 4
}
